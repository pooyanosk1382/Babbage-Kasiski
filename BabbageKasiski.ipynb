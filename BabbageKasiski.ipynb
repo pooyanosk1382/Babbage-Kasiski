{
 "cells": [
  {
   "cell_type": "code",
   "execution_count": 16,
   "outputs": [],
   "source": [
    "# This code is developed by Pooyan :D"
   ],
   "metadata": {
    "collapsed": false,
    "pycharm": {
     "name": "#%%\n"
    }
   }
  },
  {
   "cell_type": "markdown",
   "source": [
    "# What is our goal?\n",
    "In this file we will try to decrypt the cipher text by Babbage-Kasiski test."
   ],
   "metadata": {
    "collapsed": false,
    "pycharm": {
     "name": "#%% md\n"
    }
   }
  },
  {
   "cell_type": "markdown",
   "source": [
    "# What is Babbage-Kasiski test?\n",
    "The Kasiski examination involves __looking for strings of characters that are repeated in the ciphertext__. The strings should be three characters long or more for the examination to be successful. Then, the distances between consecutive occurrences of the strings are likely to be multiples of the length of the keyword."
   ],
   "metadata": {
    "collapsed": false,
    "pycharm": {
     "name": "#%% md\n"
    }
   }
  },
  {
   "cell_type": "markdown",
   "source": [
    "# How we work?\n",
    "First, we will calculate the number of three letters combination. After that we will start Babbage-Kasiski test."
   ],
   "metadata": {
    "collapsed": false,
    "pycharm": {
     "name": "#%% md\n"
    }
   }
  },
  {
   "cell_type": "code",
   "execution_count": 17,
   "outputs": [
    {
     "name": "stdout",
     "output_type": "stream",
     "text": [
      "1378\n"
     ]
    }
   ],
   "source": [
    "import math\n",
    "\n",
    "f = open('cipherText.txt', 'r')\n",
    "txt = f.read()\n",
    "print(txt.__len__())"
   ],
   "metadata": {
    "collapsed": false,
    "pycharm": {
     "name": "#%%\n"
    }
   }
  },
  {
   "cell_type": "code",
   "execution_count": 18,
   "outputs": [
    {
     "name": "stdout",
     "output_type": "stream",
     "text": [
      "{'DBS': 1, 'BSR': 1, 'SRO': 1, 'ROS': 3, 'OSI': 3, 'SIH': 2, 'IHV': 6, 'HVC': 6, 'VCT': 4, 'CTZ': 1, 'TZD': 1, 'ZDG': 1, 'DGH': 1, 'GHR': 3, 'HRI': 4, 'RIZ': 1, 'IZE': 1, 'ZEC': 1, 'ECF': 1, 'CFR': 1, 'FRA': 1, 'RAA': 5, 'AAI': 2, 'AIH': 1, 'IHB': 1, 'HBC': 2, 'BCW': 1, 'CWG': 1, 'WGU': 1, 'GUS': 1, 'USO': 1, 'SOR': 1, 'ORU': 1, 'RUE': 1, 'UET': 1, 'ETG': 1, 'TGH': 2, 'GHD': 1, 'HDO': 3, 'DOE': 3, 'OEI': 3, 'EIH': 2, 'HVG': 2, 'VGS': 2, 'GSG': 3, 'SGT': 1, 'GTR': 1, 'TRW': 1, 'RWR': 1, 'WRI': 1, 'RIB': 2, 'IBC': 3, 'BCH': 3, 'CHW': 1, 'HWQ': 1, 'WQT': 2, 'QTG': 2, 'TGW': 3, 'GWS': 5, 'WSH': 2, 'SHS': 1, 'HSS': 2, 'SSR': 1, 'SRI': 1, 'RIC': 1, 'ICT': 1, 'CTR': 2, 'TRS': 1, 'RSN': 3, 'SNV': 3, 'NVS': 4, 'VSH': 3, 'SHD': 1, 'EIQ': 1, 'IQF': 3, 'QFW': 2, 'FWP': 2, 'WPG': 2, 'PGD': 2, 'GDU': 2, 'DUF': 2, 'UFY': 2, 'FYP': 2, 'YPU': 2, 'PUX': 2, 'UXQ': 2, 'XQL': 1, 'QLC': 1, 'LCX': 1, 'CXN': 1, 'XNB': 1, 'NBD': 1, 'BDZ': 3, 'DZC': 2, 'ZCS': 1, 'CSG': 2, 'SGP': 1, 'GPB': 1, 'PBR': 2, 'BRR': 1, 'RRH': 2, 'RHB': 1, 'HBB': 1, 'BBS': 1, 'BSK': 1, 'SKM': 1, 'KMR': 1, 'MRX': 1, 'RXI': 1, 'XIO': 1, 'IOG': 1, 'OGQ': 1, 'GQI': 1, 'QIT': 2, 'ITC': 3, 'TCA': 1, 'CAS': 2, 'ASL': 2, 'SLT': 1, 'LTF': 1, 'TFW': 1, 'FWH': 2, 'WHG': 1, 'HGY': 1, 'GYG': 1, 'YGR': 1, 'GRI': 1, 'RIW': 1, 'IWG': 1, 'WGR': 1, 'GRA': 4, 'AIC': 1, 'ICD': 1, 'CDC': 1, 'DCN': 2, 'CNT': 1, 'NTH': 1, 'THC': 2, 'HCI': 1, 'CIP': 1, 'IPC': 1, 'PCR': 1, 'CRU': 1, 'RUH': 1, 'UHA': 1, 'HAS': 1, 'SLG': 1, 'LGX': 1, 'GXD': 1, 'XDZ': 1, 'DZY': 1, 'ZYT': 1, 'YTS': 1, 'TSD': 2, 'SDF': 2, 'DFA': 1, 'FAD': 1, 'ADT': 1, 'DTS': 1, 'TSG': 1, 'SGS': 1, 'GSS': 1, 'SSU': 1, 'SUA': 1, 'UAE': 2, 'AET': 2, 'ETH': 3, 'THD': 2, 'HDY': 1, 'DYC': 1, 'YCX': 1, 'CXV': 1, 'XVL': 1, 'VLO': 1, 'LOE': 1, 'OEE': 1, 'EEG': 1, 'EGI': 1, 'GIV': 4, 'IVO': 2, 'VOR': 2, 'ORT': 2, 'RTV': 1, 'TVB': 1, 'VBD': 1, 'ZCM': 1, 'CMR': 1, 'MRC': 1, 'RCH': 3, 'CHG': 2, 'HGR': 4, 'RAG': 4, 'AGK': 1, 'GKS': 1, 'KSF': 1, 'SFW': 1, 'FWT': 1, 'WTC': 1, 'TCD': 1, 'CDK': 1, 'DKS': 1, 'KSP': 1, 'SPF': 1, 'PFH': 1, 'FHA': 1, 'HAT': 2, 'ATH': 1, 'HDL': 1, 'DLR': 1, 'LRM': 1, 'RMW': 1, 'MWP': 1, 'WPJ': 1, 'PJE': 1, 'JES': 2, 'ESI': 2, 'SIO': 2, 'IOB': 4, 'OBB': 3, 'BBT': 3, 'BTR': 1, 'TRP': 1, 'RPG': 1, 'PGW': 1, 'GWJ': 1, 'WJY': 1, 'JYG': 1, 'YGA': 1, 'GAS': 1, 'ASO': 1, 'SOP': 1, 'OPN': 1, 'PNR': 1, 'NRS': 1, 'RSH': 1, 'SHA': 1, 'HAY': 3, 'AYT': 1, 'YTU': 1, 'TUT': 1, 'UTA': 1, 'TAO': 1, 'AOR': 2, 'ORI': 1, 'RIP': 1, 'IPH': 1, 'PHH': 2, 'HHO': 2, 'HOL': 1, 'OLD': 1, 'LDG': 1, 'DGR': 1, 'GRC': 2, 'RCA': 3, 'CAN': 3, 'ANU': 3, 'NUG': 3, 'UGT': 3, 'GTF': 3, 'TFL': 1, 'FLY': 1, 'LYL': 1, 'YLT': 1, 'LTT': 1, 'TTP': 1, 'TPF': 1, 'PFY': 1, 'FYT': 2, 'YTF': 1, 'TFN': 1, 'FNG': 1, 'NGH': 2, 'GHC': 1, 'HCM': 2, 'CMU': 1, 'MUI': 1, 'UII': 1, 'IIB': 1, 'IBJ': 1, 'BJI': 1, 'JIX': 1, 'IXT': 1, 'XTH': 1, 'THQ': 1, 'HQM': 1, 'QMM': 1, 'MMC': 1, 'MCT': 2, 'CTH': 2, 'THW': 1, 'HWL': 4, 'WLG': 3, 'LGG': 3, 'GGH': 2, 'GHM': 1, 'HMG': 3, 'MGR': 1, 'GRE': 1, 'REZ': 1, 'EZH': 1, 'ZHH': 1, 'HHP': 1, 'HPQ': 1, 'PQU': 1, 'QUP': 1, 'UPW': 1, 'PWH': 2, 'WHO': 1, 'HOQ': 1, 'OQT': 2, 'QTZ': 1, 'TZP': 3, 'ZPH': 3, 'PHV': 2, 'VCM': 2, 'CMN': 2, 'MNI': 2, 'NIW': 2, 'IWQ': 2, 'WQY': 2, 'QYF': 1, 'YFG': 1, 'FGB': 1, 'GBO': 2, 'BOD': 1, 'ODJ': 1, 'DJE': 1, 'BTZ': 1, 'PHZ': 1, 'HZY': 1, 'ZYB': 1, 'YBP': 1, 'BPU': 1, 'PUL': 1, 'ULH': 1, 'LHF': 1, 'HFE': 1, 'FEE': 1, 'EET': 1, 'THO': 1, 'HOP': 1, 'OPE': 1, 'PEG': 1, 'EGC': 1, 'GCC': 1, 'CCH': 1, 'CHJ': 1, 'HJI': 1, 'JIP': 2, 'IPT': 1, 'PTB': 2, 'TBG': 1, 'BGG': 1, 'GGN': 1, 'GNT': 1, 'NTI': 1, 'TIO': 1, 'IOU': 1, 'OUP': 1, 'UPE': 1, 'PER': 1, 'ERB': 1, 'RBS': 1, 'BSB': 1, 'SBR': 2, 'BRS': 2, 'RSG': 3, 'SGD': 1, 'GDF': 2, 'DFH': 2, 'FHD': 1, 'HDE': 1, 'DER': 1, 'ERH': 1, 'RHH': 2, 'HHW': 1, 'WLV': 1, 'LVB': 1, 'VBA': 1, 'BAJ': 1, 'AJS': 1, 'JSB': 1, 'SBH': 1, 'BHG': 2, 'HGI': 2, 'IVI': 1, 'VIQ': 1, 'QFG': 1, 'FGH': 1, 'GHO': 2, 'HOU': 3, 'OUC': 3, 'UCT': 3, 'CTP': 2, 'TPP': 4, 'PPB': 3, 'PBH': 3, 'BHZ': 2, 'HZE': 2, 'ZEG': 2, 'EGB': 1, 'BOR': 1, 'ORC': 1, 'RCT': 1, 'CTN': 1, 'TNK': 1, 'NKO': 1, 'KOW': 1, 'OWJ': 1, 'WJA': 1, 'JAO': 1, 'AOA': 3, 'OAS': 2, 'ASH': 5, 'SHM': 3, 'HMN': 1, 'MNK': 1, 'NKR': 1, 'KRC': 1, 'TFG': 2, 'FGR': 3, 'AAS': 3, 'SHB': 1, 'BCT': 1, 'CTJ': 1, 'TJD': 1, 'JDF': 1, 'DFY': 1, 'FYQ': 1, 'YQT': 1, 'QTN': 2, 'TNI': 1, 'NIH': 2, 'IHG': 2, 'HGA': 1, 'GAH': 1, 'AHB': 1, 'HBD': 1, 'DZT': 1, 'ZTR': 2, 'TRA': 3, 'SHG': 1, 'GRU': 1, 'RUQ': 1, 'UQT': 1, 'QTB': 1, 'TBH': 1, 'BHQ': 1, 'HQT': 2, 'QTP': 1, 'HGN': 1, 'GNQ': 1, 'NQX': 2, 'QXJ': 1, 'XJW': 1, 'JWB': 2, 'WBU': 1, 'BUN': 1, 'UNA': 1, 'NAZ': 1, 'AZM': 1, 'ZMR': 1, 'MRD': 1, 'RDB': 2, 'DBL': 2, 'BLB': 3, 'LBZ': 2, 'BZM': 2, 'ZMA': 2, 'MAQ': 2, 'AQI': 2, 'QIH': 1, 'CTF': 1, 'TFD': 1, 'FDT': 1, 'DTH': 2, 'THU': 1, 'HUA': 1, 'THH': 3, 'HHM': 2, 'HMX': 1, 'MXG': 1, 'XGW': 1, 'WSW': 1, 'SWP': 1, 'WPT': 1, 'TBL': 1, 'LBH': 1, 'BHN': 1, 'HNE': 1, 'NEE': 1, 'EEH': 1, 'EHC': 1, 'HCB': 1, 'CBY': 1, 'BYL': 1, 'YLG': 1, 'LGR': 1, 'GRF': 2, 'RFB': 1, 'FBG': 1, 'BGH': 1, 'GHI': 1, 'HIQ': 1, 'IQE': 2, 'QEG': 1, 'EGP': 1, 'GPH': 1, 'HHF': 3, 'HFO': 2, 'FOZ': 1, 'OZT': 1, 'ZTV': 1, 'TVH': 2, 'VHY': 1, 'HYN': 1, 'YNB': 1, 'NBI': 1, 'BIV': 1, 'IVS': 2, 'VSP': 1, 'SPT': 1, 'PTN': 1, 'TNS': 1, 'NSJ': 1, 'SJO': 1, 'JOL': 1, 'OLT': 1, 'LTN': 1, 'TNV': 1, 'HMF': 2, 'MFG': 1, 'FGJ': 1, 'GJG': 2, 'JGW': 1, 'GWL': 1, 'CTV': 2, 'VHH': 1, 'HHH': 1, 'HFA': 1, 'FAG': 1, 'AGM': 1, 'GMG': 1, 'MGH': 1, 'GHS': 4, 'HSD': 2, 'SDR': 4, 'DRC': 2, 'GRL': 1, 'RLR': 1, 'LRP': 1, 'RPF': 1, 'PFB': 1, 'FBR': 1, 'BRA': 1, 'AGE': 1, 'GEC': 1, 'ECK': 1, 'CKC': 1, 'KCR': 1, 'CRS': 1, 'RSJ': 1, 'SJZ': 1, 'JZT': 1, 'TRF': 1, 'RFY': 1, 'YTL': 1, 'TLW': 1, 'LWZ': 1, 'WZL': 1, 'ZLR': 1, 'LRI': 2, 'RIH': 1, 'IHC': 2, 'CML': 1, 'MLG': 1, 'LGI': 1, 'RTP': 1, 'EGJ': 1, 'JGS': 1, 'GSB': 1, 'SBT': 2, 'BTS': 1, 'FHT': 1, 'HTI': 1, 'TIE': 1, 'IEI': 1, 'EII': 1, 'IIO': 1, 'IOJ': 2, 'OJL': 1, 'JLL': 1, 'LLI': 1, 'LIO': 1, 'OBW': 1, 'BWT': 1, 'WTZ': 1, 'QYL': 1, 'YLK': 1, 'LKP': 1, 'KPD': 1, 'PDD': 2, 'DDJ': 1, 'DJI': 1, 'IPP': 1, 'PPH': 2, 'PHW': 1, 'HWM': 2, 'WMN': 2, 'MNS': 1, 'NSI': 1, 'SIB': 1, 'BCR': 1, 'CRT': 1, 'RTW': 1, 'TWJ': 1, 'WJG': 1, 'JGH': 1, 'HRC': 1, 'RCE': 2, 'CEN': 2, 'END': 2, 'NDH': 2, 'DHM': 2, 'MGE': 2, 'GEP': 2, 'EPD': 2, 'PDV': 2, 'DVW': 1, 'VWH': 1, 'WHK': 1, 'HKI': 1, 'KIV': 1, 'VSR': 1, 'SRU': 1, 'RUF': 1, 'UFT': 1, 'FTH': 1, 'HCD': 2, 'CDT': 2, 'DTF': 1, 'TFP': 1, 'FPU': 1, 'PUS': 1, 'USR': 1, 'SRC': 1, 'RCN': 1, 'CNC': 2, 'NCH': 2, 'CHA': 1, 'AYK': 1, 'YKR': 1, 'KRI': 1, 'RIO': 1, 'IOH': 2, 'OHQ': 1, 'HQI': 1, 'TCW': 1, 'CWT': 1, 'WTG': 1, 'TGC': 1, 'GCN': 1, 'CHH': 2, 'HHB': 1, 'HBI': 1, 'BIS': 1, 'ISU': 1, 'SUS': 1, 'USF': 1, 'SFC': 1, 'FCN': 1, 'CNP': 1, 'NPT': 1, 'PTH': 1, 'HMT': 1, 'MTG': 1, 'SHR': 2, 'HRE': 1, 'REN': 1, 'ENR': 1, 'NRV': 1, 'RVW': 1, 'VWL': 1, 'GGD': 1, 'GDT': 1, 'THR': 1, 'HRH': 4, 'RHR': 4, 'RIA': 1, 'IAO': 1, 'ORH': 1, 'HRB': 1, 'RBO': 1, 'BOH': 1, 'OHG': 1, 'HGC': 1, 'GCF': 1, 'CFM': 1, 'FMC': 1, 'TRC': 1, 'DVG': 1, 'VGC': 1, 'GCG': 1, 'CGP': 1, 'GPZ': 1, 'PZU': 1, 'ZUM': 1, 'UMR': 1, 'MRV': 1, 'RVI': 1, 'VIV': 1, 'IVA': 1, 'VAQ': 1, 'AQH': 1, 'QHG': 1, 'IVW': 1, 'VWQ': 1, 'QTO': 1, 'TOD': 1, 'ODC': 1, 'DCY': 1, 'CYR': 1, 'YRP': 1, 'RPE': 1, 'PED': 1, 'EDJ': 1, 'DJW': 1, 'WBE': 3, 'BEF': 1, 'EFI': 1, 'FIO': 3, 'OHJ': 1, 'HJA': 1, 'JAE': 1, 'AEV': 1, 'EVS': 1, 'SHL': 1, 'HLU': 1, 'LUZ': 1, 'UZQ': 1, 'ZQS': 1, 'QSF': 1, 'SFR': 1, 'FRO': 1, 'SIS': 1, 'ISL': 1, 'SLY': 2, 'LYM': 1, 'YMC': 1, 'MCA': 1, 'ASG': 1, 'SGR': 2, 'GRO': 1, 'HHS': 2, 'HSH': 1, 'MFK': 1, 'FKH': 1, 'KHO': 1, 'TPD': 1, 'PDJ': 1, 'DJS': 1, 'JSP': 1, 'SPI': 1, 'PIA': 1, 'IAV': 1, 'AVH': 1, 'VHA': 1, 'AYN': 1, 'YNL': 1, 'NLI': 1, 'LIQ': 1, 'XQH': 1, 'QHA': 1, 'HAO': 1, 'OAR': 1, 'ARS': 1, 'RSD': 1, 'DRS': 1, 'SGX': 3, 'GXB': 3, 'XBH': 3, 'BHY': 1, 'HYP': 1, 'YPC': 2, 'PCT': 2, 'CTB': 2, 'TBR': 2, 'BRG': 2, 'RGX': 2, 'GXG': 2, 'XGQ': 1, 'GQV': 1, 'QVL': 1, 'VLY': 1, 'LYP': 1, 'XGR': 1, 'GRH': 1, 'RHZ': 1, 'HZG': 1, 'ZGS': 1, 'SGH': 1, 'GHH': 1, 'HSV': 2, 'SVE': 1, 'VEE': 1, 'EER': 1, 'ERW': 1, 'RWG': 1, 'WGC': 1, 'GCS': 1, 'BHC': 1, 'HCA': 1, 'CAP': 1, 'APW': 1, 'WHC': 1, 'DTG': 1, 'WSG': 1, 'SGC': 1, 'GCT': 1, 'CTG': 2, 'TGD': 3, 'GDD': 1, 'DDW': 1, 'DWA': 1, 'WAT': 1, 'ATN': 1, 'TNG': 2, 'NGS': 1, 'GSO': 1, 'SOQ': 1, 'GDH': 2, 'DHS': 1, 'HSL': 1, 'SLA': 1, 'LAO': 1, 'RIG': 1, 'IGH': 1, 'HHR': 1, 'HRO': 1, 'ROG': 1, 'OGV': 1, 'GVO': 1, 'VOW': 1, 'OWL': 1, 'WLX': 1, 'LXU': 1, 'XUP': 1, 'UPB': 1, 'BRQ': 1, 'RQG': 1, 'QGB': 1, 'GBC': 1, 'CHS': 1, 'SVP': 1, 'VPR': 1, 'PRG': 1, 'RGW': 1, 'WSL': 1, 'SLC': 1, 'LCR': 1, 'CRI': 1, 'RIK': 1, 'IKW': 1, 'KWR': 1, 'WRH': 1, 'RHG': 1, 'RFM': 1, 'FMN': 1, 'MNT': 1, 'NTB': 1, 'TBV': 1, 'BVF': 1, 'VFO': 1, 'FON': 1, 'ONH': 1, 'NHV': 1, 'HVR': 3, 'VRH': 1, 'RHO': 1, 'HOJ': 1, 'OJG': 1, 'JGB': 1, 'GBG': 1, 'BGW': 1, 'GWH': 1, 'WHF': 1, 'HFM': 1, 'FMF': 1, 'MFW': 1, 'WHH': 1, 'HFI': 1, 'FIF': 1, 'IFI': 2, 'IOD': 1, 'ODN': 1, 'DNE': 1, 'NEA': 1, 'EAS': 1, 'ASW': 1, 'SWL': 1, 'WLR': 1, 'RIF': 1, 'OJY': 1, 'JYI': 1, 'YIY': 1, 'IYP': 1, 'YPP': 1, 'PPZ': 1, 'PZC': 1, 'ZCT': 1, 'DHW': 1, 'WLS': 1, 'LSG': 1, 'SGG': 1, 'GGI': 1, 'GIQ': 1, 'QEX': 1, 'EXG': 1, 'XGD': 1, 'DFG': 1, 'AGI': 1, 'GIH': 1, 'TVG': 1, 'VGQ': 1, 'GQH': 1, 'QHD': 1, 'SGQ': 1, 'GQC': 1, 'QCC': 1, 'CCI': 1, 'CIH': 1, 'HGP': 1, 'GPD': 1, 'DDC': 1, 'CNQ': 1, 'QXL': 1, 'XLH': 1, 'LHA': 1, 'ATV': 1, 'TVC': 1, 'VCQ': 1, 'CQZ': 1, 'QZS': 1, 'ZSD': 1, 'DRH': 1, 'HOR': 1, 'ORS': 1, 'RSR': 1, 'SRR': 1, 'RHW': 1, 'MNG': 1, 'NGD': 1, 'GDB': 1, 'DBH': 1, 'BHF': 1, 'FOJ': 1, 'OJI': 1, 'JIH': 1, 'HCR': 1, 'CRD': 1, 'QIO': 1, 'BTT': 1, 'TTT': 1, 'TTH': 1, 'THL': 1, 'HLQ': 1, 'LQT': 1, 'HSB': 1, 'BTJ': 1, 'TJX': 2, 'JXH': 2, 'XHV': 2, 'VRS': 2, 'VST': 2, 'STR': 2, 'AGH': 1, 'HSQ': 1, 'SQR': 1, 'QRI': 1, 'CHC': 1, 'HCL': 1, 'CLT': 1, 'LTC': 1, 'TCG': 1, 'CGC': 1, 'GCU': 1, 'CUP': 1, 'UPA': 1, 'PAZ': 1, 'AZB': 1, 'ZBW': 1, 'BWB': 1, 'BET': 2, 'ETJ': 1, 'SHW': 1, 'WLC': 1, 'LCY': 1, 'CYJ': 1, 'YJR': 1, 'JRS': 1, 'RSQ': 1, 'SQT': 1, 'QTR': 1, 'TRM': 1, 'RMS': 1, 'MSF': 1, 'SFA': 1, 'FAI': 1, 'AIF': 1, 'IFT': 1, 'FTG': 1, 'RHN': 1, 'HNI': 1, 'IHQ': 1, 'HQY': 1, 'QYN': 1, 'YNG': 1, 'NGQ': 1, 'GQS': 1, 'QSL': 1, 'LYS': 1, 'YSF': 1, 'SFX': 1, 'FXU': 1, 'XUB': 1, 'UBC': 1, 'BCD': 1, 'CDG': 1, 'DGI': 1, 'GIC': 1, 'ICH': 1, 'CHQ': 1, 'QTH': 1, 'THS': 1, 'SSB': 1, 'BHR': 1, 'RIT': 1, 'TCJ': 1, 'CJL': 1, 'JLB': 1, 'LBL': 1, 'BLW': 1, 'LWB': 1, 'ETP': 1, 'PHS': 1, 'HSE': 1, 'SEO': 1, 'EOE': 1, 'OEX': 1, 'EXS': 1, 'XSG': 1}\n"
     ]
    }
   ],
   "source": [
    "threeLetters = {}\n",
    "for i in range(2, 1378):\n",
    "    st = txt[i-2] + txt[i-1] + txt[i]\n",
    "    if threeLetters.get(st) is not None:\n",
    "        threeLetters.__setitem__(st, threeLetters.get(st) + 1)\n",
    "    else:\n",
    "        threeLetters.__setitem__(st, 1)\n",
    "print(threeLetters)"
   ],
   "metadata": {
    "collapsed": false,
    "pycharm": {
     "name": "#%%\n"
    }
   }
  },
  {
   "cell_type": "code",
   "execution_count": 19,
   "outputs": [
    {
     "data": {
      "text/plain": "[('IHV', 6),\n ('HVC', 6),\n ('RAA', 5),\n ('GWS', 5),\n ('ASH', 5),\n ('VCT', 4),\n ('HRI', 4),\n ('NVS', 4),\n ('GRA', 4),\n ('GIV', 4),\n ('HGR', 4),\n ('RAG', 4),\n ('IOB', 4),\n ('HWL', 4),\n ('TPP', 4),\n ('GHS', 4),\n ('SDR', 4),\n ('HRH', 4),\n ('RHR', 4),\n ('ROS', 3),\n ('OSI', 3),\n ('GHR', 3),\n ('HDO', 3),\n ('DOE', 3),\n ('OEI', 3),\n ('GSG', 3),\n ('IBC', 3),\n ('BCH', 3),\n ('TGW', 3),\n ('RSN', 3),\n ('SNV', 3),\n ('VSH', 3),\n ('IQF', 3),\n ('BDZ', 3),\n ('ITC', 3),\n ('ETH', 3),\n ('RCH', 3),\n ('OBB', 3),\n ('BBT', 3),\n ('HAY', 3),\n ('RCA', 3),\n ('CAN', 3),\n ('ANU', 3),\n ('NUG', 3),\n ('UGT', 3),\n ('GTF', 3),\n ('WLG', 3),\n ('LGG', 3),\n ('HMG', 3),\n ('TZP', 3),\n ('ZPH', 3),\n ('RSG', 3),\n ('HOU', 3),\n ('OUC', 3),\n ('UCT', 3),\n ('PPB', 3),\n ('PBH', 3),\n ('AOA', 3),\n ('SHM', 3),\n ('FGR', 3),\n ('AAS', 3),\n ('TRA', 3),\n ('BLB', 3),\n ('THH', 3),\n ('HHF', 3),\n ('WBE', 3),\n ('FIO', 3),\n ('SGX', 3),\n ('GXB', 3),\n ('XBH', 3),\n ('TGD', 3),\n ('HVR', 3),\n ('SIH', 2),\n ('AAI', 2),\n ('HBC', 2),\n ('TGH', 2),\n ('EIH', 2),\n ('HVG', 2),\n ('VGS', 2),\n ('RIB', 2),\n ('WQT', 2),\n ('QTG', 2),\n ('WSH', 2),\n ('HSS', 2),\n ('CTR', 2),\n ('QFW', 2),\n ('FWP', 2),\n ('WPG', 2),\n ('PGD', 2),\n ('GDU', 2),\n ('DUF', 2),\n ('UFY', 2),\n ('FYP', 2),\n ('YPU', 2),\n ('PUX', 2),\n ('UXQ', 2),\n ('DZC', 2),\n ('CSG', 2),\n ('PBR', 2),\n ('RRH', 2),\n ('QIT', 2),\n ('CAS', 2),\n ('ASL', 2),\n ('FWH', 2),\n ('DCN', 2),\n ('THC', 2),\n ('TSD', 2),\n ('SDF', 2),\n ('UAE', 2),\n ('AET', 2),\n ('THD', 2),\n ('IVO', 2),\n ('VOR', 2),\n ('ORT', 2),\n ('CHG', 2),\n ('HAT', 2),\n ('JES', 2),\n ('ESI', 2),\n ('SIO', 2),\n ('AOR', 2),\n ('PHH', 2),\n ('HHO', 2),\n ('GRC', 2),\n ('FYT', 2),\n ('NGH', 2),\n ('HCM', 2),\n ('MCT', 2),\n ('CTH', 2),\n ('GGH', 2),\n ('PWH', 2),\n ('OQT', 2),\n ('PHV', 2),\n ('VCM', 2),\n ('CMN', 2),\n ('MNI', 2),\n ('NIW', 2),\n ('IWQ', 2),\n ('WQY', 2),\n ('GBO', 2),\n ('JIP', 2),\n ('PTB', 2),\n ('SBR', 2),\n ('BRS', 2),\n ('GDF', 2),\n ('DFH', 2),\n ('RHH', 2),\n ('BHG', 2),\n ('HGI', 2),\n ('GHO', 2),\n ('CTP', 2),\n ('BHZ', 2),\n ('HZE', 2),\n ('ZEG', 2),\n ('OAS', 2),\n ('TFG', 2),\n ('QTN', 2),\n ('NIH', 2),\n ('IHG', 2),\n ('ZTR', 2),\n ('HQT', 2),\n ('NQX', 2),\n ('JWB', 2),\n ('RDB', 2),\n ('DBL', 2),\n ('LBZ', 2),\n ('BZM', 2),\n ('ZMA', 2),\n ('MAQ', 2),\n ('AQI', 2),\n ('DTH', 2),\n ('HHM', 2),\n ('GRF', 2),\n ('IQE', 2),\n ('HFO', 2),\n ('TVH', 2),\n ('IVS', 2),\n ('HMF', 2),\n ('GJG', 2),\n ('CTV', 2),\n ('HSD', 2),\n ('DRC', 2),\n ('LRI', 2),\n ('IHC', 2),\n ('SBT', 2),\n ('IOJ', 2),\n ('PDD', 2),\n ('PPH', 2),\n ('HWM', 2),\n ('WMN', 2),\n ('RCE', 2),\n ('CEN', 2),\n ('END', 2),\n ('NDH', 2),\n ('DHM', 2),\n ('MGE', 2),\n ('GEP', 2),\n ('EPD', 2),\n ('PDV', 2),\n ('HCD', 2),\n ('CDT', 2),\n ('CNC', 2),\n ('NCH', 2),\n ('IOH', 2),\n ('CHH', 2),\n ('SHR', 2),\n ('SLY', 2),\n ('SGR', 2),\n ('HHS', 2),\n ('YPC', 2),\n ('PCT', 2),\n ('CTB', 2),\n ('TBR', 2),\n ('BRG', 2),\n ('RGX', 2),\n ('GXG', 2),\n ('HSV', 2),\n ('CTG', 2),\n ('TNG', 2),\n ('GDH', 2),\n ('IFI', 2),\n ('TJX', 2),\n ('JXH', 2),\n ('XHV', 2),\n ('VRS', 2),\n ('VST', 2),\n ('STR', 2),\n ('BET', 2),\n ('DBS', 1),\n ('BSR', 1),\n ('SRO', 1),\n ('CTZ', 1),\n ('TZD', 1),\n ('ZDG', 1),\n ('DGH', 1),\n ('RIZ', 1),\n ('IZE', 1),\n ('ZEC', 1),\n ('ECF', 1),\n ('CFR', 1),\n ('FRA', 1),\n ('AIH', 1),\n ('IHB', 1),\n ('BCW', 1),\n ('CWG', 1),\n ('WGU', 1),\n ('GUS', 1),\n ('USO', 1),\n ('SOR', 1),\n ('ORU', 1),\n ('RUE', 1),\n ('UET', 1),\n ('ETG', 1),\n ('GHD', 1),\n ('SGT', 1),\n ('GTR', 1),\n ('TRW', 1),\n ('RWR', 1),\n ('WRI', 1),\n ('CHW', 1),\n ('HWQ', 1),\n ('SHS', 1),\n ('SSR', 1),\n ('SRI', 1),\n ('RIC', 1),\n ('ICT', 1),\n ('TRS', 1),\n ('SHD', 1),\n ('EIQ', 1),\n ('XQL', 1),\n ('QLC', 1),\n ('LCX', 1),\n ('CXN', 1),\n ('XNB', 1),\n ('NBD', 1),\n ('ZCS', 1),\n ('SGP', 1),\n ('GPB', 1),\n ('BRR', 1),\n ('RHB', 1),\n ('HBB', 1),\n ('BBS', 1),\n ('BSK', 1),\n ('SKM', 1),\n ('KMR', 1),\n ('MRX', 1),\n ('RXI', 1),\n ('XIO', 1),\n ('IOG', 1),\n ('OGQ', 1),\n ('GQI', 1),\n ('TCA', 1),\n ('SLT', 1),\n ('LTF', 1),\n ('TFW', 1),\n ('WHG', 1),\n ('HGY', 1),\n ('GYG', 1),\n ('YGR', 1),\n ('GRI', 1),\n ('RIW', 1),\n ('IWG', 1),\n ('WGR', 1),\n ('AIC', 1),\n ('ICD', 1),\n ('CDC', 1),\n ('CNT', 1),\n ('NTH', 1),\n ('HCI', 1),\n ('CIP', 1),\n ('IPC', 1),\n ('PCR', 1),\n ('CRU', 1),\n ('RUH', 1),\n ('UHA', 1),\n ('HAS', 1),\n ('SLG', 1),\n ('LGX', 1),\n ('GXD', 1),\n ('XDZ', 1),\n ('DZY', 1),\n ('ZYT', 1),\n ('YTS', 1),\n ('DFA', 1),\n ('FAD', 1),\n ('ADT', 1),\n ('DTS', 1),\n ('TSG', 1),\n ('SGS', 1),\n ('GSS', 1),\n ('SSU', 1),\n ('SUA', 1),\n ('HDY', 1),\n ('DYC', 1),\n ('YCX', 1),\n ('CXV', 1),\n ('XVL', 1),\n ('VLO', 1),\n ('LOE', 1),\n ('OEE', 1),\n ('EEG', 1),\n ('EGI', 1),\n ('RTV', 1),\n ('TVB', 1),\n ('VBD', 1),\n ('ZCM', 1),\n ('CMR', 1),\n ('MRC', 1),\n ('AGK', 1),\n ('GKS', 1),\n ('KSF', 1),\n ('SFW', 1),\n ('FWT', 1),\n ('WTC', 1),\n ('TCD', 1),\n ('CDK', 1),\n ('DKS', 1),\n ('KSP', 1),\n ('SPF', 1),\n ('PFH', 1),\n ('FHA', 1),\n ('ATH', 1),\n ('HDL', 1),\n ('DLR', 1),\n ('LRM', 1),\n ('RMW', 1),\n ('MWP', 1),\n ('WPJ', 1),\n ('PJE', 1),\n ('BTR', 1),\n ('TRP', 1),\n ('RPG', 1),\n ('PGW', 1),\n ('GWJ', 1),\n ('WJY', 1),\n ('JYG', 1),\n ('YGA', 1),\n ('GAS', 1),\n ('ASO', 1),\n ('SOP', 1),\n ('OPN', 1),\n ('PNR', 1),\n ('NRS', 1),\n ('RSH', 1),\n ('SHA', 1),\n ('AYT', 1),\n ('YTU', 1),\n ('TUT', 1),\n ('UTA', 1),\n ('TAO', 1),\n ('ORI', 1),\n ('RIP', 1),\n ('IPH', 1),\n ('HOL', 1),\n ('OLD', 1),\n ('LDG', 1),\n ('DGR', 1),\n ('TFL', 1),\n ('FLY', 1),\n ('LYL', 1),\n ('YLT', 1),\n ('LTT', 1),\n ('TTP', 1),\n ('TPF', 1),\n ('PFY', 1),\n ('YTF', 1),\n ('TFN', 1),\n ('FNG', 1),\n ('GHC', 1),\n ('CMU', 1),\n ('MUI', 1),\n ('UII', 1),\n ('IIB', 1),\n ('IBJ', 1),\n ('BJI', 1),\n ('JIX', 1),\n ('IXT', 1),\n ('XTH', 1),\n ('THQ', 1),\n ('HQM', 1),\n ('QMM', 1),\n ('MMC', 1),\n ('THW', 1),\n ('GHM', 1),\n ('MGR', 1),\n ('GRE', 1),\n ('REZ', 1),\n ('EZH', 1),\n ('ZHH', 1),\n ('HHP', 1),\n ('HPQ', 1),\n ('PQU', 1),\n ('QUP', 1),\n ('UPW', 1),\n ('WHO', 1),\n ('HOQ', 1),\n ('QTZ', 1),\n ('QYF', 1),\n ('YFG', 1),\n ('FGB', 1),\n ('BOD', 1),\n ('ODJ', 1),\n ('DJE', 1),\n ('BTZ', 1),\n ('PHZ', 1),\n ('HZY', 1),\n ('ZYB', 1),\n ('YBP', 1),\n ('BPU', 1),\n ('PUL', 1),\n ('ULH', 1),\n ('LHF', 1),\n ('HFE', 1),\n ('FEE', 1),\n ('EET', 1),\n ('THO', 1),\n ('HOP', 1),\n ('OPE', 1),\n ('PEG', 1),\n ('EGC', 1),\n ('GCC', 1),\n ('CCH', 1),\n ('CHJ', 1),\n ('HJI', 1),\n ('IPT', 1),\n ('TBG', 1),\n ('BGG', 1),\n ('GGN', 1),\n ('GNT', 1),\n ('NTI', 1),\n ('TIO', 1),\n ('IOU', 1),\n ('OUP', 1),\n ('UPE', 1),\n ('PER', 1),\n ('ERB', 1),\n ('RBS', 1),\n ('BSB', 1),\n ('SGD', 1),\n ('FHD', 1),\n ('HDE', 1),\n ('DER', 1),\n ('ERH', 1),\n ('HHW', 1),\n ('WLV', 1),\n ('LVB', 1),\n ('VBA', 1),\n ('BAJ', 1),\n ('AJS', 1),\n ('JSB', 1),\n ('SBH', 1),\n ('IVI', 1),\n ('VIQ', 1),\n ('QFG', 1),\n ('FGH', 1),\n ('EGB', 1),\n ('BOR', 1),\n ('ORC', 1),\n ('RCT', 1),\n ('CTN', 1),\n ('TNK', 1),\n ('NKO', 1),\n ('KOW', 1),\n ('OWJ', 1),\n ('WJA', 1),\n ('JAO', 1),\n ('HMN', 1),\n ('MNK', 1),\n ('NKR', 1),\n ('KRC', 1),\n ('SHB', 1),\n ('BCT', 1),\n ('CTJ', 1),\n ('TJD', 1),\n ('JDF', 1),\n ('DFY', 1),\n ('FYQ', 1),\n ('YQT', 1),\n ('TNI', 1),\n ('HGA', 1),\n ('GAH', 1),\n ('AHB', 1),\n ('HBD', 1),\n ('DZT', 1),\n ('SHG', 1),\n ('GRU', 1),\n ('RUQ', 1),\n ('UQT', 1),\n ('QTB', 1),\n ('TBH', 1),\n ('BHQ', 1),\n ('QTP', 1),\n ('HGN', 1),\n ('GNQ', 1),\n ('QXJ', 1),\n ('XJW', 1),\n ('WBU', 1),\n ('BUN', 1),\n ('UNA', 1),\n ('NAZ', 1),\n ('AZM', 1),\n ('ZMR', 1),\n ('MRD', 1),\n ('QIH', 1),\n ('CTF', 1),\n ('TFD', 1),\n ('FDT', 1),\n ('THU', 1),\n ('HUA', 1),\n ('HMX', 1),\n ('MXG', 1),\n ('XGW', 1),\n ('WSW', 1),\n ('SWP', 1),\n ('WPT', 1),\n ('TBL', 1),\n ('LBH', 1),\n ('BHN', 1),\n ('HNE', 1),\n ('NEE', 1),\n ('EEH', 1),\n ('EHC', 1),\n ('HCB', 1),\n ('CBY', 1),\n ('BYL', 1),\n ('YLG', 1),\n ('LGR', 1),\n ('RFB', 1),\n ('FBG', 1),\n ('BGH', 1),\n ('GHI', 1),\n ('HIQ', 1),\n ('QEG', 1),\n ('EGP', 1),\n ('GPH', 1),\n ('FOZ', 1),\n ('OZT', 1),\n ('ZTV', 1),\n ('VHY', 1),\n ('HYN', 1),\n ('YNB', 1),\n ('NBI', 1),\n ('BIV', 1),\n ('VSP', 1),\n ('SPT', 1),\n ('PTN', 1),\n ('TNS', 1),\n ('NSJ', 1),\n ('SJO', 1),\n ('JOL', 1),\n ('OLT', 1),\n ('LTN', 1),\n ('TNV', 1),\n ('MFG', 1),\n ('FGJ', 1),\n ('JGW', 1),\n ('GWL', 1),\n ('VHH', 1),\n ('HHH', 1),\n ('HFA', 1),\n ('FAG', 1),\n ('AGM', 1),\n ('GMG', 1),\n ('MGH', 1),\n ('GRL', 1),\n ('RLR', 1),\n ('LRP', 1),\n ('RPF', 1),\n ('PFB', 1),\n ('FBR', 1),\n ('BRA', 1),\n ('AGE', 1),\n ('GEC', 1),\n ('ECK', 1),\n ('CKC', 1),\n ('KCR', 1),\n ('CRS', 1),\n ('RSJ', 1),\n ('SJZ', 1),\n ('JZT', 1),\n ('TRF', 1),\n ('RFY', 1),\n ('YTL', 1),\n ('TLW', 1),\n ('LWZ', 1),\n ('WZL', 1),\n ('ZLR', 1),\n ('RIH', 1),\n ('CML', 1),\n ('MLG', 1),\n ('LGI', 1),\n ('RTP', 1),\n ('EGJ', 1),\n ('JGS', 1),\n ('GSB', 1),\n ('BTS', 1),\n ('FHT', 1),\n ('HTI', 1),\n ('TIE', 1),\n ('IEI', 1),\n ('EII', 1),\n ('IIO', 1),\n ('OJL', 1),\n ('JLL', 1),\n ('LLI', 1),\n ('LIO', 1),\n ('OBW', 1),\n ('BWT', 1),\n ('WTZ', 1),\n ('QYL', 1),\n ('YLK', 1),\n ('LKP', 1),\n ('KPD', 1),\n ('DDJ', 1),\n ('DJI', 1),\n ('IPP', 1),\n ('PHW', 1),\n ('MNS', 1),\n ('NSI', 1),\n ('SIB', 1),\n ('BCR', 1),\n ('CRT', 1),\n ('RTW', 1),\n ('TWJ', 1),\n ('WJG', 1),\n ('JGH', 1),\n ('HRC', 1),\n ('DVW', 1),\n ('VWH', 1),\n ('WHK', 1),\n ('HKI', 1),\n ('KIV', 1),\n ('VSR', 1),\n ('SRU', 1),\n ('RUF', 1),\n ('UFT', 1),\n ('FTH', 1),\n ('DTF', 1),\n ('TFP', 1),\n ('FPU', 1),\n ('PUS', 1),\n ('USR', 1),\n ('SRC', 1),\n ('RCN', 1),\n ('CHA', 1),\n ('AYK', 1),\n ('YKR', 1),\n ('KRI', 1),\n ('RIO', 1),\n ('OHQ', 1),\n ('HQI', 1),\n ('TCW', 1),\n ('CWT', 1),\n ('WTG', 1),\n ('TGC', 1),\n ('GCN', 1),\n ('HHB', 1),\n ('HBI', 1),\n ('BIS', 1),\n ('ISU', 1),\n ('SUS', 1),\n ('USF', 1),\n ('SFC', 1),\n ('FCN', 1),\n ('CNP', 1),\n ('NPT', 1),\n ('PTH', 1),\n ('HMT', 1),\n ('MTG', 1),\n ('HRE', 1),\n ('REN', 1),\n ('ENR', 1),\n ('NRV', 1),\n ('RVW', 1),\n ('VWL', 1),\n ('GGD', 1),\n ('GDT', 1),\n ('THR', 1),\n ('RIA', 1),\n ('IAO', 1),\n ('ORH', 1),\n ('HRB', 1),\n ('RBO', 1),\n ('BOH', 1),\n ('OHG', 1),\n ('HGC', 1),\n ('GCF', 1),\n ('CFM', 1),\n ('FMC', 1),\n ('TRC', 1),\n ('DVG', 1),\n ('VGC', 1),\n ('GCG', 1),\n ('CGP', 1),\n ('GPZ', 1),\n ('PZU', 1),\n ('ZUM', 1),\n ('UMR', 1),\n ('MRV', 1),\n ('RVI', 1),\n ('VIV', 1),\n ('IVA', 1),\n ('VAQ', 1),\n ('AQH', 1),\n ('QHG', 1),\n ('IVW', 1),\n ('VWQ', 1),\n ('QTO', 1),\n ('TOD', 1),\n ('ODC', 1),\n ('DCY', 1),\n ('CYR', 1),\n ('YRP', 1),\n ('RPE', 1),\n ('PED', 1),\n ('EDJ', 1),\n ('DJW', 1),\n ('BEF', 1),\n ('EFI', 1),\n ('OHJ', 1),\n ('HJA', 1),\n ('JAE', 1),\n ('AEV', 1),\n ('EVS', 1),\n ('SHL', 1),\n ('HLU', 1),\n ('LUZ', 1),\n ('UZQ', 1),\n ('ZQS', 1),\n ('QSF', 1),\n ('SFR', 1),\n ('FRO', 1),\n ('SIS', 1),\n ('ISL', 1),\n ('LYM', 1),\n ('YMC', 1),\n ('MCA', 1),\n ('ASG', 1),\n ('GRO', 1),\n ('HSH', 1),\n ('MFK', 1),\n ('FKH', 1),\n ('KHO', 1),\n ('TPD', 1),\n ('PDJ', 1),\n ('DJS', 1),\n ('JSP', 1),\n ('SPI', 1),\n ('PIA', 1),\n ('IAV', 1),\n ('AVH', 1),\n ('VHA', 1),\n ('AYN', 1),\n ('YNL', 1),\n ('NLI', 1),\n ('LIQ', 1),\n ('XQH', 1),\n ('QHA', 1),\n ('HAO', 1),\n ('OAR', 1),\n ('ARS', 1),\n ('RSD', 1),\n ('DRS', 1),\n ('BHY', 1),\n ('HYP', 1),\n ('XGQ', 1),\n ('GQV', 1),\n ('QVL', 1),\n ('VLY', 1),\n ('LYP', 1),\n ('XGR', 1),\n ('GRH', 1),\n ('RHZ', 1),\n ('HZG', 1),\n ('ZGS', 1),\n ('SGH', 1),\n ('GHH', 1),\n ('SVE', 1),\n ('VEE', 1),\n ('EER', 1),\n ('ERW', 1),\n ('RWG', 1),\n ('WGC', 1),\n ('GCS', 1),\n ('BHC', 1),\n ('HCA', 1),\n ('CAP', 1),\n ('APW', 1),\n ('WHC', 1),\n ('DTG', 1),\n ('WSG', 1),\n ('SGC', 1),\n ('GCT', 1),\n ('GDD', 1),\n ('DDW', 1),\n ('DWA', 1),\n ('WAT', 1),\n ('ATN', 1),\n ('NGS', 1),\n ('GSO', 1),\n ('SOQ', 1),\n ('DHS', 1),\n ('HSL', 1),\n ('SLA', 1),\n ('LAO', 1),\n ('RIG', 1),\n ('IGH', 1),\n ('HHR', 1),\n ('HRO', 1),\n ('ROG', 1),\n ('OGV', 1),\n ('GVO', 1),\n ('VOW', 1),\n ('OWL', 1),\n ('WLX', 1),\n ('LXU', 1),\n ('XUP', 1),\n ('UPB', 1),\n ('BRQ', 1),\n ('RQG', 1),\n ('QGB', 1),\n ('GBC', 1),\n ('CHS', 1),\n ('SVP', 1),\n ('VPR', 1),\n ('PRG', 1),\n ('RGW', 1),\n ('WSL', 1),\n ('SLC', 1),\n ('LCR', 1),\n ('CRI', 1),\n ('RIK', 1),\n ('IKW', 1),\n ('KWR', 1),\n ('WRH', 1),\n ('RHG', 1),\n ('RFM', 1),\n ('FMN', 1),\n ('MNT', 1),\n ('NTB', 1),\n ('TBV', 1),\n ('BVF', 1),\n ('VFO', 1),\n ('FON', 1),\n ('ONH', 1),\n ('NHV', 1),\n ('VRH', 1),\n ('RHO', 1),\n ('HOJ', 1),\n ('OJG', 1),\n ('JGB', 1),\n ('GBG', 1),\n ('BGW', 1),\n ('GWH', 1),\n ('WHF', 1),\n ('HFM', 1),\n ('FMF', 1),\n ('MFW', 1),\n ('WHH', 1),\n ('HFI', 1),\n ('FIF', 1),\n ('IOD', 1),\n ('ODN', 1),\n ('DNE', 1),\n ('NEA', 1),\n ('EAS', 1),\n ('ASW', 1),\n ('SWL', 1),\n ('WLR', 1),\n ('RIF', 1),\n ('OJY', 1),\n ('JYI', 1),\n ('YIY', 1),\n ('IYP', 1),\n ('YPP', 1),\n ('PPZ', 1),\n ('PZC', 1),\n ('ZCT', 1),\n ('DHW', 1),\n ('WLS', 1),\n ('LSG', 1),\n ('SGG', 1),\n ('GGI', 1),\n ('GIQ', 1),\n ('QEX', 1),\n ('EXG', 1),\n ('XGD', 1),\n ('DFG', 1),\n ('AGI', 1),\n ('GIH', 1),\n ('TVG', 1),\n ('VGQ', 1),\n ('GQH', 1),\n ('QHD', 1),\n ('SGQ', 1),\n ('GQC', 1),\n ('QCC', 1),\n ('CCI', 1),\n ('CIH', 1),\n ('HGP', 1),\n ('GPD', 1),\n ('DDC', 1),\n ('CNQ', 1),\n ('QXL', 1),\n ('XLH', 1),\n ('LHA', 1),\n ('ATV', 1),\n ('TVC', 1),\n ('VCQ', 1),\n ('CQZ', 1),\n ('QZS', 1),\n ('ZSD', 1),\n ('DRH', 1),\n ('HOR', 1),\n ('ORS', 1),\n ('RSR', 1),\n ('SRR', 1),\n ('RHW', 1),\n ('MNG', 1),\n ('NGD', 1),\n ('GDB', 1),\n ('DBH', 1),\n ('BHF', 1),\n ('FOJ', 1),\n ('OJI', 1),\n ('JIH', 1),\n ('HCR', 1),\n ('CRD', 1),\n ('QIO', 1),\n ('BTT', 1),\n ('TTT', 1),\n ('TTH', 1),\n ('THL', 1),\n ('HLQ', 1),\n ('LQT', 1),\n ('HSB', 1),\n ('BTJ', 1),\n ('AGH', 1),\n ('HSQ', 1),\n ('SQR', 1),\n ('QRI', 1),\n ('CHC', 1),\n ('HCL', 1),\n ('CLT', 1),\n ('LTC', 1),\n ('TCG', 1),\n ('CGC', 1),\n ('GCU', 1),\n ('CUP', 1),\n ('UPA', 1),\n ('PAZ', 1),\n ('AZB', 1),\n ('ZBW', 1),\n ('BWB', 1),\n ('ETJ', 1),\n ('SHW', 1),\n ('WLC', 1),\n ('LCY', 1),\n ('CYJ', 1),\n ('YJR', 1),\n ('JRS', 1),\n ...]"
     },
     "execution_count": 19,
     "metadata": {},
     "output_type": "execute_result"
    }
   ],
   "source": [
    "sorted(threeLetters.items(), key=lambda x : x[1], reverse=True)"
   ],
   "metadata": {
    "collapsed": false,
    "pycharm": {
     "name": "#%%\n"
    }
   }
  },
  {
   "cell_type": "code",
   "execution_count": 20,
   "outputs": [
    {
     "name": "stdout",
     "output_type": "stream",
     "text": [
      "start =  0\n",
      "6\n",
      "start =  9\n",
      "42\n",
      "start =  45\n",
      "516\n",
      "start =  519\n",
      "906\n",
      "start =  909\n",
      "1158\n",
      "start =  1161\n",
      "1170\n"
     ]
    }
   ],
   "source": [
    "indOfIHV = [0] * 6\n",
    "start = 0\n",
    "for i in range(6):\n",
    "    indOfIHV[i] = txt.index('IHV', start)\n",
    "    print(\"start = \", start)\n",
    "    start = indOfIHV[i] + 3\n",
    "    print(indOfIHV[i])"
   ],
   "metadata": {
    "collapsed": false,
    "pycharm": {
     "name": "#%%\n"
    }
   }
  },
  {
   "cell_type": "code",
   "execution_count": 21,
   "outputs": [
    {
     "data": {
      "text/plain": "[6, 42, 516, 906, 1158, 1170]"
     },
     "execution_count": 21,
     "metadata": {},
     "output_type": "execute_result"
    }
   ],
   "source": [
    "indOfIHV"
   ],
   "metadata": {
    "collapsed": false,
    "pycharm": {
     "name": "#%%\n"
    }
   }
  },
  {
   "cell_type": "markdown",
   "source": [
    "The ciphertext string IHV occurs in six places in the ciphertext, beginning at positions 6, 42, 516, 906, 1158, and 1170. The distances from the first occurrence to the other four occurrences are (respectively) 36, 510, 900, 1152, and 1164."
   ],
   "metadata": {
    "collapsed": false,
    "pycharm": {
     "name": "#%% md\n"
    }
   }
  },
  {
   "cell_type": "code",
   "execution_count": 22,
   "outputs": [
    {
     "data": {
      "text/plain": "6"
     },
     "execution_count": 22,
     "metadata": {},
     "output_type": "execute_result"
    }
   ],
   "source": [
    "size = math.gcd(36, 510, 900, 1152, 1164)\n",
    "size"
   ],
   "metadata": {
    "collapsed": false,
    "pycharm": {
     "name": "#%%\n"
    }
   }
  },
  {
   "cell_type": "code",
   "execution_count": 22,
   "outputs": [],
   "source": [],
   "metadata": {
    "collapsed": false,
    "pycharm": {
     "name": "#%%\n"
    }
   }
  }
 ],
 "metadata": {
  "kernelspec": {
   "display_name": "Python 3",
   "language": "python",
   "name": "python3"
  },
  "language_info": {
   "codemirror_mode": {
    "name": "ipython",
    "version": 2
   },
   "file_extension": ".py",
   "mimetype": "text/x-python",
   "name": "python",
   "nbconvert_exporter": "python",
   "pygments_lexer": "ipython2",
   "version": "2.7.6"
  }
 },
 "nbformat": 4,
 "nbformat_minor": 0
}