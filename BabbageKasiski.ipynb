{
 "cells": [
  {
   "cell_type": "code",
   "execution_count": 17,
   "outputs": [],
   "source": [
    "# This code is developed by Pooyan :D"
   ],
   "metadata": {
    "collapsed": false,
    "pycharm": {
     "name": "#%%\n"
    }
   }
  },
  {
   "cell_type": "markdown",
   "source": [
    "# What is our goal?\n",
    "In this file we will try to decrypt the cipher text by Babbage-Kasiski test."
   ],
   "metadata": {
    "collapsed": false,
    "pycharm": {
     "name": "#%% md\n"
    }
   }
  },
  {
   "cell_type": "markdown",
   "source": [
    "# What is Babbage-Kasiski test?\n",
    "The Kasiski examination involves __looking for strings of characters that are repeated in the ciphertext__. The strings should be three characters long or more for the examination to be successful. Then, the distances between consecutive occurrences of the strings are likely to be multiples of the length of the keyword."
   ],
   "metadata": {
    "collapsed": false,
    "pycharm": {
     "name": "#%% md\n"
    }
   }
  },
  {
   "cell_type": "markdown",
   "source": [
    "# How we work?\n",
    "First, we will calculate the number of three letters combination. After that we will start Babbage-Kasiski test."
   ],
   "metadata": {
    "collapsed": false,
    "pycharm": {
     "name": "#%% md\n"
    }
   }
  },
  {
   "cell_type": "code",
   "execution_count": 18,
   "outputs": [],
   "source": [
    "import math"
   ],
   "metadata": {
    "collapsed": false,
    "pycharm": {
     "name": "#%%\n"
    }
   }
  },
  {
   "cell_type": "code",
   "execution_count": 19,
   "outputs": [
    {
     "name": "stdout",
     "output_type": "stream",
     "text": [
      "27782\n"
     ]
    }
   ],
   "source": [
    "f = open('cipherText.txt', 'r')\n",
    "txt = f.read()\n",
    "print(txt.__len__())"
   ],
   "metadata": {
    "collapsed": false,
    "pycharm": {
     "name": "#%%\n"
    }
   }
  },
  {
   "cell_type": "code",
   "execution_count": 20,
   "outputs": [
    {
     "name": "stdout",
     "output_type": "stream",
     "text": [
      "{'WSZ': 1, 'SZJ': 1, 'ZJO': 1, 'JOG': 1, 'OGL': 1, 'GLV': 2, 'LVO': 1, 'VOR': 2, 'ORA': 1, 'RAF': 1, 'AFI': 3, 'FII': 1, 'IID': 1, 'IDR': 1, 'DRM': 1, 'RMN': 3, 'MNC': 1, 'NCM': 1, 'CMH': 1, 'MHF': 1, 'HFO': 1, 'FOJ': 1, 'OJI': 2, 'JIK': 2, 'IKO': 1, 'KOQ': 1, 'OQT': 2, 'QTL': 1, 'TLD': 2, 'LDI': 2, 'DIF': 1, 'IFR': 1, 'FRD': 1, 'RDN': 1, 'DNN': 1, 'NNM': 1, 'NMH': 1, 'MHB': 1, 'HBO': 2, 'BOG': 2, 'OGN': 1, 'GNC': 1, 'NCI': 2, 'CIR': 2, 'IRT': 1, 'RTU': 4, 'TUX': 3, 'UXB': 2, 'XBY': 2, 'BYR': 1, 'YRT': 1, 'TUP': 1, 'UPH': 1, 'PHH': 1, 'HHG': 4, 'HGT': 2, 'GTP': 1, 'TPP': 1, 'PPB': 1, 'PBH': 1, 'BHB': 1, 'OGI': 3, 'GIV': 2, 'IVW': 2, 'VWQ': 2, 'WQT': 2, 'QTC': 1, 'TCG': 2, 'CGC': 2, 'GCX': 1, 'CXC': 1, 'XCC': 1, 'CCG': 1, 'CGN': 1, 'GNL': 1, 'NLV': 1, 'LVG': 1, 'VGT': 1, 'GTO': 1, 'TOG': 1, 'OGC': 1, 'GCV': 1, 'CVR': 2, 'VRG': 2, 'RGB': 1, 'GBD': 1, 'BDR': 1, 'DRH': 1, 'RHR': 1, 'HRH': 3, 'RHN': 2, 'HNC': 1, 'NCY': 1, 'CYH': 2, 'YHW': 1, 'HWO': 3, 'WOH': 4, 'OHW': 2, 'HWH': 1, 'WHM': 1, 'HMC': 1, 'MCS': 2, 'CSS': 1, 'SSI': 2, 'SIM': 1, 'IMC': 1, 'CST': 2, 'STN': 1, 'TNG': 2, 'NGS': 1, 'GSH': 1, 'SHY': 4, 'HYT': 2, 'YTT': 2, 'TTG': 1, 'TGS': 1, 'GSO': 1, 'SOR': 1, 'ORT': 3, 'RTC': 1, 'GCU': 1, 'CUP': 2, 'UPA': 1, 'PAZ': 1, 'AZB': 1, 'ZBS': 1, 'BSF': 1, 'SFF': 1, 'FFX': 1, 'FXY': 1, 'XYN': 1, 'YNF': 1, 'NFW': 1, 'FWA': 1, 'WAS': 1, 'ASK': 1, 'SKA': 1, 'KAC': 1, 'ACC': 1, 'CCI': 1, 'CIF': 1, 'IFG': 1, 'FGX': 2, 'GXH': 3, 'XHK': 1, 'HKY': 2, 'KYS': 1, 'YSG': 1, 'SGV': 2, 'GVC': 3, 'VCB': 1, 'CBL': 1, 'BLA': 1, 'LAG': 3, 'AGV': 1, 'VCH': 1, 'CHC': 1, 'HCA': 1, 'CAF': 1, 'AFN': 1, 'FNH': 1, 'NHC': 1, 'HCL': 1, 'CLT': 1, 'LTL': 1, 'DIH': 1, 'IHL': 1, 'HLO': 2, 'LOG': 2, 'GIH': 2, 'IHC': 4, 'HCR': 3, 'CRH': 1, 'RHH': 2, 'HGH': 2, 'GHH': 1, 'HHW': 1, 'OHG': 1, 'GHT': 1, 'HTC': 2, 'TCE': 2, 'CEY': 2, 'EYX': 2, 'YXB': 2, 'XBU': 2, 'BUQ': 1, 'UQX': 1, 'QXO': 1, 'XOJ': 2, 'OJH': 1, 'JHH': 2, 'HGA': 1, 'GAZ': 1, 'AZI': 1, 'ZIC': 1, 'ICB': 1, 'CBJ': 1, 'BJY': 1, 'JYG': 1, 'YGV': 2, 'VCW': 1, 'CWL': 1, 'WLG': 2, 'LGG': 2, 'GGI': 1, 'GIC': 1, 'ICH': 1, 'CHE': 1, 'HEE': 1, 'EEG': 1, 'EGI': 1, 'IHV': 2, 'HVG': 3, 'VGS': 1, 'GSG': 1, 'SGD': 1, 'GDB': 2, 'DBS': 1, 'BSR': 1, 'SRC': 1, 'RCU': 1, 'UPB': 1, 'PBQ': 1, 'BQC': 1, 'QCT': 1, 'CTO': 1, 'TOH': 1, 'HWL': 2, 'WLR': 1, 'LRM': 2, 'RMV': 1, 'MVC': 1, 'VCI': 1, 'CIH': 1, 'HCS': 1, 'STU': 1, 'TUH': 1, 'UHG': 1, 'HGG': 2, 'GGX': 3, 'GXG': 2, 'XGB': 2, 'GBW': 2, 'BWB': 2, 'WBS': 2, 'BST': 2, 'STR': 2, 'TRH': 2, 'RHU': 1, 'HUQ': 1, 'UQV': 1, 'QVS': 1, 'VSB': 2, 'SBB': 1, 'BBS': 1, 'BSH': 1, 'SHF': 1, 'HFI': 1, 'FIA': 1, 'IAV': 1, 'AVO': 1, 'VOG': 1, 'OGR': 5, 'GRW': 1, 'RWE': 1, 'WED': 1, 'EDB': 1, 'DBU': 1, 'BUD': 1, 'UDT': 1, 'DTV': 1, 'TVI': 2, 'VIQ': 1, 'IQO': 1, 'QOL': 1, 'OLT': 1, 'LTS': 1, 'TST': 1, 'STS': 1, 'TSZ': 1, 'SZR': 1, 'ZRI': 1, 'RIG': 1, 'IGI': 1, 'GIP': 1, 'IPG': 1, 'PGG': 1, 'RHT': 1, 'HTH': 1, 'THQ': 2, 'HQL': 2, 'QLV': 1, 'LVB': 1, 'VBH': 1, 'BHG': 1, 'HGF': 1, 'GFA': 1, 'FAQ': 1, 'AQN': 1, 'QNT': 1, 'NTH': 1, 'THW': 1, 'OHP': 1, 'HPF': 1, 'PFS': 1, 'FSR': 1, 'SRO': 1, 'ROA': 2, 'OAJ': 1, 'AJQ': 1, 'JQL': 1, 'QLH': 1, 'LHU': 1, 'HUF': 1, 'UFI': 1, 'FIH': 1, 'IHO': 2, 'HOR': 4, 'ORF': 3, 'RFR': 1, 'FRT': 1, 'RTZ': 1, 'TZW': 1, 'ZWL': 1, 'GXO': 1, 'OJC': 1, 'JCT': 1, 'CTT': 1, 'TTD': 2, 'TDH': 1, 'DHT': 1, 'HTR': 1, 'TRL': 1, 'RLV': 1, 'LVZ': 1, 'VZS': 1, 'ZSH': 1, 'SHQ': 1, 'HQO': 1, 'QOZ': 1, 'OZT': 1, 'ZTH': 1, 'THV': 1, 'VGN': 1, 'GNT': 1, 'NTP': 1, 'TPG': 1, 'PGH': 1, 'GHY': 2, 'HYB': 1, 'YBB': 1, 'BBJ': 1, 'BJH': 3, 'HHR': 2, 'HRO': 1, 'ROG': 1, 'OGW': 1, 'GWO': 1, 'WOD': 1, 'ODN': 1, 'DNE': 1, 'NEA': 1, 'EAU': 1, 'AUH': 1, 'UHP': 1, 'HPS': 1, 'PST': 2, 'STG': 2, 'TGX': 1, 'XHR': 1, 'HRM': 3, 'MNN': 1, 'NNI': 1, 'NIH': 3, 'IHY': 2, 'HYL': 2, 'YLO': 2, 'LOJ': 1, 'IKV': 1, 'KVY': 1, 'VYT': 1, 'YTK': 2, 'TKX': 1, 'KXT': 1, 'XTH': 2, 'THR': 2, 'HNI': 1, 'IHA': 1, 'HAC': 1, 'ACA': 1, 'CAA': 1, 'AAH': 1, 'AHH': 1, 'HHK': 1, 'HKF': 2, 'KFA': 1, 'FAG': 1, 'AGI': 1, 'GIW': 1, 'IWH': 4, 'WHR': 2, 'RHV': 2, 'HVC': 5, 'VCY': 2, 'YHG': 1, 'GTG': 1, 'TGB': 1, 'GBS': 1, 'BSO': 1, 'SOL': 1, 'OLS': 1, 'LSS': 1, 'SIK': 1, 'IKS': 1, 'KSY': 1, 'SYR': 1, 'YRR': 2, 'RRI': 1, 'RIW': 1, 'IWB': 2, 'WBR': 2, 'BRT': 2, 'RTE': 2, 'TED': 1, 'EDI': 1, 'DIP': 1, 'IPJ': 1, 'PJE': 1, 'JES': 1, 'ESI': 1, 'SIP': 1, 'IPW': 1, 'PWE': 1, 'WET': 1, 'ETG': 1, 'TGG': 1, 'GGC': 2, 'GCI': 1, 'CIZ': 1, 'IZL': 1, 'ZLR': 1, 'RMO': 1, 'MOB': 1, 'OBB': 1, 'BBT': 1, 'BTV': 2, 'TVU': 1, 'VUH': 1, 'UHV': 1, 'VCT': 2, 'CTV': 1, 'TVH': 1, 'VHH': 1, 'HHO': 1, 'HOQ': 1, 'QTO': 1, 'TOP': 1, 'OPB': 1, 'PBO': 1, 'BOL': 1, 'OLA': 1, 'LAF': 1, 'FIO': 1, 'IOG': 4, 'GRY': 1, 'RYB': 1, 'YBJ': 2, 'JHG': 2, 'HGY': 2, 'GYY': 1, 'YYS': 1, 'YSI': 1, 'SIW': 2, 'IWO': 1, 'WOK': 2, 'OKT': 2, 'KTA': 1, 'TAD': 2, 'ADH': 1, 'DHH': 2, 'HRA': 1, 'RAX': 1, 'AXX': 1, 'XXB': 1, 'BUR': 1, 'URA': 1, 'RAA': 1, 'AAN': 1, 'ANH': 1, 'NHQ': 1, 'HQF': 1, 'QFA': 1, 'FAA': 1, 'AAR': 1, 'ARS': 1, 'RSG': 1, 'GVY': 1, 'VYB': 1, 'JHO': 1, 'HOP': 1, 'OPE': 1, 'PEG': 1, 'EGY': 1, 'GYI': 1, 'YIG': 1, 'IGR': 1, 'GRT': 1, 'RTJ': 1, 'TJW': 1, 'JWO': 1, 'OHR': 2, 'HRT': 1, 'TUT': 1, 'UTH': 1, 'RMC': 1, 'MCG': 1, 'CGD': 1, 'GDF': 1, 'DFR': 1, 'FRC': 1, 'RCR': 1, 'CRR': 2, 'RRS': 1, 'RSL': 1, 'SLW': 1, 'LWY': 1, 'WYM': 1, 'YMG': 2, 'MGQ': 1, 'GQS': 1, 'QSU': 1, 'SUG': 1, 'UGN': 1, 'GNA': 1, 'NAX': 1, 'AXB': 1, 'XBO': 2, 'BOR': 2, 'RTB': 1, 'TBI': 1, 'BIT': 1, 'ITS': 1, 'TSC': 1, 'SCL': 1, 'CLG': 1, 'LGA': 1, 'GAW': 1, 'AWY': 1, 'WYC': 1, 'YCT': 1, 'CTN': 1, 'TNI': 1, 'NIF': 1, 'IFO': 2, 'FON': 2, 'ONT': 2, 'NTT': 1, 'TDR': 1, 'DRT': 2, 'RTR': 2, 'TRR': 1, 'RRN': 4, 'RNE': 4, 'NEH': 4, 'EHU': 1, 'HUM': 2, 'UMD': 1, 'MDK': 1, 'DKP': 1, 'KPZ': 1, 'PZZ': 3, 'ZZR': 2, 'ZRM': 1, 'RML': 1, 'MLI': 1, 'LID': 1, 'IDS': 1, 'DSM': 1, 'SMP': 1, 'MPY': 1, 'PYT': 1, 'YTH': 1, 'THT': 1, 'HTP': 1, 'TPO': 1, 'POZ': 1, 'OZI': 1, 'ZIH': 1, 'CTS': 1, 'TSG': 1, 'SGC': 1, 'GCB': 1, 'CBR': 1, 'RTG': 1, 'TGD': 1, 'GDH': 2, 'HHF': 1, 'HFE': 1, 'FEG': 1, 'EGQ': 1, 'GQO': 1, 'QOQ': 1, 'OQI': 2, 'QIT': 1, 'ITA': 1, 'ADR': 1, 'TRB': 1, 'RBN': 1, 'BNR': 1, 'NRY': 1, 'RYH': 1, 'YHL': 1, 'LOQ': 1, 'OQM': 1, 'QMB': 1, 'MBC': 2, 'BCU': 1, 'CUF': 1, 'UFG': 1, 'FGL': 1, 'LVC': 1, 'VCR': 1, 'CRT': 1, 'BYQ': 1, 'YQT': 1, 'QTG': 1, 'TGW': 4, 'GWS': 3, 'WSW': 1, 'SWP': 1, 'WPT': 1, 'PTN': 2, 'NGA': 1, 'GAG': 1, 'AGR': 1, 'GRA': 2, 'RAE': 1, 'AET': 1, 'ETH': 1, 'THZ': 1, 'HZM': 1, 'ZMN': 1, 'MNT': 1, 'NTI': 1, 'TIS': 1, 'ISB': 1, 'SBM': 1, 'BMU': 1, 'MUT': 1, 'UTW': 1, 'TWH': 1, 'WHH': 1, 'HHM': 1, 'HMT': 1, 'MTF': 1, 'TFA': 1, 'FAO': 1, 'AOD': 1, 'ODR': 1, 'DRB': 1, 'RBB': 1, 'BBM': 1, 'BMT': 1, 'MTH': 1, 'QLN': 1, 'LNE': 1, 'EHP': 1, 'HPM': 1, 'PMX': 1, 'MXL': 1, 'XLM': 1, 'LMH': 1, 'MHV': 1, 'CYG': 1, 'YGH': 1, 'GHO': 1, 'HOW': 1, 'OWB': 1, 'WBT': 1, 'VIF': 1, 'NTY': 1, 'TYX': 2, 'YXY': 1, 'XYS': 1, 'YSR': 1, 'SRA': 1, 'RAG': 2, 'AGG': 1, 'GCP': 1, 'CPM': 1, 'PMT': 1, 'MTS': 1, 'TSI': 1, 'SIG': 1, 'IGC': 1, 'GCR': 1, 'CRC': 1, 'RCN': 1, 'CNA': 1, 'NAZ': 1, 'AZH': 1, 'ZHK': 1, 'HKE': 1, 'KEG': 1, 'EGG': 1, 'GGO': 1, 'GOD': 1, 'ODE': 1, 'DEB': 1, 'EBB': 1, 'BBI': 1, 'BIL': 1, 'ILP': 1, 'LPS': 1, 'TGU': 1, 'GUC': 1, 'UCF': 1, 'CFR': 1, 'FRM': 1, 'RMR': 1, 'MRI': 1, 'RIH': 1, 'EHZ': 1, 'HZG': 1, 'ZGK': 1, 'GKR': 1, 'KRI': 1, 'RIO': 1, 'IOH': 1, 'OHA': 2, 'HAO': 1, 'AOZ': 1, 'OZE': 1, 'ZEI': 1, 'EIH': 1, 'CRS': 1, 'RSI': 1, 'RMH': 1, 'MHH': 1, 'HHH': 2, 'HHZ': 1, 'HZE': 1, 'ZEG': 1, 'EGX': 1, 'GXB': 1, 'XBH': 1, 'BHK': 1, 'KYG': 2, 'GVS': 1, 'SBC': 1, 'BCS': 1, 'CSK': 1, 'SKX': 1, 'KXH': 1, 'XHU': 1, 'UMT': 1, 'MTG': 1, 'TGP': 1, 'GPH': 1, 'PHZ': 1, 'HZY': 1, 'ZYP': 1, 'YPG': 1, 'PGD': 1, 'GDD': 1, 'DDH': 1, 'DHG': 1, 'HGN': 2, 'GNG': 3, 'NGB': 1, 'GBM': 1, 'BMH': 1, 'MHZ': 1, 'HZA': 2, 'ZAP': 2, 'APZ': 2, 'PZH': 2, 'ZHD': 1, 'HDM': 1, 'DMC': 1, 'MCX': 2, 'CXT': 1, 'THL': 1, 'HLK': 1, 'LKY': 1, 'YGE': 1, 'GES': 1, 'ESB': 1, 'SBY': 1, 'BYL': 1, 'YLY': 1, 'LYI': 3, 'YIU': 1, 'IUC': 1, 'UCR': 1, 'CRO': 1, 'ROS': 2, 'OSU': 2, 'SUH': 1, 'UHK': 1, 'KFE': 1, 'FEA': 1, 'EAI': 1, 'AIW': 1, 'WHF': 2, 'HFA': 1, 'FAY': 1, 'AYU': 1, 'YUU': 1, 'UUQ': 1, 'UQM': 1, 'QMC': 1, 'CXI': 1, 'XIW': 1, 'WHV': 2, 'VGB': 1, 'GBI': 1, 'BIH': 1, 'RFN': 1, 'FNI': 1, 'GIT': 1, 'ITF': 1, 'TFM': 1, 'FMM': 1, 'MMG': 1, 'MGI': 1, 'IVO': 1, 'TEP': 1, 'EPD': 1, 'PDH': 1, 'DHN': 1, 'HNR': 1, 'NRB': 1, 'RBU': 1, 'BUW': 1, 'UWH': 1, 'HVM': 2, 'VMN': 2, 'MNS': 1, 'NSS': 1, 'SSH': 2, 'YTY': 2, 'YXJ': 1, 'XJW': 1, 'JWL': 1, 'WLA': 2, 'AGP': 1, 'GPB': 1, 'PBR': 1, 'BRR': 1, 'RRA': 1, 'AGZ': 1, 'GZW': 1, 'ZWZ': 1, 'WZJ': 2, 'ZJI': 1, 'JIA': 1, 'IAP': 2, 'APH': 2, 'PHC': 1, 'HCD': 2, 'CDF': 1, 'DFG': 1, 'XHL': 1, 'HLC': 1, 'LCV': 1, 'RGH': 1, 'GHG': 2, 'GGN': 1, 'GNP': 1, 'NPT': 1, 'PTH': 1, 'THP': 1, 'HPG': 1, 'PGL': 1, 'GLY': 2, 'YIQ': 1, 'IQZ': 1, 'QZG': 1, 'ZGN': 1, 'NGD': 2, 'DBH': 1, 'BHU': 1, 'HUA': 1, 'UAF': 1, 'FIG': 1, 'IGH': 1, 'HGL': 1, 'YIW': 1, 'BRO': 1, 'SUW': 1, 'UWQ': 1, 'WQC': 1, 'QCX': 1, 'CXJ': 1, 'XJX': 1, 'JXH': 1, 'XHV': 1, 'HVR': 1, 'VRM': 1, 'RMB': 1, 'BCW': 1, 'CWQ': 1, 'WQY': 1, 'QYT': 1, 'TYT': 1, 'TKW': 1, 'KWL': 1, 'WLS': 1, 'LSX': 1, 'SXN': 1, 'XNH': 1, 'NHT': 1, 'ORO': 1, 'OAI': 1, 'AIV': 1, 'QTA': 1, 'TAJ': 1, 'AJH': 1, 'GYC': 1, 'YCX': 1, 'CXM': 1, 'XMW': 1, 'MWO': 1, 'KTN': 1, 'TNC': 1, 'NCH': 1, 'CHA': 1, 'HAA': 1, 'AAT': 1, 'ATF': 1, 'TFI': 1, 'FIW': 1, 'IWZ': 1, 'ZJT': 1, 'JTN': 1, 'TNH': 1, 'NHH': 1, 'HHV': 1, 'MNR': 2, 'NRH': 2, 'HHL': 1, 'HLZ': 1, 'LZU': 1, 'ZUG': 1, 'UGI': 1, 'GIO': 2, 'GRR': 2, 'RRH': 1, 'RHS': 1, 'HSS': 1, 'HYN': 1, 'YNQ': 1, 'NQI': 1, 'QIO': 1, 'GRI': 1, 'RIA': 1, 'IAS': 1, 'ASS': 1, 'SSQ': 1, 'SQC': 1, 'QCN': 1, 'CNG': 1, 'NGI': 1, 'RAY': 1, 'AYA': 1, 'YAH': 2, 'AHV': 1, 'VCL': 1, 'CLY': 1, 'LYM': 1, 'MGM': 1, 'GMJ': 1, 'MJL': 1, 'JLN': 1, 'LNQ': 1, 'NQZ': 1, 'QZS': 1, 'ZSQ': 1, 'SQF': 1, 'QFG': 1, 'FGH': 1, 'HYW': 1, 'YWJ': 1, 'WJL': 1, 'JLT': 1, 'LTP': 1, 'TPU': 1, 'PUV': 1, 'UVM': 2, 'VML': 1, 'MLV': 1, 'LVR': 1, 'VRH': 1, 'RHP': 1, 'HPI': 1, 'PII': 1, 'IIY': 1, 'IYA': 1, 'AHO': 1, 'HOC': 1, 'OCM': 1, 'CMG': 1, 'MGP': 1, 'GPZ': 1, 'ZRW': 1, 'RWV': 1, 'WVI': 1, 'VIV': 1, 'IVQ': 1, 'VQV': 1, 'QVT': 1, 'VTU': 1, 'UXG': 1, 'XGH': 1, 'GHD': 1, 'HDL': 1, 'DLV': 1, 'LVE': 1, 'VED': 1, 'EDW': 2, 'DWR': 2, 'WRY': 2, 'RYG': 2, 'YGS': 1, 'GSW': 1, 'SWD': 1, 'WDN': 1, 'DNI': 1, 'NIG': 1, 'IGN': 1, 'GNU': 1, 'NUV': 1, 'UVG': 1, 'VGP': 1, 'GPC': 1, 'PCX': 1, 'CXH': 1, 'XHM': 1, 'HMR': 1, 'MRH': 1, 'HVE': 1, 'VEU': 1, 'EUV': 1, 'VMP': 1, 'MPK': 1, 'PKN': 1, 'KNC': 1, 'IRD': 1, 'RDB': 1, 'DBC': 1, 'BCO': 1, 'COH': 1, 'HRR': 1, 'RRR': 1, 'RRP': 1, 'RPZ': 1, 'ZZW': 1, 'ZWT': 1, 'WTJ': 1, 'TJP': 1, 'JPB': 1, 'PBB': 1, 'BBY': 1, 'BYT': 1, 'TTT': 1, 'TTH': 1, 'THH': 1, 'DHO': 1, 'ORP': 1, 'RPV': 1, 'PVH': 1, 'VHG': 1, 'HGW': 1, 'GWL': 1, 'AGB': 1, 'GBO': 1, 'BOH': 1, 'HAH': 1, 'AHK': 1, 'HKL': 1, 'KLW': 1, 'LWH': 1, 'HFT': 1, 'FTG': 1, 'GWW': 1, 'WWG': 1, 'WGR': 1, 'NED': 1, 'YGQ': 1, 'GQF': 1, 'QFO': 1, 'FOR': 1, 'RFG': 1, 'FGE': 1, 'GEO': 1, 'EOQ': 1, 'QII': 1, 'IIA': 1, 'PHO': 1, 'ORM': 1, 'RHW': 1, 'WLT': 1, 'LTG': 1, 'WSH': 2, 'SHZ': 1, 'ZHC': 1, 'CDT': 1, 'DTG': 1, 'HYC': 1, 'YCN': 1, 'CNM': 1, 'NMP': 1, 'MPO': 1, 'POA': 1, 'OAK': 1, 'AKC': 1, 'KCP': 1, 'CPQ': 1, 'PQY': 1, 'QYR': 1, 'EHQ': 1, 'HQP': 1, 'QPA': 1, 'PAC': 1, 'ACU': 1, 'CUH': 1, 'UHM': 1, 'HMY': 1, 'MYP': 1, 'YPT': 1, 'TNO': 1, 'NOD': 1, 'ODD': 1}\n"
     ]
    }
   ],
   "source": [
    "threeLetters = {}\n",
    "for i in range(2, 1378):\n",
    "    st = txt[i-2] + txt[i-1] + txt[i]\n",
    "    if threeLetters.get(st) is not None:\n",
    "        threeLetters.__setitem__(st, threeLetters.get(st) + 1)\n",
    "    else:\n",
    "        threeLetters.__setitem__(st, 1)\n",
    "print(threeLetters)"
   ],
   "metadata": {
    "collapsed": false,
    "pycharm": {
     "name": "#%%\n"
    }
   }
  },
  {
   "cell_type": "code",
   "execution_count": 21,
   "outputs": [
    {
     "data": {
      "text/plain": "[('OGR', 5),\n ('HVC', 5),\n ('RTU', 4),\n ('HHG', 4),\n ('WOH', 4),\n ('SHY', 4),\n ('IHC', 4),\n ('HOR', 4),\n ('IWH', 4),\n ('IOG', 4),\n ('RRN', 4),\n ('RNE', 4),\n ('NEH', 4),\n ('TGW', 4),\n ('AFI', 3),\n ('RMN', 3),\n ('TUX', 3),\n ('OGI', 3),\n ('HRH', 3),\n ('HWO', 3),\n ('ORT', 3),\n ('GXH', 3),\n ('GVC', 3),\n ('LAG', 3),\n ('HCR', 3),\n ('HVG', 3),\n ('GGX', 3),\n ('ORF', 3),\n ('BJH', 3),\n ('HRM', 3),\n ('NIH', 3),\n ('PZZ', 3),\n ('GWS', 3),\n ('GNG', 3),\n ('LYI', 3),\n ('GLV', 2),\n ('VOR', 2),\n ('OJI', 2),\n ('JIK', 2),\n ('OQT', 2),\n ('TLD', 2),\n ('LDI', 2),\n ('HBO', 2),\n ('BOG', 2),\n ('NCI', 2),\n ('CIR', 2),\n ('UXB', 2),\n ('XBY', 2),\n ('HGT', 2),\n ('GIV', 2),\n ('IVW', 2),\n ('VWQ', 2),\n ('WQT', 2),\n ('TCG', 2),\n ('CGC', 2),\n ('CVR', 2),\n ('VRG', 2),\n ('RHN', 2),\n ('CYH', 2),\n ('OHW', 2),\n ('MCS', 2),\n ('SSI', 2),\n ('CST', 2),\n ('TNG', 2),\n ('HYT', 2),\n ('YTT', 2),\n ('CUP', 2),\n ('FGX', 2),\n ('HKY', 2),\n ('SGV', 2),\n ('HLO', 2),\n ('LOG', 2),\n ('GIH', 2),\n ('RHH', 2),\n ('HGH', 2),\n ('HTC', 2),\n ('TCE', 2),\n ('CEY', 2),\n ('EYX', 2),\n ('YXB', 2),\n ('XBU', 2),\n ('XOJ', 2),\n ('JHH', 2),\n ('YGV', 2),\n ('WLG', 2),\n ('LGG', 2),\n ('IHV', 2),\n ('GDB', 2),\n ('HWL', 2),\n ('LRM', 2),\n ('HGG', 2),\n ('GXG', 2),\n ('XGB', 2),\n ('GBW', 2),\n ('BWB', 2),\n ('WBS', 2),\n ('BST', 2),\n ('STR', 2),\n ('TRH', 2),\n ('VSB', 2),\n ('TVI', 2),\n ('THQ', 2),\n ('HQL', 2),\n ('ROA', 2),\n ('IHO', 2),\n ('TTD', 2),\n ('GHY', 2),\n ('HHR', 2),\n ('PST', 2),\n ('STG', 2),\n ('IHY', 2),\n ('HYL', 2),\n ('YLO', 2),\n ('YTK', 2),\n ('XTH', 2),\n ('THR', 2),\n ('HKF', 2),\n ('WHR', 2),\n ('RHV', 2),\n ('VCY', 2),\n ('YRR', 2),\n ('IWB', 2),\n ('WBR', 2),\n ('BRT', 2),\n ('RTE', 2),\n ('GGC', 2),\n ('BTV', 2),\n ('VCT', 2),\n ('YBJ', 2),\n ('JHG', 2),\n ('HGY', 2),\n ('SIW', 2),\n ('WOK', 2),\n ('OKT', 2),\n ('TAD', 2),\n ('DHH', 2),\n ('OHR', 2),\n ('CRR', 2),\n ('YMG', 2),\n ('XBO', 2),\n ('BOR', 2),\n ('IFO', 2),\n ('FON', 2),\n ('ONT', 2),\n ('DRT', 2),\n ('RTR', 2),\n ('HUM', 2),\n ('ZZR', 2),\n ('GDH', 2),\n ('OQI', 2),\n ('MBC', 2),\n ('PTN', 2),\n ('GRA', 2),\n ('TYX', 2),\n ('RAG', 2),\n ('OHA', 2),\n ('HHH', 2),\n ('KYG', 2),\n ('HGN', 2),\n ('HZA', 2),\n ('ZAP', 2),\n ('APZ', 2),\n ('PZH', 2),\n ('MCX', 2),\n ('ROS', 2),\n ('OSU', 2),\n ('WHF', 2),\n ('WHV', 2),\n ('HVM', 2),\n ('VMN', 2),\n ('SSH', 2),\n ('YTY', 2),\n ('WLA', 2),\n ('WZJ', 2),\n ('IAP', 2),\n ('APH', 2),\n ('HCD', 2),\n ('GHG', 2),\n ('GLY', 2),\n ('NGD', 2),\n ('MNR', 2),\n ('NRH', 2),\n ('GIO', 2),\n ('GRR', 2),\n ('YAH', 2),\n ('UVM', 2),\n ('EDW', 2),\n ('DWR', 2),\n ('WRY', 2),\n ('RYG', 2),\n ('WSH', 2),\n ('WSZ', 1),\n ('SZJ', 1),\n ('ZJO', 1),\n ('JOG', 1),\n ('OGL', 1),\n ('LVO', 1),\n ('ORA', 1),\n ('RAF', 1),\n ('FII', 1),\n ('IID', 1),\n ('IDR', 1),\n ('DRM', 1),\n ('MNC', 1),\n ('NCM', 1),\n ('CMH', 1),\n ('MHF', 1),\n ('HFO', 1),\n ('FOJ', 1),\n ('IKO', 1),\n ('KOQ', 1),\n ('QTL', 1),\n ('DIF', 1),\n ('IFR', 1),\n ('FRD', 1),\n ('RDN', 1),\n ('DNN', 1),\n ('NNM', 1),\n ('NMH', 1),\n ('MHB', 1),\n ('OGN', 1),\n ('GNC', 1),\n ('IRT', 1),\n ('BYR', 1),\n ('YRT', 1),\n ('TUP', 1),\n ('UPH', 1),\n ('PHH', 1),\n ('GTP', 1),\n ('TPP', 1),\n ('PPB', 1),\n ('PBH', 1),\n ('BHB', 1),\n ('QTC', 1),\n ('GCX', 1),\n ('CXC', 1),\n ('XCC', 1),\n ('CCG', 1),\n ('CGN', 1),\n ('GNL', 1),\n ('NLV', 1),\n ('LVG', 1),\n ('VGT', 1),\n ('GTO', 1),\n ('TOG', 1),\n ('OGC', 1),\n ('GCV', 1),\n ('RGB', 1),\n ('GBD', 1),\n ('BDR', 1),\n ('DRH', 1),\n ('RHR', 1),\n ('HNC', 1),\n ('NCY', 1),\n ('YHW', 1),\n ('HWH', 1),\n ('WHM', 1),\n ('HMC', 1),\n ('CSS', 1),\n ('SIM', 1),\n ('IMC', 1),\n ('STN', 1),\n ('NGS', 1),\n ('GSH', 1),\n ('TTG', 1),\n ('TGS', 1),\n ('GSO', 1),\n ('SOR', 1),\n ('RTC', 1),\n ('GCU', 1),\n ('UPA', 1),\n ('PAZ', 1),\n ('AZB', 1),\n ('ZBS', 1),\n ('BSF', 1),\n ('SFF', 1),\n ('FFX', 1),\n ('FXY', 1),\n ('XYN', 1),\n ('YNF', 1),\n ('NFW', 1),\n ('FWA', 1),\n ('WAS', 1),\n ('ASK', 1),\n ('SKA', 1),\n ('KAC', 1),\n ('ACC', 1),\n ('CCI', 1),\n ('CIF', 1),\n ('IFG', 1),\n ('XHK', 1),\n ('KYS', 1),\n ('YSG', 1),\n ('VCB', 1),\n ('CBL', 1),\n ('BLA', 1),\n ('AGV', 1),\n ('VCH', 1),\n ('CHC', 1),\n ('HCA', 1),\n ('CAF', 1),\n ('AFN', 1),\n ('FNH', 1),\n ('NHC', 1),\n ('HCL', 1),\n ('CLT', 1),\n ('LTL', 1),\n ('DIH', 1),\n ('IHL', 1),\n ('CRH', 1),\n ('GHH', 1),\n ('HHW', 1),\n ('OHG', 1),\n ('GHT', 1),\n ('BUQ', 1),\n ('UQX', 1),\n ('QXO', 1),\n ('OJH', 1),\n ('HGA', 1),\n ('GAZ', 1),\n ('AZI', 1),\n ('ZIC', 1),\n ('ICB', 1),\n ('CBJ', 1),\n ('BJY', 1),\n ('JYG', 1),\n ('VCW', 1),\n ('CWL', 1),\n ('GGI', 1),\n ('GIC', 1),\n ('ICH', 1),\n ('CHE', 1),\n ('HEE', 1),\n ('EEG', 1),\n ('EGI', 1),\n ('VGS', 1),\n ('GSG', 1),\n ('SGD', 1),\n ('DBS', 1),\n ('BSR', 1),\n ('SRC', 1),\n ('RCU', 1),\n ('UPB', 1),\n ('PBQ', 1),\n ('BQC', 1),\n ('QCT', 1),\n ('CTO', 1),\n ('TOH', 1),\n ('WLR', 1),\n ('RMV', 1),\n ('MVC', 1),\n ('VCI', 1),\n ('CIH', 1),\n ('HCS', 1),\n ('STU', 1),\n ('TUH', 1),\n ('UHG', 1),\n ('RHU', 1),\n ('HUQ', 1),\n ('UQV', 1),\n ('QVS', 1),\n ('SBB', 1),\n ('BBS', 1),\n ('BSH', 1),\n ('SHF', 1),\n ('HFI', 1),\n ('FIA', 1),\n ('IAV', 1),\n ('AVO', 1),\n ('VOG', 1),\n ('GRW', 1),\n ('RWE', 1),\n ('WED', 1),\n ('EDB', 1),\n ('DBU', 1),\n ('BUD', 1),\n ('UDT', 1),\n ('DTV', 1),\n ('VIQ', 1),\n ('IQO', 1),\n ('QOL', 1),\n ('OLT', 1),\n ('LTS', 1),\n ('TST', 1),\n ('STS', 1),\n ('TSZ', 1),\n ('SZR', 1),\n ('ZRI', 1),\n ('RIG', 1),\n ('IGI', 1),\n ('GIP', 1),\n ('IPG', 1),\n ('PGG', 1),\n ('RHT', 1),\n ('HTH', 1),\n ('QLV', 1),\n ('LVB', 1),\n ('VBH', 1),\n ('BHG', 1),\n ('HGF', 1),\n ('GFA', 1),\n ('FAQ', 1),\n ('AQN', 1),\n ('QNT', 1),\n ('NTH', 1),\n ('THW', 1),\n ('OHP', 1),\n ('HPF', 1),\n ('PFS', 1),\n ('FSR', 1),\n ('SRO', 1),\n ('OAJ', 1),\n ('AJQ', 1),\n ('JQL', 1),\n ('QLH', 1),\n ('LHU', 1),\n ('HUF', 1),\n ('UFI', 1),\n ('FIH', 1),\n ('RFR', 1),\n ('FRT', 1),\n ('RTZ', 1),\n ('TZW', 1),\n ('ZWL', 1),\n ('GXO', 1),\n ('OJC', 1),\n ('JCT', 1),\n ('CTT', 1),\n ('TDH', 1),\n ('DHT', 1),\n ('HTR', 1),\n ('TRL', 1),\n ('RLV', 1),\n ('LVZ', 1),\n ('VZS', 1),\n ('ZSH', 1),\n ('SHQ', 1),\n ('HQO', 1),\n ('QOZ', 1),\n ('OZT', 1),\n ('ZTH', 1),\n ('THV', 1),\n ('VGN', 1),\n ('GNT', 1),\n ('NTP', 1),\n ('TPG', 1),\n ('PGH', 1),\n ('HYB', 1),\n ('YBB', 1),\n ('BBJ', 1),\n ('HRO', 1),\n ('ROG', 1),\n ('OGW', 1),\n ('GWO', 1),\n ('WOD', 1),\n ('ODN', 1),\n ('DNE', 1),\n ('NEA', 1),\n ('EAU', 1),\n ('AUH', 1),\n ('UHP', 1),\n ('HPS', 1),\n ('TGX', 1),\n ('XHR', 1),\n ('MNN', 1),\n ('NNI', 1),\n ('LOJ', 1),\n ('IKV', 1),\n ('KVY', 1),\n ('VYT', 1),\n ('TKX', 1),\n ('KXT', 1),\n ('HNI', 1),\n ('IHA', 1),\n ('HAC', 1),\n ('ACA', 1),\n ('CAA', 1),\n ('AAH', 1),\n ('AHH', 1),\n ('HHK', 1),\n ('KFA', 1),\n ('FAG', 1),\n ('AGI', 1),\n ('GIW', 1),\n ('YHG', 1),\n ('GTG', 1),\n ('TGB', 1),\n ('GBS', 1),\n ('BSO', 1),\n ('SOL', 1),\n ('OLS', 1),\n ('LSS', 1),\n ('SIK', 1),\n ('IKS', 1),\n ('KSY', 1),\n ('SYR', 1),\n ('RRI', 1),\n ('RIW', 1),\n ('TED', 1),\n ('EDI', 1),\n ('DIP', 1),\n ('IPJ', 1),\n ('PJE', 1),\n ('JES', 1),\n ('ESI', 1),\n ('SIP', 1),\n ('IPW', 1),\n ('PWE', 1),\n ('WET', 1),\n ('ETG', 1),\n ('TGG', 1),\n ('GCI', 1),\n ('CIZ', 1),\n ('IZL', 1),\n ('ZLR', 1),\n ('RMO', 1),\n ('MOB', 1),\n ('OBB', 1),\n ('BBT', 1),\n ('TVU', 1),\n ('VUH', 1),\n ('UHV', 1),\n ('CTV', 1),\n ('TVH', 1),\n ('VHH', 1),\n ('HHO', 1),\n ('HOQ', 1),\n ('QTO', 1),\n ('TOP', 1),\n ('OPB', 1),\n ('PBO', 1),\n ('BOL', 1),\n ('OLA', 1),\n ('LAF', 1),\n ('FIO', 1),\n ('GRY', 1),\n ('RYB', 1),\n ('GYY', 1),\n ('YYS', 1),\n ('YSI', 1),\n ('IWO', 1),\n ('KTA', 1),\n ('ADH', 1),\n ('HRA', 1),\n ('RAX', 1),\n ('AXX', 1),\n ('XXB', 1),\n ('BUR', 1),\n ('URA', 1),\n ('RAA', 1),\n ('AAN', 1),\n ('ANH', 1),\n ('NHQ', 1),\n ('HQF', 1),\n ('QFA', 1),\n ('FAA', 1),\n ('AAR', 1),\n ('ARS', 1),\n ('RSG', 1),\n ('GVY', 1),\n ('VYB', 1),\n ('JHO', 1),\n ('HOP', 1),\n ('OPE', 1),\n ('PEG', 1),\n ('EGY', 1),\n ('GYI', 1),\n ('YIG', 1),\n ('IGR', 1),\n ('GRT', 1),\n ('RTJ', 1),\n ('TJW', 1),\n ('JWO', 1),\n ('HRT', 1),\n ('TUT', 1),\n ('UTH', 1),\n ('RMC', 1),\n ('MCG', 1),\n ('CGD', 1),\n ('GDF', 1),\n ('DFR', 1),\n ('FRC', 1),\n ('RCR', 1),\n ('RRS', 1),\n ('RSL', 1),\n ('SLW', 1),\n ('LWY', 1),\n ('WYM', 1),\n ('MGQ', 1),\n ('GQS', 1),\n ('QSU', 1),\n ('SUG', 1),\n ('UGN', 1),\n ('GNA', 1),\n ('NAX', 1),\n ('AXB', 1),\n ('RTB', 1),\n ('TBI', 1),\n ('BIT', 1),\n ('ITS', 1),\n ('TSC', 1),\n ('SCL', 1),\n ('CLG', 1),\n ('LGA', 1),\n ('GAW', 1),\n ('AWY', 1),\n ('WYC', 1),\n ('YCT', 1),\n ('CTN', 1),\n ('TNI', 1),\n ('NIF', 1),\n ('NTT', 1),\n ('TDR', 1),\n ('TRR', 1),\n ('EHU', 1),\n ('UMD', 1),\n ('MDK', 1),\n ('DKP', 1),\n ('KPZ', 1),\n ('ZRM', 1),\n ('RML', 1),\n ('MLI', 1),\n ('LID', 1),\n ('IDS', 1),\n ('DSM', 1),\n ('SMP', 1),\n ('MPY', 1),\n ('PYT', 1),\n ('YTH', 1),\n ('THT', 1),\n ('HTP', 1),\n ('TPO', 1),\n ('POZ', 1),\n ('OZI', 1),\n ('ZIH', 1),\n ('CTS', 1),\n ('TSG', 1),\n ('SGC', 1),\n ('GCB', 1),\n ('CBR', 1),\n ('RTG', 1),\n ('TGD', 1),\n ('HHF', 1),\n ('HFE', 1),\n ('FEG', 1),\n ('EGQ', 1),\n ('GQO', 1),\n ('QOQ', 1),\n ('QIT', 1),\n ('ITA', 1),\n ('ADR', 1),\n ('TRB', 1),\n ('RBN', 1),\n ('BNR', 1),\n ('NRY', 1),\n ('RYH', 1),\n ('YHL', 1),\n ('LOQ', 1),\n ('OQM', 1),\n ('QMB', 1),\n ('BCU', 1),\n ('CUF', 1),\n ('UFG', 1),\n ('FGL', 1),\n ('LVC', 1),\n ('VCR', 1),\n ('CRT', 1),\n ('BYQ', 1),\n ('YQT', 1),\n ('QTG', 1),\n ('WSW', 1),\n ('SWP', 1),\n ('WPT', 1),\n ('NGA', 1),\n ('GAG', 1),\n ('AGR', 1),\n ('RAE', 1),\n ('AET', 1),\n ('ETH', 1),\n ('THZ', 1),\n ('HZM', 1),\n ('ZMN', 1),\n ('MNT', 1),\n ('NTI', 1),\n ('TIS', 1),\n ('ISB', 1),\n ('SBM', 1),\n ('BMU', 1),\n ('MUT', 1),\n ('UTW', 1),\n ('TWH', 1),\n ('WHH', 1),\n ('HHM', 1),\n ('HMT', 1),\n ('MTF', 1),\n ('TFA', 1),\n ('FAO', 1),\n ('AOD', 1),\n ('ODR', 1),\n ('DRB', 1),\n ('RBB', 1),\n ('BBM', 1),\n ('BMT', 1),\n ('MTH', 1),\n ('QLN', 1),\n ('LNE', 1),\n ('EHP', 1),\n ('HPM', 1),\n ('PMX', 1),\n ('MXL', 1),\n ('XLM', 1),\n ('LMH', 1),\n ('MHV', 1),\n ('CYG', 1),\n ('YGH', 1),\n ('GHO', 1),\n ('HOW', 1),\n ('OWB', 1),\n ('WBT', 1),\n ('VIF', 1),\n ('NTY', 1),\n ('YXY', 1),\n ('XYS', 1),\n ('YSR', 1),\n ('SRA', 1),\n ('AGG', 1),\n ('GCP', 1),\n ('CPM', 1),\n ('PMT', 1),\n ('MTS', 1),\n ('TSI', 1),\n ('SIG', 1),\n ('IGC', 1),\n ('GCR', 1),\n ('CRC', 1),\n ('RCN', 1),\n ('CNA', 1),\n ('NAZ', 1),\n ('AZH', 1),\n ('ZHK', 1),\n ('HKE', 1),\n ('KEG', 1),\n ('EGG', 1),\n ('GGO', 1),\n ('GOD', 1),\n ('ODE', 1),\n ('DEB', 1),\n ('EBB', 1),\n ('BBI', 1),\n ('BIL', 1),\n ('ILP', 1),\n ('LPS', 1),\n ('TGU', 1),\n ('GUC', 1),\n ('UCF', 1),\n ('CFR', 1),\n ('FRM', 1),\n ('RMR', 1),\n ('MRI', 1),\n ('RIH', 1),\n ('EHZ', 1),\n ('HZG', 1),\n ('ZGK', 1),\n ('GKR', 1),\n ('KRI', 1),\n ('RIO', 1),\n ('IOH', 1),\n ('HAO', 1),\n ('AOZ', 1),\n ('OZE', 1),\n ('ZEI', 1),\n ('EIH', 1),\n ('CRS', 1),\n ('RSI', 1),\n ('RMH', 1),\n ('MHH', 1),\n ('HHZ', 1),\n ('HZE', 1),\n ('ZEG', 1),\n ('EGX', 1),\n ('GXB', 1),\n ('XBH', 1),\n ('BHK', 1),\n ('GVS', 1),\n ('SBC', 1),\n ('BCS', 1),\n ('CSK', 1),\n ('SKX', 1),\n ('KXH', 1),\n ('XHU', 1),\n ('UMT', 1),\n ('MTG', 1),\n ('TGP', 1),\n ('GPH', 1),\n ('PHZ', 1),\n ('HZY', 1),\n ('ZYP', 1),\n ('YPG', 1),\n ('PGD', 1),\n ('GDD', 1),\n ('DDH', 1),\n ('DHG', 1),\n ('NGB', 1),\n ('GBM', 1),\n ('BMH', 1),\n ('MHZ', 1),\n ('ZHD', 1),\n ('HDM', 1),\n ('DMC', 1),\n ('CXT', 1),\n ('THL', 1),\n ('HLK', 1),\n ('LKY', 1),\n ('YGE', 1),\n ('GES', 1),\n ('ESB', 1),\n ('SBY', 1),\n ('BYL', 1),\n ('YLY', 1),\n ('YIU', 1),\n ('IUC', 1),\n ('UCR', 1),\n ('CRO', 1),\n ('SUH', 1),\n ('UHK', 1),\n ('KFE', 1),\n ('FEA', 1),\n ('EAI', 1),\n ('AIW', 1),\n ('HFA', 1),\n ('FAY', 1),\n ('AYU', 1),\n ('YUU', 1),\n ('UUQ', 1),\n ('UQM', 1),\n ('QMC', 1),\n ('CXI', 1),\n ('XIW', 1),\n ('VGB', 1),\n ('GBI', 1),\n ('BIH', 1),\n ('RFN', 1),\n ('FNI', 1),\n ('GIT', 1),\n ('ITF', 1),\n ('TFM', 1),\n ('FMM', 1),\n ('MMG', 1),\n ('MGI', 1),\n ('IVO', 1),\n ('TEP', 1),\n ('EPD', 1),\n ('PDH', 1),\n ('DHN', 1),\n ('HNR', 1),\n ('NRB', 1),\n ('RBU', 1),\n ('BUW', 1),\n ('UWH', 1),\n ('MNS', 1),\n ('NSS', 1),\n ('YXJ', 1),\n ('XJW', 1),\n ('JWL', 1),\n ('AGP', 1),\n ('GPB', 1),\n ('PBR', 1),\n ('BRR', 1),\n ('RRA', 1),\n ('AGZ', 1),\n ('GZW', 1),\n ('ZWZ', 1),\n ('ZJI', 1),\n ('JIA', 1),\n ('PHC', 1),\n ('CDF', 1),\n ('DFG', 1),\n ('XHL', 1),\n ('HLC', 1),\n ('LCV', 1),\n ('RGH', 1),\n ('GGN', 1),\n ('GNP', 1),\n ('NPT', 1),\n ('PTH', 1),\n ('THP', 1),\n ('HPG', 1),\n ('PGL', 1),\n ('YIQ', 1),\n ('IQZ', 1),\n ('QZG', 1),\n ('ZGN', 1),\n ('DBH', 1),\n ('BHU', 1),\n ('HUA', 1),\n ('UAF', 1),\n ('FIG', 1),\n ('IGH', 1),\n ('HGL', 1),\n ('YIW', 1),\n ('BRO', 1),\n ('SUW', 1),\n ('UWQ', 1),\n ('WQC', 1),\n ('QCX', 1),\n ('CXJ', 1),\n ('XJX', 1),\n ('JXH', 1),\n ('XHV', 1),\n ('HVR', 1),\n ('VRM', 1),\n ('RMB', 1),\n ('BCW', 1),\n ('CWQ', 1),\n ('WQY', 1),\n ('QYT', 1),\n ('TYT', 1),\n ('TKW', 1),\n ('KWL', 1),\n ('WLS', 1),\n ('LSX', 1),\n ('SXN', 1),\n ('XNH', 1),\n ('NHT', 1),\n ('ORO', 1),\n ('OAI', 1),\n ('AIV', 1),\n ('QTA', 1),\n ('TAJ', 1),\n ('AJH', 1),\n ('GYC', 1),\n ('YCX', 1),\n ('CXM', 1),\n ('XMW', 1),\n ('MWO', 1),\n ('KTN', 1),\n ('TNC', 1),\n ('NCH', 1),\n ('CHA', 1),\n ('HAA', 1),\n ('AAT', 1),\n ('ATF', 1),\n ('TFI', 1),\n ('FIW', 1),\n ('IWZ', 1),\n ('ZJT', 1),\n ('JTN', 1),\n ('TNH', 1),\n ('NHH', 1),\n ('HHV', 1),\n ('HHL', 1),\n ('HLZ', 1),\n ('LZU', 1),\n ('ZUG', 1),\n ('UGI', 1),\n ('RRH', 1),\n ('RHS', 1),\n ('HSS', 1),\n ('HYN', 1),\n ('YNQ', 1),\n ('NQI', 1),\n ('QIO', 1),\n ('GRI', 1),\n ('RIA', 1),\n ('IAS', 1),\n ('ASS', 1),\n ('SSQ', 1),\n ('SQC', 1),\n ('QCN', 1),\n ('CNG', 1),\n ('NGI', 1),\n ('RAY', 1),\n ('AYA', 1),\n ('AHV', 1),\n ('VCL', 1),\n ('CLY', 1),\n ('LYM', 1),\n ('MGM', 1),\n ('GMJ', 1),\n ('MJL', 1),\n ('JLN', 1),\n ('LNQ', 1),\n ('NQZ', 1),\n ('QZS', 1),\n ('ZSQ', 1),\n ('SQF', 1),\n ('QFG', 1),\n ('FGH', 1),\n ('HYW', 1),\n ('YWJ', 1),\n ('WJL', 1),\n ('JLT', 1),\n ('LTP', 1),\n ('TPU', 1),\n ('PUV', 1),\n ('VML', 1),\n ('MLV', 1),\n ('LVR', 1),\n ('VRH', 1),\n ('RHP', 1),\n ...]"
     },
     "execution_count": 21,
     "metadata": {},
     "output_type": "execute_result"
    }
   ],
   "source": [
    "sorted(threeLetters.items(), key=lambda x : x[1], reverse=True)"
   ],
   "metadata": {
    "collapsed": false,
    "pycharm": {
     "name": "#%%\n"
    }
   }
  },
  {
   "cell_type": "code",
   "execution_count": 22,
   "outputs": [
    {
     "name": "stdout",
     "output_type": "stream",
     "text": [
      "start =  0\n",
      "45\n",
      "start =  48\n",
      "51\n",
      "start =  54\n",
      "573\n",
      "start =  576\n",
      "699\n"
     ]
    }
   ],
   "source": [
    "indOfIHV = [0] * 5\n",
    "start = 0\n",
    "for i in range(4):\n",
    "    indOfIHV[i] = txt.index('RTU', start)\n",
    "    print(\"start = \", start)\n",
    "    start = indOfIHV[i] + 3\n",
    "    print(indOfIHV[i])"
   ],
   "metadata": {
    "collapsed": false,
    "pycharm": {
     "name": "#%%\n"
    }
   }
  },
  {
   "cell_type": "code",
   "execution_count": 23,
   "outputs": [
    {
     "data": {
      "text/plain": "[45, 51, 573, 699, 0]"
     },
     "execution_count": 23,
     "metadata": {},
     "output_type": "execute_result"
    }
   ],
   "source": [
    "indOfIHV"
   ],
   "metadata": {
    "collapsed": false,
    "pycharm": {
     "name": "#%%\n"
    }
   }
  },
  {
   "cell_type": "markdown",
   "source": [
    "The ciphertext string IHV occurs in six places in the ciphertext, beginning at positions 6, 42, 516, 906, 1158, and 1170. The distances from the first occurrence to the other four occurrences are (respectively) 36, 510, 900, 1152, and 1164."
   ],
   "metadata": {
    "collapsed": false,
    "pycharm": {
     "name": "#%% md\n"
    }
   }
  },
  {
   "cell_type": "code",
   "execution_count": 24,
   "outputs": [
    {
     "data": {
      "text/plain": "6"
     },
     "execution_count": 24,
     "metadata": {},
     "output_type": "execute_result"
    }
   ],
   "source": [
    "size = math.gcd(6, 528, 654)\n",
    "size"
   ],
   "metadata": {
    "collapsed": false,
    "pycharm": {
     "name": "#%%\n"
    }
   }
  },
  {
   "cell_type": "markdown",
   "source": [
    "So probably the key size is 6.\n",
    "Now we will partition the cipher text."
   ],
   "metadata": {
    "collapsed": false,
    "pycharm": {
     "name": "#%% md\n"
    }
   }
  },
  {
   "cell_type": "code",
   "execution_count": 25,
   "outputs": [],
   "source": [
    "part1 = []\n",
    "part2 = []\n",
    "part3 = []\n",
    "part4 = []\n",
    "part5 = []\n",
    "part6 = []\n",
    "alphabet = ['a', 'b', 'c', 'd', 'e', 'f', 'g', 'h', 'i', 'j', 'k', 'l', 'm', 'n', 'o', 'p', 'q', 'r', 's', 't', 'u', 'v', 'w', 'x', 'y', 'z']\n",
    "for i in range(len(txt)):\n",
    "    if i % 6 == 0:\n",
    "        part1.append(txt[i])\n",
    "    if i % 6 == 1:\n",
    "        part2.append(txt[i])\n",
    "    if i % 6 == 2:\n",
    "        part3.append(txt[i])\n",
    "    if i % 6 == 3:\n",
    "        part4.append(txt[i])\n",
    "    if i % 6 == 4:\n",
    "        part5.append(txt[i])\n",
    "    if i % 6 == 5:\n",
    "        part6.append(txt[i])"
   ],
   "metadata": {
    "collapsed": false,
    "pycharm": {
     "name": "#%%\n"
    }
   }
  },
  {
   "cell_type": "markdown",
   "source": [
    "Here we define a shift cipher to shift each partition."
   ],
   "metadata": {
    "collapsed": false,
    "pycharm": {
     "name": "#%% md\n"
    }
   }
  },
  {
   "cell_type": "code",
   "execution_count": 26,
   "outputs": [],
   "source": [
    "def shiftCipher(plainText, shift):\n",
    "    plainText = plainText.upper()\n",
    "    cipherText = \"\"\n",
    "    for character in plainText:\n",
    "        if character.isalpha():\n",
    "            stayInAlphabet = ord(character) + shift\n",
    "            if stayInAlphabet > ord('Z'):\n",
    "                stayInAlphabet -= 26\n",
    "            finalLetter = chr(stayInAlphabet)\n",
    "            cipherText += finalLetter\n",
    "        cipherText += \"\"\n",
    "    return cipherText"
   ],
   "metadata": {
    "collapsed": false,
    "pycharm": {
     "name": "#%%\n"
    }
   }
  },
  {
   "cell_type": "markdown",
   "source": [
    "Now check the part1."
   ],
   "metadata": {
    "collapsed": false,
    "pycharm": {
     "name": "#%% md\n"
    }
   }
  },
  {
   "cell_type": "code",
   "execution_count": 27,
   "outputs": [
    {
     "name": "stdout",
     "output_type": "stream",
     "text": [
      "0.09018946793401063 0\n",
      "0.09018946793401063 1\n",
      "0.09018946793401061 2\n",
      "0.09018946793401061 3\n",
      "0.09018946793401061 4\n",
      "0.0901894679340106 5\n",
      "0.0901894679340106 6\n",
      "0.09018946793401061 7\n",
      "0.09018946793401061 8\n",
      "0.09018946793401061 9\n",
      "0.09018946793401061 10\n",
      "0.09018946793401061 11\n",
      "0.09018946793401063 12\n",
      "0.09018946793401061 13\n",
      "0.09018946793401063 14\n",
      "0.0901894679340106 15\n",
      "0.09018946793401061 16\n",
      "0.09018946793401061 17\n",
      "0.0901894679340106 18\n",
      "0.09018946793401063 19\n",
      "0.09018946793401061 20\n",
      "0.09018946793401061 21\n",
      "0.09018946793401061 22\n",
      "0.0901894679340106 23\n",
      "0.09018946793401061 24\n",
      "0.09018946793401061 25\n"
     ]
    }
   ],
   "source": [
    "for j in range(26):\n",
    "    indPart1 = 0\n",
    "    shift1 = j\n",
    "    for i in range(len(part1)):\n",
    "        part1[i] = shiftCipher(part1[i], shift1)\n",
    "    alphabetValuesPart1 = [0] * 26\n",
    "    probabilityAlphabetPart1 = [0] * 26\n",
    "    indAlphabetPart1 = [0] * 26\n",
    "    for i in part1:\n",
    "        if i == 'a' or i == 'A':\n",
    "            alphabetValuesPart1[0] += 1\n",
    "        elif i == 'b' or i == 'B':\n",
    "            alphabetValuesPart1[1] += 1\n",
    "        elif i == 'c' or i == 'C':\n",
    "            alphabetValuesPart1[2] += 1\n",
    "        elif i == 'd' or i == 'D':\n",
    "            alphabetValuesPart1[3] += 1\n",
    "        elif i == 'e' or i == 'E':\n",
    "            alphabetValuesPart1[4] += 1\n",
    "        elif i == 'f' or i == 'F':\n",
    "            alphabetValuesPart1[5] += 1\n",
    "        elif i == 'g' or i == 'G':\n",
    "            alphabetValuesPart1[6] += 1\n",
    "        elif i == 'h' or i == 'H':\n",
    "            alphabetValuesPart1[7] += 1\n",
    "        elif i == 'i' or i == 'I':\n",
    "            alphabetValuesPart1[8] += 1\n",
    "        elif i == 'j' or i == 'J':\n",
    "            alphabetValuesPart1[9] += 1\n",
    "        elif i == 'k' or i == 'K':\n",
    "            alphabetValuesPart1[10] += 1\n",
    "        elif i == 'l' or i == 'L':\n",
    "            alphabetValuesPart1[11] += 1\n",
    "        elif i == 'm' or i == 'M':\n",
    "            alphabetValuesPart1[12] += 1\n",
    "        elif i == 'n' or i == 'N':\n",
    "            alphabetValuesPart1[13] += 1\n",
    "        elif i == 'o' or i == 'O':\n",
    "            alphabetValuesPart1[14] += 1\n",
    "        elif i == 'p' or i == 'P':\n",
    "            alphabetValuesPart1[15] += 1\n",
    "        elif i == 'q' or i == 'Q':\n",
    "            alphabetValuesPart1[16] += 1\n",
    "        elif i == 'r' or i == 'R':\n",
    "            alphabetValuesPart1[17] += 1\n",
    "        elif i == 's' or i == 'S':\n",
    "            alphabetValuesPart1[18] += 1\n",
    "        elif i == 't' or i == 'T':\n",
    "            alphabetValuesPart1[19] += 1\n",
    "        elif i == 'u' or i == 'U':\n",
    "            alphabetValuesPart1[20] += 1\n",
    "        elif i == 'v' or i == 'V':\n",
    "            alphabetValuesPart1[21] += 1\n",
    "        elif i == 'w' or i == 'W':\n",
    "            alphabetValuesPart1[22] += 1\n",
    "        elif i == 'x' or i == 'X':\n",
    "            alphabetValuesPart1[23] += 1\n",
    "        elif i == 'y' or i == 'Y':\n",
    "            alphabetValuesPart1[24] += 1\n",
    "        elif i == 'z' or i == 'Z':\n",
    "            alphabetValuesPart1[25] += 1\n",
    "    for i in range(26):\n",
    "        probabilityAlphabetPart1[i] = alphabetValuesPart1[i]/(len(txt)/6)\n",
    "    for i in range(26):\n",
    "        indAlphabetPart1[i] = probabilityAlphabetPart1[i]**2\n",
    "    for i in range(26):\n",
    "        indPart1 += indAlphabetPart1[i]\n",
    "    print(indPart1, shift1)"
   ],
   "metadata": {
    "collapsed": false,
    "pycharm": {
     "name": "#%%\n"
    }
   }
  },
  {
   "cell_type": "code",
   "execution_count": 28,
   "outputs": [
    {
     "name": "stdout",
     "output_type": "stream",
     "text": [
      "0.09706008784281955 0\n",
      "0.09706008784281955 1\n",
      "0.09706008784281955 2\n",
      "0.09706008784281955 3\n",
      "0.09706008784281955 4\n",
      "0.09706008784281955 5\n",
      "0.09706008784281955 6\n",
      "0.09706008784281955 7\n",
      "0.09706008784281955 8\n",
      "0.09706008784281955 9\n",
      "0.09706008784281955 10\n",
      "0.09706008784281955 11\n",
      "0.09706008784281955 12\n",
      "0.09706008784281955 13\n",
      "0.09706008784281955 14\n",
      "0.09706008784281955 15\n",
      "0.09706008784281955 16\n",
      "0.09706008784281955 17\n",
      "0.09706008784281955 18\n",
      "0.09706008784281955 19\n",
      "0.09706008784281955 20\n",
      "0.09706008784281955 21\n",
      "0.09706008784281955 22\n",
      "0.09706008784281955 23\n",
      "0.09706008784281955 24\n",
      "0.09706008784281955 25\n"
     ]
    }
   ],
   "source": [
    "for j in range(26):\n",
    "    indPart2 = 0\n",
    "    shift2 = j\n",
    "    for i in range(len(part3)):\n",
    "        part3[i] = shiftCipher(part3[i], shift2)\n",
    "    alphabetValuesPart2 = [0] * 26\n",
    "    probabilityAlphabetPart2 = [0] * 26\n",
    "    indAlphabetPart2 = [0] * 26\n",
    "    for i in part2:\n",
    "        if i == 'a' or i == 'A':\n",
    "            alphabetValuesPart2[0] += 1\n",
    "        elif i == 'b' or i == 'B':\n",
    "            alphabetValuesPart2[1] += 1\n",
    "        elif i == 'c' or i == 'C':\n",
    "            alphabetValuesPart2[2] += 1\n",
    "        elif i == 'd' or i == 'D':\n",
    "            alphabetValuesPart2[3] += 1\n",
    "        elif i == 'e' or i == 'E':\n",
    "            alphabetValuesPart2[4] += 1\n",
    "        elif i == 'f' or i == 'F':\n",
    "            alphabetValuesPart2[5] += 1\n",
    "        elif i == 'g' or i == 'G':\n",
    "            alphabetValuesPart2[6] += 1\n",
    "        elif i == 'h' or i == 'H':\n",
    "            alphabetValuesPart2[7] += 1\n",
    "        elif i == 'i' or i == 'I':\n",
    "            alphabetValuesPart2[8] += 1\n",
    "        elif i == 'j' or i == 'J':\n",
    "            alphabetValuesPart2[9] += 1\n",
    "        elif i == 'k' or i == 'K':\n",
    "            alphabetValuesPart2[10] += 1\n",
    "        elif i == 'l' or i == 'L':\n",
    "            alphabetValuesPart2[11] += 1\n",
    "        elif i == 'm' or i == 'M':\n",
    "            alphabetValuesPart2[12] += 1\n",
    "        elif i == 'n' or i == 'N':\n",
    "            alphabetValuesPart2[13] += 1\n",
    "        elif i == 'o' or i == 'O':\n",
    "            alphabetValuesPart2[14] += 1\n",
    "        elif i == 'p' or i == 'P':\n",
    "            alphabetValuesPart2[15] += 1\n",
    "        elif i == 'q' or i == 'Q':\n",
    "            alphabetValuesPart2[16] += 1\n",
    "        elif i == 'r' or i == 'R':\n",
    "            alphabetValuesPart2[17] += 1\n",
    "        elif i == 's' or i == 'S':\n",
    "            alphabetValuesPart2[18] += 1\n",
    "        elif i == 't' or i == 'T':\n",
    "            alphabetValuesPart2[19] += 1\n",
    "        elif i == 'u' or i == 'U':\n",
    "            alphabetValuesPart2[20] += 1\n",
    "        elif i == 'v' or i == 'V':\n",
    "            alphabetValuesPart2[21] += 1\n",
    "        elif i == 'w' or i == 'W':\n",
    "            alphabetValuesPart2[22] += 1\n",
    "        elif i == 'x' or i == 'X':\n",
    "            alphabetValuesPart2[23] += 1\n",
    "        elif i == 'y' or i == 'Y':\n",
    "            alphabetValuesPart2[24] += 1\n",
    "        elif i == 'z' or i == 'Z':\n",
    "            alphabetValuesPart2[25] += 1\n",
    "    for i in range(26):\n",
    "        probabilityAlphabetPart2[i] = alphabetValuesPart2[i]/(len(txt)/6)\n",
    "    for i in range(26):\n",
    "        indAlphabetPart2[i] = probabilityAlphabetPart2[i]**2\n",
    "    for i in range(26):\n",
    "        indPart2 += indAlphabetPart2[i]\n",
    "    print(indPart2, shift2)"
   ],
   "metadata": {
    "collapsed": false,
    "pycharm": {
     "name": "#%%\n"
    }
   }
  },
  {
   "cell_type": "code",
   "execution_count": 29,
   "outputs": [
    {
     "name": "stdout",
     "output_type": "stream",
     "text": [
      "0.09285061696322254 0\n",
      "0.09285061696322254 1\n",
      "0.09285061696322254 2\n",
      "0.09285061696322253 3\n",
      "0.09285061696322255 4\n",
      "0.09285061696322253 5\n",
      "0.09285061696322255 6\n",
      "0.09285061696322254 7\n",
      "0.09285061696322255 8\n",
      "0.09285061696322255 9\n",
      "0.09285061696322254 10\n",
      "0.09285061696322253 11\n",
      "0.09285061696322254 12\n",
      "0.09285061696322254 13\n",
      "0.09285061696322254 14\n",
      "0.09285061696322253 15\n",
      "0.09285061696322253 16\n",
      "0.09285061696322255 17\n",
      "0.09285061696322253 18\n",
      "0.09285061696322254 19\n",
      "0.09285061696322254 20\n",
      "0.09285061696322255 21\n",
      "0.09285061696322255 22\n",
      "0.09285061696322253 23\n",
      "0.09285061696322253 24\n",
      "0.09285061696322254 25\n"
     ]
    }
   ],
   "source": [
    "for j in range(26):\n",
    "    indPart3 = 0\n",
    "    shift3 = j\n",
    "    for i in range(len(part3)):\n",
    "        part3[i] = shiftCipher(part3[i], shift3)\n",
    "    alphabetValuesPart3 = [0] * 26\n",
    "    probabilityAlphabetPart3 = [0] * 26\n",
    "    indAlphabetPart3 = [0] * 26\n",
    "    for i in part3:\n",
    "        if i == 'a' or i == 'A':\n",
    "            alphabetValuesPart3[0] += 1\n",
    "        elif i == 'b' or i == 'B':\n",
    "            alphabetValuesPart3[1] += 1\n",
    "        elif i == 'c' or i == 'C':\n",
    "            alphabetValuesPart3[2] += 1\n",
    "        elif i == 'd' or i == 'D':\n",
    "            alphabetValuesPart3[3] += 1\n",
    "        elif i == 'e' or i == 'E':\n",
    "            alphabetValuesPart3[4] += 1\n",
    "        elif i == 'f' or i == 'F':\n",
    "            alphabetValuesPart3[5] += 1\n",
    "        elif i == 'g' or i == 'G':\n",
    "            alphabetValuesPart3[6] += 1\n",
    "        elif i == 'h' or i == 'H':\n",
    "            alphabetValuesPart3[7] += 1\n",
    "        elif i == 'i' or i == 'I':\n",
    "            alphabetValuesPart3[8] += 1\n",
    "        elif i == 'j' or i == 'J':\n",
    "            alphabetValuesPart3[9] += 1\n",
    "        elif i == 'k' or i == 'K':\n",
    "            alphabetValuesPart3[10] += 1\n",
    "        elif i == 'l' or i == 'L':\n",
    "            alphabetValuesPart3[11] += 1\n",
    "        elif i == 'm' or i == 'M':\n",
    "            alphabetValuesPart3[12] += 1\n",
    "        elif i == 'n' or i == 'N':\n",
    "            alphabetValuesPart3[13] += 1\n",
    "        elif i == 'o' or i == 'O':\n",
    "            alphabetValuesPart3[14] += 1\n",
    "        elif i == 'p' or i == 'P':\n",
    "            alphabetValuesPart3[15] += 1\n",
    "        elif i == 'q' or i == 'Q':\n",
    "            alphabetValuesPart3[16] += 1\n",
    "        elif i == 'r' or i == 'R':\n",
    "            alphabetValuesPart3[17] += 1\n",
    "        elif i == 's' or i == 'S':\n",
    "            alphabetValuesPart3[18] += 1\n",
    "        elif i == 't' or i == 'T':\n",
    "            alphabetValuesPart3[19] += 1\n",
    "        elif i == 'u' or i == 'U':\n",
    "            alphabetValuesPart3[20] += 1\n",
    "        elif i == 'v' or i == 'V':\n",
    "            alphabetValuesPart3[21] += 1\n",
    "        elif i == 'w' or i == 'W':\n",
    "            alphabetValuesPart3[22] += 1\n",
    "        elif i == 'x' or i == 'X':\n",
    "            alphabetValuesPart3[23] += 1\n",
    "        elif i == 'y' or i == 'Y':\n",
    "            alphabetValuesPart3[24] += 1\n",
    "        elif i == 'z' or i == 'Z':\n",
    "            alphabetValuesPart3[25] += 1\n",
    "    for i in range(26):\n",
    "        probabilityAlphabetPart3[i] = alphabetValuesPart3[i] / (len(txt) / 6)\n",
    "    for i in range(26):\n",
    "        indAlphabetPart3[i] = probabilityAlphabetPart3[i] ** 2\n",
    "    for i in range(26):\n",
    "        indPart3 += indAlphabetPart3[i]\n",
    "    print(indPart3, shift3)"
   ],
   "metadata": {
    "collapsed": false,
    "pycharm": {
     "name": "#%%\n"
    }
   }
  },
  {
   "cell_type": "code",
   "execution_count": 30,
   "outputs": [
    {
     "name": "stdout",
     "output_type": "stream",
     "text": [
      "0.09538158867334709 0\n",
      "0.09538158867334708 1\n",
      "0.09538158867334709 2\n",
      "0.0953815886733471 3\n",
      "0.09538158867334709 4\n",
      "0.09538158867334708 5\n",
      "0.09538158867334708 6\n",
      "0.09538158867334709 7\n",
      "0.09538158867334709 8\n",
      "0.09538158867334708 9\n",
      "0.09538158867334709 10\n",
      "0.09538158867334706 11\n",
      "0.09538158867334709 12\n",
      "0.09538158867334708 13\n",
      "0.09538158867334708 14\n",
      "0.09538158867334708 15\n",
      "0.0953815886733471 16\n",
      "0.09538158867334708 17\n",
      "0.09538158867334708 18\n",
      "0.09538158867334709 19\n",
      "0.09538158867334709 20\n",
      "0.09538158867334708 21\n",
      "0.09538158867334708 22\n",
      "0.09538158867334708 23\n",
      "0.09538158867334706 24\n",
      "0.09538158867334708 25\n"
     ]
    }
   ],
   "source": [
    "for j in range(26):\n",
    "    indPart4 = 0\n",
    "    shift4 = j\n",
    "    for i in range(len(part4)):\n",
    "        part4[i] = shiftCipher(part4[i], shift4)\n",
    "    alphabetValuesPart4 = [0] * 26\n",
    "    probabilityAlphabetPart4 = [0] * 26\n",
    "    indAlphabetPart4 = [0] * 26\n",
    "    for i in part4:\n",
    "        if i == 'a' or i == 'A':\n",
    "            alphabetValuesPart4[0] += 1\n",
    "        elif i == 'b' or i == 'B':\n",
    "            alphabetValuesPart4[1] += 1\n",
    "        elif i == 'c' or i == 'C':\n",
    "            alphabetValuesPart4[2] += 1\n",
    "        elif i == 'd' or i == 'D':\n",
    "            alphabetValuesPart4[3] += 1\n",
    "        elif i == 'e' or i == 'E':\n",
    "            alphabetValuesPart4[4] += 1\n",
    "        elif i == 'f' or i == 'F':\n",
    "            alphabetValuesPart4[5] += 1\n",
    "        elif i == 'g' or i == 'G':\n",
    "            alphabetValuesPart4[6] += 1\n",
    "        elif i == 'h' or i == 'H':\n",
    "            alphabetValuesPart4[7] += 1\n",
    "        elif i == 'i' or i == 'I':\n",
    "            alphabetValuesPart4[8] += 1\n",
    "        elif i == 'j' or i == 'J':\n",
    "            alphabetValuesPart4[9] += 1\n",
    "        elif i == 'k' or i == 'K':\n",
    "            alphabetValuesPart4[10] += 1\n",
    "        elif i == 'l' or i == 'L':\n",
    "            alphabetValuesPart4[11] += 1\n",
    "        elif i == 'm' or i == 'M':\n",
    "            alphabetValuesPart4[12] += 1\n",
    "        elif i == 'n' or i == 'N':\n",
    "            alphabetValuesPart4[13] += 1\n",
    "        elif i == 'o' or i == 'O':\n",
    "            alphabetValuesPart4[14] += 1\n",
    "        elif i == 'p' or i == 'P':\n",
    "            alphabetValuesPart4[15] += 1\n",
    "        elif i == 'q' or i == 'Q':\n",
    "            alphabetValuesPart4[16] += 1\n",
    "        elif i == 'r' or i == 'R':\n",
    "            alphabetValuesPart4[17] += 1\n",
    "        elif i == 's' or i == 'S':\n",
    "            alphabetValuesPart4[18] += 1\n",
    "        elif i == 't' or i == 'T':\n",
    "            alphabetValuesPart4[19] += 1\n",
    "        elif i == 'u' or i == 'U':\n",
    "            alphabetValuesPart4[20] += 1\n",
    "        elif i == 'v' or i == 'V':\n",
    "            alphabetValuesPart4[21] += 1\n",
    "        elif i == 'w' or i == 'W':\n",
    "            alphabetValuesPart4[22] += 1\n",
    "        elif i == 'x' or i == 'X':\n",
    "            alphabetValuesPart4[23] += 1\n",
    "        elif i == 'y' or i == 'Y':\n",
    "            alphabetValuesPart4[24] += 1\n",
    "        elif i == 'z' or i == 'Z':\n",
    "            alphabetValuesPart4[25] += 1\n",
    "    for i in range(26):\n",
    "        probabilityAlphabetPart4[i] = alphabetValuesPart4[i] / (len(txt) / 6)\n",
    "    for i in range(26):\n",
    "        indAlphabetPart4[i] = probabilityAlphabetPart4[i] ** 2\n",
    "    for i in range(26):\n",
    "        indPart4 += indAlphabetPart4[i]\n",
    "    print(indPart4, shift4)"
   ],
   "metadata": {
    "collapsed": false,
    "pycharm": {
     "name": "#%%\n"
    }
   }
  },
  {
   "cell_type": "code",
   "execution_count": 31,
   "outputs": [
    {
     "name": "stdout",
     "output_type": "stream",
     "text": [
      "0.0963017384945423 0\n",
      "0.09630173849454228 1\n",
      "0.0963017384945423 2\n",
      "0.0963017384945423 3\n",
      "0.0963017384945423 4\n",
      "0.0963017384945423 5\n",
      "0.09630173849454228 6\n",
      "0.0963017384945423 7\n",
      "0.0963017384945423 8\n",
      "0.0963017384945423 9\n",
      "0.0963017384945423 10\n",
      "0.0963017384945423 11\n",
      "0.0963017384945423 12\n",
      "0.0963017384945423 13\n",
      "0.09630173849454228 14\n",
      "0.09630173849454228 15\n",
      "0.0963017384945423 16\n",
      "0.0963017384945423 17\n",
      "0.0963017384945423 18\n",
      "0.09630173849454228 19\n",
      "0.0963017384945423 20\n",
      "0.0963017384945423 21\n",
      "0.0963017384945423 22\n",
      "0.09630173849454228 23\n",
      "0.0963017384945423 24\n",
      "0.0963017384945423 25\n"
     ]
    }
   ],
   "source": [
    "for j in range(26):\n",
    "    indPart5 = 0\n",
    "    shift5 = j\n",
    "    for i in range(len(part5)):\n",
    "        part5[i] = shiftCipher(part5[i], shift5)\n",
    "    alphabetValuesPart5 = [0] * 26\n",
    "    probabilityAlphabetPart5 = [0] * 26\n",
    "    indAlphabetPart5 = [0] * 26\n",
    "    for i in part5:\n",
    "        if i == 'a' or i == 'A':\n",
    "            alphabetValuesPart5[0] += 1\n",
    "        elif i == 'b' or i == 'B':\n",
    "            alphabetValuesPart5[1] += 1\n",
    "        elif i == 'c' or i == 'C':\n",
    "            alphabetValuesPart5[2] += 1\n",
    "        elif i == 'd' or i == 'D':\n",
    "            alphabetValuesPart5[3] += 1\n",
    "        elif i == 'e' or i == 'E':\n",
    "            alphabetValuesPart5[4] += 1\n",
    "        elif i == 'f' or i == 'F':\n",
    "            alphabetValuesPart5[5] += 1\n",
    "        elif i == 'g' or i == 'G':\n",
    "            alphabetValuesPart5[6] += 1\n",
    "        elif i == 'h' or i == 'H':\n",
    "            alphabetValuesPart5[7] += 1\n",
    "        elif i == 'i' or i == 'I':\n",
    "            alphabetValuesPart5[8] += 1\n",
    "        elif i == 'j' or i == 'J':\n",
    "            alphabetValuesPart5[9] += 1\n",
    "        elif i == 'k' or i == 'K':\n",
    "            alphabetValuesPart5[10] += 1\n",
    "        elif i == 'l' or i == 'L':\n",
    "            alphabetValuesPart5[11] += 1\n",
    "        elif i == 'm' or i == 'M':\n",
    "            alphabetValuesPart5[12] += 1\n",
    "        elif i == 'n' or i == 'N':\n",
    "            alphabetValuesPart5[13] += 1\n",
    "        elif i == 'o' or i == 'O':\n",
    "            alphabetValuesPart5[14] += 1\n",
    "        elif i == 'p' or i == 'P':\n",
    "            alphabetValuesPart5[15] += 1\n",
    "        elif i == 'q' or i == 'Q':\n",
    "            alphabetValuesPart5[16] += 1\n",
    "        elif i == 'r' or i == 'R':\n",
    "            alphabetValuesPart5[17] += 1\n",
    "        elif i == 's' or i == 'S':\n",
    "            alphabetValuesPart5[18] += 1\n",
    "        elif i == 't' or i == 'T':\n",
    "            alphabetValuesPart5[19] += 1\n",
    "        elif i == 'u' or i == 'U':\n",
    "            alphabetValuesPart5[20] += 1\n",
    "        elif i == 'v' or i == 'V':\n",
    "            alphabetValuesPart5[21] += 1\n",
    "        elif i == 'w' or i == 'W':\n",
    "            alphabetValuesPart5[22] += 1\n",
    "        elif i == 'x' or i == 'X':\n",
    "            alphabetValuesPart5[23] += 1\n",
    "        elif i == 'y' or i == 'Y':\n",
    "            alphabetValuesPart5[24] += 1\n",
    "        elif i == 'z' or i == 'Z':\n",
    "            alphabetValuesPart5[25] += 1\n",
    "    for i in range(26):\n",
    "        probabilityAlphabetPart5[i] = alphabetValuesPart5[i] / (len(txt) / 6)\n",
    "    for i in range(26):\n",
    "        indAlphabetPart5[i] = probabilityAlphabetPart5[i] ** 2\n",
    "    for i in range(26):\n",
    "        indPart5 += indAlphabetPart5[i]\n",
    "    print(indPart5, shift5)"
   ],
   "metadata": {
    "collapsed": false,
    "pycharm": {
     "name": "#%%\n"
    }
   }
  },
  {
   "cell_type": "code",
   "execution_count": 32,
   "outputs": [
    {
     "name": "stdout",
     "output_type": "stream",
     "text": [
      "0.09405378934701976 0\n",
      "0.09405378934701977 1\n",
      "0.09405378934701976 2\n",
      "0.09405378934701977 3\n",
      "0.09405378934701977 4\n",
      "0.09405378934701977 5\n",
      "0.09405378934701975 6\n",
      "0.09405378934701977 7\n",
      "0.09405378934701977 8\n",
      "0.09405378934701977 9\n",
      "0.09405378934701976 10\n",
      "0.09405378934701977 11\n",
      "0.09405378934701976 12\n",
      "0.09405378934701979 13\n",
      "0.09405378934701977 14\n",
      "0.09405378934701977 15\n",
      "0.09405378934701977 16\n",
      "0.09405378934701976 17\n",
      "0.09405378934701977 18\n",
      "0.09405378934701977 19\n",
      "0.09405378934701977 20\n",
      "0.09405378934701976 21\n",
      "0.09405378934701977 22\n",
      "0.09405378934701977 23\n",
      "0.09405378934701977 24\n",
      "0.09405378934701979 25\n"
     ]
    }
   ],
   "source": [
    "for j in range(26):\n",
    "    indPart6 = 0\n",
    "    shift6 = j\n",
    "    for i in range(len(part6)):\n",
    "        part6[i] = shiftCipher(part6[i], shift6)\n",
    "    alphabetValuesPart6 = [0] * 26\n",
    "    probabilityAlphabetPart6 = [0] * 26\n",
    "    indAlphabetPart6 = [0] * 26\n",
    "    for i in part6:\n",
    "        if i == 'a' or i == 'A':\n",
    "            alphabetValuesPart6[0] += 1\n",
    "        elif i == 'b' or i == 'B':\n",
    "            alphabetValuesPart6[1] += 1\n",
    "        elif i == 'c' or i == 'C':\n",
    "            alphabetValuesPart6[2] += 1\n",
    "        elif i == 'd' or i == 'D':\n",
    "            alphabetValuesPart6[3] += 1\n",
    "        elif i == 'e' or i == 'E':\n",
    "            alphabetValuesPart6[4] += 1\n",
    "        elif i == 'f' or i == 'F':\n",
    "            alphabetValuesPart6[5] += 1\n",
    "        elif i == 'g' or i == 'G':\n",
    "            alphabetValuesPart6[6] += 1\n",
    "        elif i == 'h' or i == 'H':\n",
    "            alphabetValuesPart6[7] += 1\n",
    "        elif i == 'i' or i == 'I':\n",
    "            alphabetValuesPart6[8] += 1\n",
    "        elif i == 'j' or i == 'J':\n",
    "            alphabetValuesPart6[9] += 1\n",
    "        elif i == 'k' or i == 'K':\n",
    "            alphabetValuesPart6[10] += 1\n",
    "        elif i == 'l' or i == 'L':\n",
    "            alphabetValuesPart6[11] += 1\n",
    "        elif i == 'm' or i == 'M':\n",
    "            alphabetValuesPart6[12] += 1\n",
    "        elif i == 'n' or i == 'N':\n",
    "            alphabetValuesPart6[13] += 1\n",
    "        elif i == 'o' or i == 'O':\n",
    "            alphabetValuesPart6[14] += 1\n",
    "        elif i == 'p' or i == 'P':\n",
    "            alphabetValuesPart6[15] += 1\n",
    "        elif i == 'q' or i == 'Q':\n",
    "            alphabetValuesPart6[16] += 1\n",
    "        elif i == 'r' or i == 'R':\n",
    "            alphabetValuesPart6[17] += 1\n",
    "        elif i == 's' or i == 'S':\n",
    "            alphabetValuesPart6[18] += 1\n",
    "        elif i == 't' or i == 'T':\n",
    "            alphabetValuesPart6[19] += 1\n",
    "        elif i == 'u' or i == 'U':\n",
    "            alphabetValuesPart6[20] += 1\n",
    "        elif i == 'v' or i == 'V':\n",
    "            alphabetValuesPart6[21] += 1\n",
    "        elif i == 'w' or i == 'W':\n",
    "            alphabetValuesPart6[22] += 1\n",
    "        elif i == 'x' or i == 'X':\n",
    "            alphabetValuesPart6[23] += 1\n",
    "        elif i == 'y' or i == 'Y':\n",
    "            alphabetValuesPart6[24] += 1\n",
    "        elif i == 'z' or i == 'Z':\n",
    "            alphabetValuesPart6[25] += 1\n",
    "    for i in range(26):\n",
    "        probabilityAlphabetPart6[i] = alphabetValuesPart6[i] / (len(txt) / 6)\n",
    "    for i in range(26):\n",
    "        indAlphabetPart6[i] = probabilityAlphabetPart6[i] ** 2\n",
    "    for i in range(26):\n",
    "        indPart6 += indAlphabetPart6[i]\n",
    "    print(indPart6, shift6)"
   ],
   "metadata": {
    "collapsed": false,
    "pycharm": {
     "name": "#%%\n"
    }
   }
  },
  {
   "cell_type": "code",
   "execution_count": 33,
   "outputs": [],
   "source": [
    "# Hope you like it ;)"
   ],
   "metadata": {
    "collapsed": false,
    "pycharm": {
     "name": "#%%\n"
    }
   }
  }
 ],
 "metadata": {
  "kernelspec": {
   "display_name": "Python 3",
   "language": "python",
   "name": "python3"
  },
  "language_info": {
   "codemirror_mode": {
    "name": "ipython",
    "version": 2
   },
   "file_extension": ".py",
   "mimetype": "text/x-python",
   "name": "python",
   "nbconvert_exporter": "python",
   "pygments_lexer": "ipython2",
   "version": "2.7.6"
  }
 },
 "nbformat": 4,
 "nbformat_minor": 0
}