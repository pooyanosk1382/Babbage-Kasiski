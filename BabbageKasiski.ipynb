{
 "cells": [
  {
   "cell_type": "code",
   "execution_count": 232,
   "outputs": [],
   "source": [
    "# This code is developed by Pooyan :D"
   ],
   "metadata": {
    "collapsed": false,
    "pycharm": {
     "name": "#%%\n"
    }
   }
  },
  {
   "cell_type": "markdown",
   "source": [
    "# What is our goal?\n",
    "In this file we will try to decrypt the cipher text by Babbage-Kasiski test."
   ],
   "metadata": {
    "collapsed": false,
    "pycharm": {
     "name": "#%% md\n"
    }
   }
  },
  {
   "cell_type": "markdown",
   "source": [
    "# What is Babbage-Kasiski test?\n",
    "The Kasiski examination involves __looking for strings of characters that are repeated in the ciphertext__. The strings should be three characters long or more for the examination to be successful. Then, the distances between consecutive occurrences of the strings are likely to be multiples of the length of the keyword."
   ],
   "metadata": {
    "collapsed": false,
    "pycharm": {
     "name": "#%% md\n"
    }
   }
  },
  {
   "cell_type": "markdown",
   "source": [
    "# How we work?\n",
    "First, we will calculate the number of three letters combination. After that we will start Babbage-Kasiski test."
   ],
   "metadata": {
    "collapsed": false,
    "pycharm": {
     "name": "#%% md\n"
    }
   }
  },
  {
   "cell_type": "code",
   "execution_count": 233,
   "outputs": [],
   "source": [
    "import math"
   ],
   "metadata": {
    "collapsed": false,
    "pycharm": {
     "name": "#%%\n"
    }
   }
  },
  {
   "cell_type": "code",
   "execution_count": 234,
   "outputs": [
    {
     "name": "stdout",
     "output_type": "stream",
     "text": [
      "24498\n"
     ]
    }
   ],
   "source": [
    "f = open('cipherText.txt', 'r')\n",
    "txt = f.read()\n",
    "print(txt.__len__())"
   ],
   "metadata": {
    "collapsed": false,
    "pycharm": {
     "name": "#%%\n"
    }
   }
  },
  {
   "cell_type": "code",
   "execution_count": 235,
   "outputs": [
    {
     "name": "stdout",
     "output_type": "stream",
     "text": [
      "{'WSZ': 1, 'SZJ': 1, 'ZJO': 1, 'JOJ': 1, 'OJW': 1, 'JWO': 1, 'WOH': 3, 'OHQ': 1, 'HQU': 1, 'QUC': 1, 'UCB': 4, 'CBO': 2, 'BOB': 1, 'OBF': 1, 'BFO': 1, 'FOJ': 1, 'OJL': 2, 'JLO': 1, 'LOG': 2, 'OGW': 1, 'GWO': 1, 'OHG': 1, 'HGR': 1, 'GRO': 1, 'ROW': 1, 'OWD': 1, 'WDB': 1, 'DBN': 1, 'BNC': 1, 'NCI': 1, 'CIR': 2, 'IRH': 1, 'RHV': 3, 'HVC': 3, 'VCY': 2, 'CYH': 1, 'YHF': 1, 'HFA': 1, 'FAG': 1, 'AGX': 1, 'GXQ': 1, 'XQO': 2, 'QOL': 1, 'OLD': 2, 'LDB': 1, 'DBI': 1, 'BIV': 3, 'IVW': 2, 'VWQ': 1, 'WQP': 1, 'QPE': 1, 'PED': 2, 'EDX': 1, 'DXS': 1, 'XSA': 1, 'SAT': 1, 'ATK': 1, 'TKW': 1, 'KWW': 1, 'WWP': 1, 'WPP': 1, 'PPO': 1, 'POT': 2, 'OTD': 1, 'TDC': 1, 'DCR': 1, 'CRR': 1, 'RRH': 1, 'RHN': 3, 'HNC': 1, 'NCY': 1, 'CYM': 1, 'YMM': 1, 'MMU': 3, 'MUL': 1, 'ULT': 1, 'LTG': 1, 'TGM': 1, 'GMM': 2, 'MUN': 1, 'UNG': 1, 'NGS': 1, 'GSO': 1, 'SOE': 1, 'OER': 1, 'ERR': 1, 'RRP': 1, 'RPH': 1, 'PHD': 1, 'HDP': 1, 'DPO': 1, 'OTG': 1, 'TGO': 1, 'GOA': 1, 'OAK': 2, 'AKE': 1, 'KEE': 1, 'EEM': 1, 'EMZ': 1, 'MZM': 1, 'ZMP': 1, 'MPI': 1, 'PIP': 1, 'IPH': 1, 'PHL': 1, 'HLZ': 1, 'LZM': 1, 'ZMO': 1, 'MOX': 1, 'OXX': 1, 'XXK': 1, 'XKO': 1, 'KOQ': 1, 'OQG': 2, 'QGB': 1, 'GBC': 1, 'BCB': 3, 'BOE': 1, 'OEO': 1, 'EOR': 1, 'ORP': 1, 'RPG': 1, 'PGM': 1, 'MMN': 1, 'MNL': 1, 'NLD': 1, 'LDI': 3, 'DIB': 1, 'IBM': 1, 'BMT': 2, 'MTG': 1, 'TGD': 1, 'GDV': 2, 'DVI': 1, 'VIP': 1, 'IPT': 2, 'PTL': 2, 'TLD': 1, 'DIF': 1, 'IFD': 1, 'FDE': 1, 'DER': 1, 'ERA': 1, 'RAW': 1, 'AWB': 1, 'WBE': 3, 'BES': 2, 'ESK': 1, 'SKQ': 1, 'KQI': 1, 'QIH': 2, 'IHG': 2, 'HGM': 1, 'GMB': 1, 'MBC': 1, 'BCZ': 1, 'CZM': 1, 'ZME': 1, 'MEO': 1, 'EOV': 1, 'OVC': 1, 'VCU': 3, 'CUH': 1, 'UHM': 1, 'HMG': 1, 'MGR': 1, 'GRI': 1, 'RIH': 1, 'IHV': 1, 'HVG': 1, 'VGS': 1, 'GSB': 1, 'SBC': 2, 'BCS': 3, 'CSQ': 1, 'SQF': 1, 'QFA': 1, 'FAA': 1, 'AAR': 1, 'ARS': 1, 'RSG': 1, 'SGG': 1, 'GGX': 1, 'GXZ': 1, 'XZX': 1, 'ZXB': 1, 'XBI': 1, 'BIR': 2, 'IRE': 2, 'REF': 1, 'EFH': 1, 'FHW': 1, 'HWL': 2, 'WLK': 3, 'LKI': 2, 'KIA': 2, 'IAJ': 2, 'AJH': 2, 'JHS': 2, 'HSQ': 2, 'SQX': 1, 'QXF': 1, 'XFD': 1, 'FDA': 1, 'DAS': 1, 'ASR': 1, 'SRH': 1, 'CUG': 1, 'UGU': 1, 'GUR': 1, 'URB': 1, 'RBC': 2, 'BCU': 1, 'CUW': 1, 'UWA': 1, 'WAA': 1, 'AAA': 1, 'AAU': 1, 'AUS': 1, 'USS': 2, 'SSJ': 2, 'SJI': 1, 'JIG': 1, 'IGH': 1, 'GHW': 1, 'SQS': 2, 'QSY': 1, 'SYX': 1, 'YXA': 1, 'XAG': 1, 'AGF': 1, 'GFA': 1, 'FAQ': 1, 'AQN': 1, 'QNM': 1, 'NMC': 1, 'MCS': 1, 'CSR': 1, 'SRR': 1, 'RRD': 1, 'RDB': 1, 'DBL': 1, 'BLH': 1, 'LHU': 1, 'HUF': 2, 'UFI': 2, 'FIO': 1, 'IOT': 1, 'OTC': 1, 'TCE': 2, 'CEY': 2, 'EYX': 2, 'YXB': 2, 'XBU': 1, 'BUG': 1, 'UGV': 1, 'GVR': 1, 'VRV': 1, 'RVC': 1, 'VCH': 3, 'CHJ': 1, 'HJI': 1, 'JIX': 2, 'IXT': 2, 'XTG': 1, 'TGC': 1, 'GCK': 1, 'CKE': 1, 'KEG': 1, 'EGW': 1, 'GWW': 2, 'WWB': 1, 'ESN': 1, 'SNQ': 1, 'NQC': 1, 'QCI': 1, 'IRT': 1, 'RTB': 2, 'TBW': 1, 'BWO': 1, 'WOD': 1, 'ODN': 2, 'DNE': 1, 'NEA': 1, 'EAQ': 1, 'AQI': 1, 'HGD': 1, 'GDB': 1, 'DBC': 1, 'BCH': 2, 'CHY': 2, 'HYL': 1, 'YLO': 1, 'LOJ': 1, 'JLV': 3, 'LVO': 1, 'VOR': 1, 'ORX': 1, 'RXV': 1, 'XVU': 1, 'VUH': 1, 'UHV': 1, 'HVY': 1, 'VYT': 2, 'YTZ': 1, 'TZT': 1, 'ZTO': 1, 'TOB': 1, 'OBQ': 1, 'BQW': 1, 'QWU': 1, 'WUP': 1, 'UPH': 1, 'PHW': 1, 'HWR': 1, 'WRH': 1, 'CYW': 1, 'YWR': 1, 'WRM': 1, 'RMR': 1, 'MRP': 1, 'RPB': 1, 'PBG': 1, 'BGU': 1, 'GUE': 1, 'UEE': 1, 'EET': 1, 'ETW': 1, 'TWB': 1, 'WBR': 2, 'BRR': 1, 'RRB': 1, 'RBJ': 1, 'BJP': 1, 'JPZ': 1, 'PZC': 2, 'ZCB': 1, 'CBV': 2, 'BVV': 1, 'VVH': 1, 'VHF': 2, 'HFM': 1, 'FMU': 1, 'MUO': 1, 'UOA': 1, 'OAS': 1, 'ASL': 1, 'SLY': 2, 'LYN': 1, 'YNQ': 2, 'NQX': 1, 'QXT': 1, 'XTV': 1, 'TVC': 2, 'VCI': 1, 'CIF': 1, 'IFP': 1, 'FPG': 1, 'PGP': 1, 'GPY': 1, 'PYN': 1, 'YNN': 1, 'NNC': 1, 'NCO': 1, 'COG': 1, 'OGY': 1, 'GYS': 1, 'YSL': 1, 'SLD': 1, 'DIG': 2, 'IGY': 1, 'GYY': 1, 'YYV': 1, 'YVB': 1, 'VBB': 1, 'BBC': 1, 'BCR': 1, 'CRT': 1, 'RTN': 1, 'TNZ': 1, 'NZW': 1, 'ZWB': 2, 'BEA': 1, 'EAA': 1, 'AAN': 1, 'ANQ': 1, 'NQV': 1, 'QVY': 1, 'VYN': 1, 'YNP': 1, 'NPT': 1, 'PTG': 1, 'TGL': 1, 'GLW': 1, 'LWO': 1, 'OHP': 1, 'HPF': 1, 'PFS': 1, 'FSH': 1, 'SHU': 1, 'FIK': 1, 'IKV': 1, 'KVY': 1, 'YTG': 2, 'TGW': 1, 'GWS': 3, 'WSR': 1, 'SRM': 1, 'RMC': 1, 'MCB': 1, 'CBG': 2, 'BGR': 1, 'GRS': 1, 'RSP': 1, 'SPE': 1, 'PEQ': 1, 'EQM': 1, 'QMW': 1, 'MWA': 1, 'WAZ': 1, 'AZE': 1, 'ZET': 1, 'ETX': 1, 'TXB': 1, 'XBB': 1, 'BBG': 1, 'BGN': 1, 'GNG': 2, 'NGD': 1, 'GDT': 1, 'DTS': 1, 'TSC': 1, 'SCL': 1, 'CLY': 2, 'LYX': 1, 'YXY': 2, 'XYS': 2, 'YSY': 2, 'SYR': 1, 'YRN': 1, 'RNE': 3, 'NEU': 2, 'EUC': 2, 'CBR': 2, 'BRN': 1, 'CBX': 1, 'BXN': 1, 'XNA': 1, 'NAZ': 4, 'AZA': 1, 'ZAW': 1, 'AWP': 2, 'WPR': 2, 'PRD': 1, 'RDD': 1, 'DDZ': 1, 'DZC': 1, 'ZCF': 1, 'CFE': 1, 'FED': 1, 'EDA': 1, 'DAH': 1, 'AHF': 1, 'HFE': 3, 'FES': 1, 'ESG': 1, 'SGC': 2, 'GCB': 1, 'BRT': 1, 'TBI': 1, 'IVS': 2, 'VSZ': 1, 'SZA': 1, 'ZAP': 2, 'APZ': 4, 'PZB': 1, 'ZBC': 1, 'CBB': 2, 'BBN': 1, 'BNR': 1, 'NRY': 2, 'RYB': 1, 'YBM': 2, 'BMD': 1, 'MDK': 1, 'DKC': 1, 'KCC': 1, 'CCK': 1, 'CKU': 1, 'KUH': 1, 'UHB': 1, 'HBI': 2, 'VWL': 1, 'LKF': 1, 'KFI': 1, 'FIV': 1, 'VSG': 1, 'SGR': 2, 'GRN': 1, 'RNG': 2, 'NGA': 1, 'GAG': 1, 'AGY': 1, 'GYR': 2, 'YRR': 2, 'RRA': 1, 'RAC': 1, 'ACB': 1, 'CBE': 1, 'BEE': 1, 'EEA': 1, 'EAD': 1, 'ADI': 1, 'DIU': 1, 'IUF': 1, 'UFT': 1, 'FTB': 1, 'TBH': 2, 'BHZ': 1, 'HZO': 1, 'ZON': 1, 'ONB': 1, 'NBB': 1, 'BBM': 1, 'BMG': 1, 'MGZ': 1, 'GZY': 1, 'ZYP': 1, 'YPO': 1, 'POD': 1, 'ODL': 1, 'DLL': 1, 'LLR': 1, 'LRH': 1, 'RHR': 1, 'HRN': 1, 'NGO': 1, 'GOG': 1, 'OGD': 1, 'DVG': 1, 'VGO': 1, 'GOD': 2, 'ODJ': 1, 'DJI': 1, 'XTO': 1, 'TOF': 1, 'OFM': 1, 'FMB': 1, 'MBB': 1, 'BBI': 1, 'BIG': 2, 'IGC': 1, 'GCA': 2, 'CAA': 1, 'AAY': 1, 'AYA': 1, 'YAA': 1, 'AAS': 1, 'ASP': 1, 'SPA': 1, 'PAC': 1, 'ACQ': 1, 'CQC': 1, 'QCH': 1, 'CHV': 1, 'HVB': 1, 'VBH': 1, 'BHI': 1, 'HIT': 1, 'ITC': 1, 'TCP': 2, 'CPM': 1, 'PMR': 1, 'MRI': 1, 'RIC': 1, 'ICF': 1, 'CFY': 1, 'FYP': 3, 'YPY': 1, 'PYX': 1, 'SYC': 1, 'YCB': 1, 'BBD': 1, 'BDI': 1, 'DIR': 1, 'REE': 1, 'EEX': 1, 'EXH': 1, 'XHA': 1, 'HAS': 1, 'ASS': 1, 'SSG': 1, 'SGQ': 1, 'GQS': 1, 'QSW': 1, 'SWL': 1, 'WLM': 2, 'LML': 1, 'MLV': 1, 'LVS': 1, 'VSB': 1, 'CSK': 1, 'SKX': 1, 'KXU': 1, 'XUC': 1, 'UCR': 2, 'CRA': 1, 'RAY': 1, 'AYP': 1, 'YPD': 1, 'PDH': 1, 'DHM': 1, 'HMP': 1, 'MPV': 1, 'PVC': 1, 'VCA': 1, 'CAM': 1, 'AMZ': 1, 'MZA': 1, 'PZD': 1, 'ZDC': 1, 'DCA': 1, 'CAK': 1, 'AKR': 1, 'KRI': 1, 'RIL': 1, 'ILA': 1, 'LAW': 1, 'PRC': 1, 'RCZ': 1, 'CZZ': 1, 'ZZE': 1, 'ZEO': 1, 'EOB': 1, 'OBU': 1, 'BUT': 1, 'UTK': 1, 'TKF': 1, 'KFE': 1, 'FEA': 1, 'EAX': 1, 'AXV': 1, 'XVO': 1, 'VOJ': 1, 'OJF': 1, 'JFP': 1, 'FPD': 1, 'PDQ': 1, 'DQY': 1, 'QYG': 2, 'YGT': 1, 'GTK': 1, 'TKV': 1, 'KVC': 1, 'HYF': 1, 'YFN': 1, 'FNI': 1, 'NIY': 1, 'IYB': 1, 'MTS': 1, 'TSG': 1, 'CAR': 1, 'ARH': 1, 'HNI': 2, 'NIF': 1, 'IFO': 1, 'FON': 1, 'ONP': 1, 'NPE': 1, 'EDT': 1, 'DTW': 1, 'TWR': 1, 'WRX': 1, 'RXZ': 1, 'XZP': 1, 'ZPR': 1, 'PRS': 1, 'RSY': 1, 'SYL': 1, 'YLV': 1, 'LVK': 1, 'VKW': 1, 'KWB': 1, 'WBY': 1, 'BYN': 1, 'NQP': 1, 'QPY': 1, 'PYW': 1, 'YWJ': 1, 'WJL': 3, 'LVC': 2, 'VCC': 2, 'CCT': 2, 'CTD': 2, 'TDI': 2, 'IGM': 1, 'GMS': 1, 'MSJ': 1, 'SJC': 1, 'JCR': 1, 'CRF': 1, 'RFX': 1, 'FXB': 1, 'XBQ': 1, 'BQC': 1, 'QCB': 1, 'BVA': 1, 'VAZ': 2, 'AZQ': 1, 'ZQJ': 1, 'QJI': 1, 'JIA': 1, 'IAI': 2, 'AIC': 1, 'ICB': 1, 'CBU': 1, 'BUA': 1, 'UAF': 1, 'AFH': 1, 'FHH': 1, 'HHW': 1, 'HWJ': 1, 'DIP': 1, 'TLK': 1, 'LKG': 1, 'KGT': 1, 'GTU': 1, 'TUB': 1, 'UBC': 1, 'BGC': 1, 'GCN': 1, 'CNA': 1, 'NAS': 1, 'ASK': 1, 'SKG': 1, 'KGN': 1, 'GNF': 1, 'NFZ': 1, 'FZM': 1, 'ZMT': 1, 'MTC': 1, 'XBC': 1, 'BCL': 1, 'CLH': 1, 'LHV': 1, 'HVH': 1, 'VHB': 1, 'IRS': 1, 'RSN': 2, 'SNR': 1, 'RYL': 1, 'YLG': 1, 'LGM': 1, 'GMN': 1, 'MNC': 1, 'NCA': 1, 'CAQ': 1, 'AQQ': 1, 'QQT': 1, 'QTV': 1, 'TVA': 1, 'AZO': 1, 'ZOQ': 1, 'OQH': 1, 'QHB': 1, 'HBC': 1, 'CSG': 1, 'GRX': 1, 'RXO': 1, 'XOJ': 1, 'OJH': 1, 'JHO': 1, 'HOQ': 1, 'OQR': 1, 'QRH': 1, 'RHS': 1, 'HSS': 1, 'SSO': 1, 'SOL': 1, 'LDN': 1, 'DNH': 1, 'NHW': 1, 'HWB': 1, 'WBB': 1, 'BBE': 1, 'BEP': 1, 'EPT': 1, 'PTB': 1, 'BHY': 1, 'HYS': 1, 'YSN': 1, 'SNA': 1, 'AZV': 1, 'ZVC': 1, 'VCL': 1, 'LYM': 1, 'YMG': 1, 'MGM': 1, 'GMJ': 1, 'MJL': 1, 'JLN': 1, 'LNQ': 1, 'NQZ': 1, 'QZS': 1, 'ZSQ': 1, 'QSX': 1, 'SXX': 1, 'XXZ': 1, 'XZZ': 1, 'ZZY': 1, 'ZYH': 1, 'YHB': 1, 'HBA': 1, 'BAW': 1, 'AWQ': 1, 'WQI': 1, 'QII': 2, 'IIY': 1, 'IYA': 1, 'YAS': 1, 'ASA': 1, 'SAY': 1, 'AYL': 1, 'YLY': 1, 'LYL': 1, 'YLW': 1, 'LWH': 1, 'WHF': 1, 'HFX': 1, 'FXG': 1, 'XGW': 1, 'WWG': 1, 'WGD': 1, 'GDL': 1, 'DLV': 1, 'LVE': 1, 'VED': 1, 'EDW': 1, 'DWR': 1, 'WRY': 1, 'RYQ': 1, 'YQX': 1, 'QXD': 1, 'XDD': 1, 'DDG': 1, 'DGT': 1, 'GTL': 1, 'TLW': 1, 'LWW': 1, 'WWD': 1, 'WDN': 1, 'DNI': 2, 'NIG': 2, 'IGN': 2, 'GNV': 1, 'NVW': 1, 'VWN': 1, 'WNH': 2, 'NHB': 1, 'HBE': 1, 'BEL': 1, 'ELM': 1, 'LMM': 1, 'MUQ': 1, 'UQD': 1, 'QDB': 1, 'DBH': 1, 'BHP': 1, 'HPE': 1, 'PEN': 1, 'ENA': 1, 'AZM': 1, 'ZMU': 1, 'MUA': 1, 'UAA': 1, 'AAC': 1, 'ACO': 1, 'COU': 1, 'OUC': 1, 'UCT': 1, 'CTV': 2, 'CHC': 1, 'HCY': 2, 'CYP': 1, 'YPV': 1, 'PVH': 1, 'VHG': 1, 'HGW': 2, 'GWL': 1, 'LMN': 1, 'MNI': 1, 'NIQ': 1, 'IQV': 1, 'QVV': 1, 'VVW': 1, 'VWV': 1, 'WVI': 1, 'VIV': 1, 'IVH': 1, 'HFI': 1, 'FIF': 1, 'IFG': 1, 'FGO': 1, 'GNP': 1, 'NPF': 1, 'PFY': 1, 'FYT': 1, 'YTC': 1, 'CPQ': 1, 'PQY': 2, 'YGN': 1, 'GNN': 2, 'NNB': 1, 'NBO': 1, 'BOQ': 1, 'QGN': 1, 'NGW': 1, 'WSP': 1, 'SPY': 1, 'PYC': 2, 'YCX': 2, 'CXD': 1, 'XDT': 1, 'DTH': 1, 'THF': 1, 'FEN': 1, 'ENR': 2, 'NRL': 1, 'RLP': 1, 'LPY': 1, 'CXE': 1, 'XEO': 1, 'EOQ': 1, 'OQI': 2, 'QIR': 1, 'IRN': 1, 'NEQ': 1, 'EQF': 1, 'QFY': 1, 'YPL': 2, 'PLP': 2, 'LPD': 1, 'PDM': 1, 'DMY': 1, 'MYP': 1, 'LPQ': 1, 'QYC': 1, 'YCT': 1, 'CTL': 1, 'TLN': 1, 'LNO': 1, 'NOQ': 1, 'QIX': 1, 'IXN': 1, 'XNC': 1, 'NCR': 2, 'CRO': 1, 'ROR': 1, 'ORT': 1, 'RTU': 2, 'TUT': 3, 'UTS': 1, 'TSL': 1, 'LYC': 1, 'YCG': 2, 'CGH': 1, 'GHO': 1, 'HOA': 1, 'OAC': 1, 'ACT': 1, 'TVB': 1, 'VBS': 1, 'BSW': 1, 'SWY': 1, 'WYT': 1, 'TGT': 1, 'GTA': 1, 'TAD': 1, 'ADR': 1, 'DRT': 1, 'UTG': 1, 'TGS': 1, 'GSJ': 1, 'SJY': 1, 'JYE': 1, 'YEX': 1, 'EXQ': 1, 'QOJ': 1, 'OJA': 1, 'JAP': 1, 'APG': 1, 'PGC': 1, 'GCP': 1, 'CPY': 1, 'PYT': 1, 'YTF': 1, 'TFI': 1, 'FII': 1, 'IIB': 1, 'IBR': 1, 'BRS': 1, 'RSJ': 1, 'SJW': 1, 'JWW': 1, 'WWZ': 1, 'WZC': 1, 'ZCI': 1, 'CIZ': 1, 'IZE': 1, 'ZEF': 1, 'EFO': 1, 'FOA': 1, 'OAT': 1, 'ATV': 1, 'TVR': 1, 'VRW': 1, 'RWB': 1, 'BRH': 1, 'NIL': 1, 'ILW': 1, 'LWJ': 1, 'JLF': 1, 'LFI': 1, 'FIW': 1, 'IWZ': 1, 'WZJ': 1, 'ZJB': 1, 'JBR': 1, 'BRP': 1, 'RPP': 1, 'PPZ': 1, 'ZCT': 1, 'CTB': 1, 'TBQ': 1, 'BQF': 1, 'QFS': 1, 'FSY': 1, 'SYK': 1, 'YKN': 1, 'KNB': 1, 'NBC': 1, 'CHF': 1, 'FEE': 1, 'EEU': 1, 'EUI': 1, 'UIQ': 1, 'IQI': 1, 'IIA': 1, 'AIO': 1, 'IOP': 1, 'OPJ': 1, 'PJE': 1, 'JEK': 1, 'EKD': 1, 'KDJ': 1, 'DJS': 1, 'JSP': 1, 'SPT': 1, 'PTU': 1, 'UTP': 1, 'TPO': 1, 'POA': 1, 'AKB': 1, 'KBU': 1, 'BUO': 2, 'UOQ': 1, 'OQM': 1, 'QMU': 1, 'MUC': 1, 'UCA': 1, 'CAS': 1, 'ASC': 1, 'SCD': 1, 'CDF': 1, 'DFN': 1, 'FNV': 1, 'NVU': 1, 'VUC': 1, 'CRS': 1, 'SNC': 1, 'CRQ': 1, 'RQP': 1, 'QPA': 1, 'PAP': 1, 'PZW': 1, 'ZWH': 1, 'WHG': 1, 'HGN': 1, 'GNU': 1, 'NUP': 1, 'UPZ': 1, 'PZT': 1, 'ZTV': 1, 'TVO': 1, 'VOA': 1, 'OAA': 1, 'AAM': 1, 'AMF': 1, 'MFC': 1, 'FCA': 1, 'CAY': 1, 'AYX': 1, 'YXN': 1, 'XNS': 1, 'NSB': 1, 'SBI': 1, 'IGL': 1, 'GLO': 1, 'OGG': 1, 'GGR': 1, 'GRB': 1, 'BCW': 1, 'CWQ': 1, 'WQG': 1, 'QGW': 1, 'GWN': 1, 'NHG': 1, 'GWE': 1, 'WEN': 1, 'NRS': 1, 'RSH': 1, 'SHC': 1, 'CYF': 1, 'YFG': 1, 'FGT': 1, 'GTF': 1, 'TFA': 1, 'FAY': 1, 'AYT': 1, 'YTU': 1, 'TUP': 1, 'UPT': 1, 'PTH': 1, 'THC': 1, 'HCR': 1, 'CRG': 1, 'RGW': 1, 'WST': 1, 'STY': 1, 'TYC': 1, 'CGM': 1, 'GMV': 1, 'MVC': 1, 'CUC': 1, 'CBJ': 1, 'BJZ': 1, 'JZR': 1, 'ZRG': 1, 'RGN': 1, 'GNB': 1, 'NBI': 1, 'BIP': 1, 'IPZ': 1, 'PZM': 1, 'ZMW': 1, 'MWN': 1, 'WNA': 1, 'AZW': 1, 'WBO': 1, 'BOV': 1, 'OVH': 1, 'VHR': 1, 'HRF': 1, 'RFM': 1, 'FMP': 1, 'MPS': 1, 'PSQ': 1, 'SQC': 1, 'QCA': 1, 'CAZ': 1, 'AZS': 1, 'ZSK': 1, 'SKU': 1, 'KUS': 1, 'SJM': 1, 'JML': 1, 'MLL': 1, 'LLF': 1, 'LFO': 1, 'FOR': 1, 'ORH': 1, 'RHB': 1, 'HBU': 1, 'UOH': 1, 'OHR': 1, 'HRA': 1, 'RAP': 1, 'PZL': 1, 'ZLF': 1, 'LFY': 1, 'YPC': 1, 'PCT': 1, 'CTF': 1, 'TFG': 1, 'FGY': 1, 'RRW': 1, 'RWO': 1, 'WOJ': 1, 'OJG': 1, 'JGN': 1, 'NNG': 1, 'NGC': 1, 'GCI': 1, 'CIE': 1, 'IEH': 1, 'EHG': 1, 'HGX': 1, 'GXA': 1, 'XAS': 1, 'ASN': 1}\n"
     ]
    }
   ],
   "source": [
    "threeLetters = {}\n",
    "for i in range(2, 1378):\n",
    "    st = txt[i-2] + txt[i-1] + txt[i]\n",
    "    if threeLetters.get(st) is not None:\n",
    "        threeLetters.__setitem__(st, threeLetters.get(st) + 1)\n",
    "    else:\n",
    "        threeLetters.__setitem__(st, 1)\n",
    "print(threeLetters)"
   ],
   "metadata": {
    "collapsed": false,
    "pycharm": {
     "name": "#%%\n"
    }
   }
  },
  {
   "cell_type": "code",
   "execution_count": 236,
   "outputs": [
    {
     "data": {
      "text/plain": "[('UCB', 4),\n ('NAZ', 4),\n ('APZ', 4),\n ('WOH', 3),\n ('RHV', 3),\n ('HVC', 3),\n ('BIV', 3),\n ('RHN', 3),\n ('MMU', 3),\n ('BCB', 3),\n ('LDI', 3),\n ('WBE', 3),\n ('VCU', 3),\n ('BCS', 3),\n ('WLK', 3),\n ('VCH', 3),\n ('JLV', 3),\n ('GWS', 3),\n ('RNE', 3),\n ('HFE', 3),\n ('FYP', 3),\n ('WJL', 3),\n ('TUT', 3),\n ('CBO', 2),\n ('OJL', 2),\n ('LOG', 2),\n ('CIR', 2),\n ('VCY', 2),\n ('XQO', 2),\n ('OLD', 2),\n ('IVW', 2),\n ('PED', 2),\n ('POT', 2),\n ('GMM', 2),\n ('OAK', 2),\n ('OQG', 2),\n ('BMT', 2),\n ('GDV', 2),\n ('IPT', 2),\n ('PTL', 2),\n ('BES', 2),\n ('QIH', 2),\n ('IHG', 2),\n ('SBC', 2),\n ('BIR', 2),\n ('IRE', 2),\n ('HWL', 2),\n ('LKI', 2),\n ('KIA', 2),\n ('IAJ', 2),\n ('AJH', 2),\n ('JHS', 2),\n ('HSQ', 2),\n ('RBC', 2),\n ('USS', 2),\n ('SSJ', 2),\n ('SQS', 2),\n ('HUF', 2),\n ('UFI', 2),\n ('TCE', 2),\n ('CEY', 2),\n ('EYX', 2),\n ('YXB', 2),\n ('JIX', 2),\n ('IXT', 2),\n ('GWW', 2),\n ('RTB', 2),\n ('ODN', 2),\n ('BCH', 2),\n ('CHY', 2),\n ('VYT', 2),\n ('WBR', 2),\n ('PZC', 2),\n ('CBV', 2),\n ('VHF', 2),\n ('SLY', 2),\n ('YNQ', 2),\n ('TVC', 2),\n ('DIG', 2),\n ('ZWB', 2),\n ('YTG', 2),\n ('CBG', 2),\n ('GNG', 2),\n ('CLY', 2),\n ('YXY', 2),\n ('XYS', 2),\n ('YSY', 2),\n ('NEU', 2),\n ('EUC', 2),\n ('CBR', 2),\n ('AWP', 2),\n ('WPR', 2),\n ('SGC', 2),\n ('IVS', 2),\n ('ZAP', 2),\n ('CBB', 2),\n ('NRY', 2),\n ('YBM', 2),\n ('HBI', 2),\n ('SGR', 2),\n ('RNG', 2),\n ('GYR', 2),\n ('YRR', 2),\n ('TBH', 2),\n ('GOD', 2),\n ('BIG', 2),\n ('GCA', 2),\n ('TCP', 2),\n ('WLM', 2),\n ('UCR', 2),\n ('QYG', 2),\n ('HNI', 2),\n ('LVC', 2),\n ('VCC', 2),\n ('CCT', 2),\n ('CTD', 2),\n ('TDI', 2),\n ('VAZ', 2),\n ('IAI', 2),\n ('RSN', 2),\n ('QII', 2),\n ('DNI', 2),\n ('NIG', 2),\n ('IGN', 2),\n ('WNH', 2),\n ('CTV', 2),\n ('HCY', 2),\n ('HGW', 2),\n ('PQY', 2),\n ('GNN', 2),\n ('PYC', 2),\n ('YCX', 2),\n ('ENR', 2),\n ('OQI', 2),\n ('YPL', 2),\n ('PLP', 2),\n ('NCR', 2),\n ('RTU', 2),\n ('YCG', 2),\n ('BUO', 2),\n ('WSZ', 1),\n ('SZJ', 1),\n ('ZJO', 1),\n ('JOJ', 1),\n ('OJW', 1),\n ('JWO', 1),\n ('OHQ', 1),\n ('HQU', 1),\n ('QUC', 1),\n ('BOB', 1),\n ('OBF', 1),\n ('BFO', 1),\n ('FOJ', 1),\n ('JLO', 1),\n ('OGW', 1),\n ('GWO', 1),\n ('OHG', 1),\n ('HGR', 1),\n ('GRO', 1),\n ('ROW', 1),\n ('OWD', 1),\n ('WDB', 1),\n ('DBN', 1),\n ('BNC', 1),\n ('NCI', 1),\n ('IRH', 1),\n ('CYH', 1),\n ('YHF', 1),\n ('HFA', 1),\n ('FAG', 1),\n ('AGX', 1),\n ('GXQ', 1),\n ('QOL', 1),\n ('LDB', 1),\n ('DBI', 1),\n ('VWQ', 1),\n ('WQP', 1),\n ('QPE', 1),\n ('EDX', 1),\n ('DXS', 1),\n ('XSA', 1),\n ('SAT', 1),\n ('ATK', 1),\n ('TKW', 1),\n ('KWW', 1),\n ('WWP', 1),\n ('WPP', 1),\n ('PPO', 1),\n ('OTD', 1),\n ('TDC', 1),\n ('DCR', 1),\n ('CRR', 1),\n ('RRH', 1),\n ('HNC', 1),\n ('NCY', 1),\n ('CYM', 1),\n ('YMM', 1),\n ('MUL', 1),\n ('ULT', 1),\n ('LTG', 1),\n ('TGM', 1),\n ('MUN', 1),\n ('UNG', 1),\n ('NGS', 1),\n ('GSO', 1),\n ('SOE', 1),\n ('OER', 1),\n ('ERR', 1),\n ('RRP', 1),\n ('RPH', 1),\n ('PHD', 1),\n ('HDP', 1),\n ('DPO', 1),\n ('OTG', 1),\n ('TGO', 1),\n ('GOA', 1),\n ('AKE', 1),\n ('KEE', 1),\n ('EEM', 1),\n ('EMZ', 1),\n ('MZM', 1),\n ('ZMP', 1),\n ('MPI', 1),\n ('PIP', 1),\n ('IPH', 1),\n ('PHL', 1),\n ('HLZ', 1),\n ('LZM', 1),\n ('ZMO', 1),\n ('MOX', 1),\n ('OXX', 1),\n ('XXK', 1),\n ('XKO', 1),\n ('KOQ', 1),\n ('QGB', 1),\n ('GBC', 1),\n ('BOE', 1),\n ('OEO', 1),\n ('EOR', 1),\n ('ORP', 1),\n ('RPG', 1),\n ('PGM', 1),\n ('MMN', 1),\n ('MNL', 1),\n ('NLD', 1),\n ('DIB', 1),\n ('IBM', 1),\n ('MTG', 1),\n ('TGD', 1),\n ('DVI', 1),\n ('VIP', 1),\n ('TLD', 1),\n ('DIF', 1),\n ('IFD', 1),\n ('FDE', 1),\n ('DER', 1),\n ('ERA', 1),\n ('RAW', 1),\n ('AWB', 1),\n ('ESK', 1),\n ('SKQ', 1),\n ('KQI', 1),\n ('HGM', 1),\n ('GMB', 1),\n ('MBC', 1),\n ('BCZ', 1),\n ('CZM', 1),\n ('ZME', 1),\n ('MEO', 1),\n ('EOV', 1),\n ('OVC', 1),\n ('CUH', 1),\n ('UHM', 1),\n ('HMG', 1),\n ('MGR', 1),\n ('GRI', 1),\n ('RIH', 1),\n ('IHV', 1),\n ('HVG', 1),\n ('VGS', 1),\n ('GSB', 1),\n ('CSQ', 1),\n ('SQF', 1),\n ('QFA', 1),\n ('FAA', 1),\n ('AAR', 1),\n ('ARS', 1),\n ('RSG', 1),\n ('SGG', 1),\n ('GGX', 1),\n ('GXZ', 1),\n ('XZX', 1),\n ('ZXB', 1),\n ('XBI', 1),\n ('REF', 1),\n ('EFH', 1),\n ('FHW', 1),\n ('SQX', 1),\n ('QXF', 1),\n ('XFD', 1),\n ('FDA', 1),\n ('DAS', 1),\n ('ASR', 1),\n ('SRH', 1),\n ('CUG', 1),\n ('UGU', 1),\n ('GUR', 1),\n ('URB', 1),\n ('BCU', 1),\n ('CUW', 1),\n ('UWA', 1),\n ('WAA', 1),\n ('AAA', 1),\n ('AAU', 1),\n ('AUS', 1),\n ('SJI', 1),\n ('JIG', 1),\n ('IGH', 1),\n ('GHW', 1),\n ('QSY', 1),\n ('SYX', 1),\n ('YXA', 1),\n ('XAG', 1),\n ('AGF', 1),\n ('GFA', 1),\n ('FAQ', 1),\n ('AQN', 1),\n ('QNM', 1),\n ('NMC', 1),\n ('MCS', 1),\n ('CSR', 1),\n ('SRR', 1),\n ('RRD', 1),\n ('RDB', 1),\n ('DBL', 1),\n ('BLH', 1),\n ('LHU', 1),\n ('FIO', 1),\n ('IOT', 1),\n ('OTC', 1),\n ('XBU', 1),\n ('BUG', 1),\n ('UGV', 1),\n ('GVR', 1),\n ('VRV', 1),\n ('RVC', 1),\n ('CHJ', 1),\n ('HJI', 1),\n ('XTG', 1),\n ('TGC', 1),\n ('GCK', 1),\n ('CKE', 1),\n ('KEG', 1),\n ('EGW', 1),\n ('WWB', 1),\n ('ESN', 1),\n ('SNQ', 1),\n ('NQC', 1),\n ('QCI', 1),\n ('IRT', 1),\n ('TBW', 1),\n ('BWO', 1),\n ('WOD', 1),\n ('DNE', 1),\n ('NEA', 1),\n ('EAQ', 1),\n ('AQI', 1),\n ('HGD', 1),\n ('GDB', 1),\n ('DBC', 1),\n ('HYL', 1),\n ('YLO', 1),\n ('LOJ', 1),\n ('LVO', 1),\n ('VOR', 1),\n ('ORX', 1),\n ('RXV', 1),\n ('XVU', 1),\n ('VUH', 1),\n ('UHV', 1),\n ('HVY', 1),\n ('YTZ', 1),\n ('TZT', 1),\n ('ZTO', 1),\n ('TOB', 1),\n ('OBQ', 1),\n ('BQW', 1),\n ('QWU', 1),\n ('WUP', 1),\n ('UPH', 1),\n ('PHW', 1),\n ('HWR', 1),\n ('WRH', 1),\n ('CYW', 1),\n ('YWR', 1),\n ('WRM', 1),\n ('RMR', 1),\n ('MRP', 1),\n ('RPB', 1),\n ('PBG', 1),\n ('BGU', 1),\n ('GUE', 1),\n ('UEE', 1),\n ('EET', 1),\n ('ETW', 1),\n ('TWB', 1),\n ('BRR', 1),\n ('RRB', 1),\n ('RBJ', 1),\n ('BJP', 1),\n ('JPZ', 1),\n ('ZCB', 1),\n ('BVV', 1),\n ('VVH', 1),\n ('HFM', 1),\n ('FMU', 1),\n ('MUO', 1),\n ('UOA', 1),\n ('OAS', 1),\n ('ASL', 1),\n ('LYN', 1),\n ('NQX', 1),\n ('QXT', 1),\n ('XTV', 1),\n ('VCI', 1),\n ('CIF', 1),\n ('IFP', 1),\n ('FPG', 1),\n ('PGP', 1),\n ('GPY', 1),\n ('PYN', 1),\n ('YNN', 1),\n ('NNC', 1),\n ('NCO', 1),\n ('COG', 1),\n ('OGY', 1),\n ('GYS', 1),\n ('YSL', 1),\n ('SLD', 1),\n ('IGY', 1),\n ('GYY', 1),\n ('YYV', 1),\n ('YVB', 1),\n ('VBB', 1),\n ('BBC', 1),\n ('BCR', 1),\n ('CRT', 1),\n ('RTN', 1),\n ('TNZ', 1),\n ('NZW', 1),\n ('BEA', 1),\n ('EAA', 1),\n ('AAN', 1),\n ('ANQ', 1),\n ('NQV', 1),\n ('QVY', 1),\n ('VYN', 1),\n ('YNP', 1),\n ('NPT', 1),\n ('PTG', 1),\n ('TGL', 1),\n ('GLW', 1),\n ('LWO', 1),\n ('OHP', 1),\n ('HPF', 1),\n ('PFS', 1),\n ('FSH', 1),\n ('SHU', 1),\n ('FIK', 1),\n ('IKV', 1),\n ('KVY', 1),\n ('TGW', 1),\n ('WSR', 1),\n ('SRM', 1),\n ('RMC', 1),\n ('MCB', 1),\n ('BGR', 1),\n ('GRS', 1),\n ('RSP', 1),\n ('SPE', 1),\n ('PEQ', 1),\n ('EQM', 1),\n ('QMW', 1),\n ('MWA', 1),\n ('WAZ', 1),\n ('AZE', 1),\n ('ZET', 1),\n ('ETX', 1),\n ('TXB', 1),\n ('XBB', 1),\n ('BBG', 1),\n ('BGN', 1),\n ('NGD', 1),\n ('GDT', 1),\n ('DTS', 1),\n ('TSC', 1),\n ('SCL', 1),\n ('LYX', 1),\n ('SYR', 1),\n ('YRN', 1),\n ('BRN', 1),\n ('CBX', 1),\n ('BXN', 1),\n ('XNA', 1),\n ('AZA', 1),\n ('ZAW', 1),\n ('PRD', 1),\n ('RDD', 1),\n ('DDZ', 1),\n ('DZC', 1),\n ('ZCF', 1),\n ('CFE', 1),\n ('FED', 1),\n ('EDA', 1),\n ('DAH', 1),\n ('AHF', 1),\n ('FES', 1),\n ('ESG', 1),\n ('GCB', 1),\n ('BRT', 1),\n ('TBI', 1),\n ('VSZ', 1),\n ('SZA', 1),\n ('PZB', 1),\n ('ZBC', 1),\n ('BBN', 1),\n ('BNR', 1),\n ('RYB', 1),\n ('BMD', 1),\n ('MDK', 1),\n ('DKC', 1),\n ('KCC', 1),\n ('CCK', 1),\n ('CKU', 1),\n ('KUH', 1),\n ('UHB', 1),\n ('VWL', 1),\n ('LKF', 1),\n ('KFI', 1),\n ('FIV', 1),\n ('VSG', 1),\n ('GRN', 1),\n ('NGA', 1),\n ('GAG', 1),\n ('AGY', 1),\n ('RRA', 1),\n ('RAC', 1),\n ('ACB', 1),\n ('CBE', 1),\n ('BEE', 1),\n ('EEA', 1),\n ('EAD', 1),\n ('ADI', 1),\n ('DIU', 1),\n ('IUF', 1),\n ('UFT', 1),\n ('FTB', 1),\n ('BHZ', 1),\n ('HZO', 1),\n ('ZON', 1),\n ('ONB', 1),\n ('NBB', 1),\n ('BBM', 1),\n ('BMG', 1),\n ('MGZ', 1),\n ('GZY', 1),\n ('ZYP', 1),\n ('YPO', 1),\n ('POD', 1),\n ('ODL', 1),\n ('DLL', 1),\n ('LLR', 1),\n ('LRH', 1),\n ('RHR', 1),\n ('HRN', 1),\n ('NGO', 1),\n ('GOG', 1),\n ('OGD', 1),\n ('DVG', 1),\n ('VGO', 1),\n ('ODJ', 1),\n ('DJI', 1),\n ('XTO', 1),\n ('TOF', 1),\n ('OFM', 1),\n ('FMB', 1),\n ('MBB', 1),\n ('BBI', 1),\n ('IGC', 1),\n ('CAA', 1),\n ('AAY', 1),\n ('AYA', 1),\n ('YAA', 1),\n ('AAS', 1),\n ('ASP', 1),\n ('SPA', 1),\n ('PAC', 1),\n ('ACQ', 1),\n ('CQC', 1),\n ('QCH', 1),\n ('CHV', 1),\n ('HVB', 1),\n ('VBH', 1),\n ('BHI', 1),\n ('HIT', 1),\n ('ITC', 1),\n ('CPM', 1),\n ('PMR', 1),\n ('MRI', 1),\n ('RIC', 1),\n ('ICF', 1),\n ('CFY', 1),\n ('YPY', 1),\n ('PYX', 1),\n ('SYC', 1),\n ('YCB', 1),\n ('BBD', 1),\n ('BDI', 1),\n ('DIR', 1),\n ('REE', 1),\n ('EEX', 1),\n ('EXH', 1),\n ('XHA', 1),\n ('HAS', 1),\n ('ASS', 1),\n ('SSG', 1),\n ('SGQ', 1),\n ('GQS', 1),\n ('QSW', 1),\n ('SWL', 1),\n ('LML', 1),\n ('MLV', 1),\n ('LVS', 1),\n ('VSB', 1),\n ('CSK', 1),\n ('SKX', 1),\n ('KXU', 1),\n ('XUC', 1),\n ('CRA', 1),\n ('RAY', 1),\n ('AYP', 1),\n ('YPD', 1),\n ('PDH', 1),\n ('DHM', 1),\n ('HMP', 1),\n ('MPV', 1),\n ('PVC', 1),\n ('VCA', 1),\n ('CAM', 1),\n ('AMZ', 1),\n ('MZA', 1),\n ('PZD', 1),\n ('ZDC', 1),\n ('DCA', 1),\n ('CAK', 1),\n ('AKR', 1),\n ('KRI', 1),\n ('RIL', 1),\n ('ILA', 1),\n ('LAW', 1),\n ('PRC', 1),\n ('RCZ', 1),\n ('CZZ', 1),\n ('ZZE', 1),\n ('ZEO', 1),\n ('EOB', 1),\n ('OBU', 1),\n ('BUT', 1),\n ('UTK', 1),\n ('TKF', 1),\n ('KFE', 1),\n ('FEA', 1),\n ('EAX', 1),\n ('AXV', 1),\n ('XVO', 1),\n ('VOJ', 1),\n ('OJF', 1),\n ('JFP', 1),\n ('FPD', 1),\n ('PDQ', 1),\n ('DQY', 1),\n ('YGT', 1),\n ('GTK', 1),\n ('TKV', 1),\n ('KVC', 1),\n ('HYF', 1),\n ('YFN', 1),\n ('FNI', 1),\n ('NIY', 1),\n ('IYB', 1),\n ('MTS', 1),\n ('TSG', 1),\n ('CAR', 1),\n ('ARH', 1),\n ('NIF', 1),\n ('IFO', 1),\n ('FON', 1),\n ('ONP', 1),\n ('NPE', 1),\n ('EDT', 1),\n ('DTW', 1),\n ('TWR', 1),\n ('WRX', 1),\n ('RXZ', 1),\n ('XZP', 1),\n ('ZPR', 1),\n ('PRS', 1),\n ('RSY', 1),\n ('SYL', 1),\n ('YLV', 1),\n ('LVK', 1),\n ('VKW', 1),\n ('KWB', 1),\n ('WBY', 1),\n ('BYN', 1),\n ('NQP', 1),\n ('QPY', 1),\n ('PYW', 1),\n ('YWJ', 1),\n ('IGM', 1),\n ('GMS', 1),\n ('MSJ', 1),\n ('SJC', 1),\n ('JCR', 1),\n ('CRF', 1),\n ('RFX', 1),\n ('FXB', 1),\n ('XBQ', 1),\n ('BQC', 1),\n ('QCB', 1),\n ('BVA', 1),\n ('AZQ', 1),\n ('ZQJ', 1),\n ('QJI', 1),\n ('JIA', 1),\n ('AIC', 1),\n ('ICB', 1),\n ('CBU', 1),\n ('BUA', 1),\n ('UAF', 1),\n ('AFH', 1),\n ('FHH', 1),\n ('HHW', 1),\n ('HWJ', 1),\n ('DIP', 1),\n ('TLK', 1),\n ('LKG', 1),\n ('KGT', 1),\n ('GTU', 1),\n ('TUB', 1),\n ('UBC', 1),\n ('BGC', 1),\n ('GCN', 1),\n ('CNA', 1),\n ('NAS', 1),\n ('ASK', 1),\n ('SKG', 1),\n ('KGN', 1),\n ('GNF', 1),\n ('NFZ', 1),\n ('FZM', 1),\n ('ZMT', 1),\n ('MTC', 1),\n ('XBC', 1),\n ('BCL', 1),\n ('CLH', 1),\n ('LHV', 1),\n ('HVH', 1),\n ('VHB', 1),\n ('IRS', 1),\n ('SNR', 1),\n ('RYL', 1),\n ('YLG', 1),\n ('LGM', 1),\n ('GMN', 1),\n ('MNC', 1),\n ('NCA', 1),\n ('CAQ', 1),\n ('AQQ', 1),\n ('QQT', 1),\n ('QTV', 1),\n ('TVA', 1),\n ('AZO', 1),\n ('ZOQ', 1),\n ('OQH', 1),\n ('QHB', 1),\n ('HBC', 1),\n ('CSG', 1),\n ('GRX', 1),\n ('RXO', 1),\n ('XOJ', 1),\n ('OJH', 1),\n ('JHO', 1),\n ('HOQ', 1),\n ('OQR', 1),\n ('QRH', 1),\n ('RHS', 1),\n ('HSS', 1),\n ('SSO', 1),\n ('SOL', 1),\n ('LDN', 1),\n ('DNH', 1),\n ('NHW', 1),\n ('HWB', 1),\n ('WBB', 1),\n ('BBE', 1),\n ('BEP', 1),\n ('EPT', 1),\n ('PTB', 1),\n ('BHY', 1),\n ('HYS', 1),\n ('YSN', 1),\n ('SNA', 1),\n ('AZV', 1),\n ('ZVC', 1),\n ('VCL', 1),\n ('LYM', 1),\n ('YMG', 1),\n ('MGM', 1),\n ('GMJ', 1),\n ('MJL', 1),\n ('JLN', 1),\n ('LNQ', 1),\n ('NQZ', 1),\n ('QZS', 1),\n ('ZSQ', 1),\n ('QSX', 1),\n ('SXX', 1),\n ('XXZ', 1),\n ('XZZ', 1),\n ('ZZY', 1),\n ('ZYH', 1),\n ('YHB', 1),\n ('HBA', 1),\n ('BAW', 1),\n ('AWQ', 1),\n ('WQI', 1),\n ('IIY', 1),\n ('IYA', 1),\n ('YAS', 1),\n ('ASA', 1),\n ('SAY', 1),\n ('AYL', 1),\n ('YLY', 1),\n ('LYL', 1),\n ('YLW', 1),\n ('LWH', 1),\n ('WHF', 1),\n ('HFX', 1),\n ('FXG', 1),\n ('XGW', 1),\n ('WWG', 1),\n ('WGD', 1),\n ('GDL', 1),\n ('DLV', 1),\n ('LVE', 1),\n ('VED', 1),\n ('EDW', 1),\n ('DWR', 1),\n ('WRY', 1),\n ('RYQ', 1),\n ('YQX', 1),\n ('QXD', 1),\n ('XDD', 1),\n ('DDG', 1),\n ('DGT', 1),\n ('GTL', 1),\n ('TLW', 1),\n ('LWW', 1),\n ('WWD', 1),\n ('WDN', 1),\n ('GNV', 1),\n ('NVW', 1),\n ('VWN', 1),\n ('NHB', 1),\n ('HBE', 1),\n ('BEL', 1),\n ('ELM', 1),\n ('LMM', 1),\n ('MUQ', 1),\n ('UQD', 1),\n ('QDB', 1),\n ('DBH', 1),\n ('BHP', 1),\n ('HPE', 1),\n ('PEN', 1),\n ('ENA', 1),\n ('AZM', 1),\n ('ZMU', 1),\n ('MUA', 1),\n ('UAA', 1),\n ('AAC', 1),\n ('ACO', 1),\n ('COU', 1),\n ('OUC', 1),\n ('UCT', 1),\n ('CHC', 1),\n ('CYP', 1),\n ('YPV', 1),\n ('PVH', 1),\n ('VHG', 1),\n ('GWL', 1),\n ('LMN', 1),\n ('MNI', 1),\n ('NIQ', 1),\n ('IQV', 1),\n ('QVV', 1),\n ('VVW', 1),\n ('VWV', 1),\n ('WVI', 1),\n ('VIV', 1),\n ('IVH', 1),\n ('HFI', 1),\n ('FIF', 1),\n ('IFG', 1),\n ('FGO', 1),\n ('GNP', 1),\n ('NPF', 1),\n ('PFY', 1),\n ('FYT', 1),\n ('YTC', 1),\n ('CPQ', 1),\n ('YGN', 1),\n ('NNB', 1),\n ('NBO', 1),\n ('BOQ', 1),\n ('QGN', 1),\n ('NGW', 1),\n ('WSP', 1),\n ('SPY', 1),\n ('CXD', 1),\n ('XDT', 1),\n ('DTH', 1),\n ('THF', 1),\n ('FEN', 1),\n ('NRL', 1),\n ('RLP', 1),\n ('LPY', 1),\n ('CXE', 1),\n ('XEO', 1),\n ('EOQ', 1),\n ('QIR', 1),\n ('IRN', 1),\n ('NEQ', 1),\n ('EQF', 1),\n ('QFY', 1),\n ('LPD', 1),\n ('PDM', 1),\n ('DMY', 1),\n ('MYP', 1),\n ('LPQ', 1),\n ('QYC', 1),\n ('YCT', 1),\n ('CTL', 1),\n ('TLN', 1),\n ('LNO', 1),\n ('NOQ', 1),\n ('QIX', 1),\n ('IXN', 1),\n ('XNC', 1),\n ('CRO', 1),\n ('ROR', 1),\n ('ORT', 1),\n ('UTS', 1),\n ('TSL', 1),\n ('LYC', 1),\n ('CGH', 1),\n ('GHO', 1),\n ('HOA', 1),\n ('OAC', 1),\n ('ACT', 1),\n ('TVB', 1),\n ('VBS', 1),\n ('BSW', 1),\n ('SWY', 1),\n ('WYT', 1),\n ('TGT', 1),\n ('GTA', 1),\n ('TAD', 1),\n ('ADR', 1),\n ('DRT', 1),\n ('UTG', 1),\n ('TGS', 1),\n ('GSJ', 1),\n ('SJY', 1),\n ('JYE', 1),\n ('YEX', 1),\n ('EXQ', 1),\n ('QOJ', 1),\n ('OJA', 1),\n ('JAP', 1),\n ('APG', 1),\n ('PGC', 1),\n ('GCP', 1),\n ('CPY', 1),\n ('PYT', 1),\n ('YTF', 1),\n ('TFI', 1),\n ('FII', 1),\n ('IIB', 1),\n ...]"
     },
     "execution_count": 236,
     "metadata": {},
     "output_type": "execute_result"
    }
   ],
   "source": [
    "sorted(threeLetters.items(), key=lambda x : x[1], reverse=True)"
   ],
   "metadata": {
    "collapsed": false,
    "pycharm": {
     "name": "#%%\n"
    }
   }
  },
  {
   "cell_type": "code",
   "execution_count": 237,
   "outputs": [
    {
     "name": "stdout",
     "output_type": "stream",
     "text": [
      "start =  0\n",
      "485\n",
      "start =  488\n",
      "887\n",
      "start =  890\n",
      "971\n",
      "start =  974\n",
      "1313\n"
     ]
    }
   ],
   "source": [
    "indOfIHV = [0] * 4\n",
    "start = 0\n",
    "for i in range(4):\n",
    "    indOfIHV[i] = txt.index('NAZ', start)\n",
    "    print(\"start = \", start)\n",
    "    start = indOfIHV[i] + 3\n",
    "    print(indOfIHV[i])"
   ],
   "metadata": {
    "collapsed": false,
    "pycharm": {
     "name": "#%%\n"
    }
   }
  },
  {
   "cell_type": "code",
   "execution_count": 238,
   "outputs": [
    {
     "data": {
      "text/plain": "[485, 887, 971, 1313]"
     },
     "execution_count": 238,
     "metadata": {},
     "output_type": "execute_result"
    }
   ],
   "source": [
    "indOfIHV"
   ],
   "metadata": {
    "collapsed": false,
    "pycharm": {
     "name": "#%%\n"
    }
   }
  },
  {
   "cell_type": "markdown",
   "source": [
    "The ciphertext string IHV occurs in six places in the ciphertext, beginning at positions 6, 42, 516, 906, 1158, and 1170. The distances from the first occurrence to the other four occurrences are (respectively) 36, 510, 900, 1152, and 1164."
   ],
   "metadata": {
    "collapsed": false,
    "pycharm": {
     "name": "#%% md\n"
    }
   }
  },
  {
   "cell_type": "code",
   "execution_count": 239,
   "outputs": [
    {
     "data": {
      "text/plain": "6"
     },
     "execution_count": 239,
     "metadata": {},
     "output_type": "execute_result"
    }
   ],
   "source": [
    "size = math.gcd(887 - 485, 971 - 485, 1313 - 485)\n",
    "size"
   ],
   "metadata": {
    "collapsed": false,
    "pycharm": {
     "name": "#%%\n"
    }
   }
  },
  {
   "cell_type": "markdown",
   "source": [
    "So probably the key size is 6.\n",
    "Now we will partition the cipher text."
   ],
   "metadata": {
    "collapsed": false,
    "pycharm": {
     "name": "#%% md\n"
    }
   }
  },
  {
   "cell_type": "code",
   "execution_count": 240,
   "outputs": [],
   "source": [
    "part1 = []\n",
    "part2 = []\n",
    "part3 = []\n",
    "part4 = []\n",
    "part5 = []\n",
    "part6 = []\n",
    "alphabet = ['a', 'b', 'c', 'd', 'e', 'f', 'g', 'h', 'i', 'j', 'k', 'l', 'm', 'n', 'o', 'p', 'q', 'r', 's', 't', 'u', 'v', 'w', 'x', 'y', 'z']\n",
    "for i in range(len(txt)):\n",
    "    if i % 6 == 0:\n",
    "        part1.append(txt[i])\n",
    "    if i % 6 == 1:\n",
    "        part2.append(txt[i])\n",
    "    if i % 6 == 2:\n",
    "        part3.append(txt[i])\n",
    "    if i % 6 == 3:\n",
    "        part4.append(txt[i])\n",
    "    if i % 6 == 4:\n",
    "        part5.append(txt[i])\n",
    "    if i % 6 == 5:\n",
    "        part6.append(txt[i])"
   ],
   "metadata": {
    "collapsed": false,
    "pycharm": {
     "name": "#%%\n"
    }
   }
  },
  {
   "cell_type": "code",
   "execution_count": 241,
   "outputs": [
    {
     "name": "stdout",
     "output_type": "stream",
     "text": [
      "['W', 'W', 'B', 'L', 'G', 'N', 'C', 'X', 'I', 'D']\n",
      "['S', 'O', 'O', 'O', 'R', 'C', 'Y', 'Q', 'V', 'X']\n",
      "['Z', 'H', 'B', 'G', 'O', 'I', 'H', 'O', 'W', 'S']\n",
      "['J', 'Q', 'F', 'W', 'W', 'R', 'F', 'L', 'Q', 'A']\n",
      "['O', 'U', 'O', 'O', 'D', 'H', 'A', 'D', 'P', 'T']\n",
      "['J', 'C', 'J', 'H', 'B', 'V', 'G', 'B', 'E', 'K']\n"
     ]
    }
   ],
   "source": [
    "print(part1[0:10])\n",
    "print(part2[0:10])\n",
    "print(part3[0:10])\n",
    "print(part4[0:10])\n",
    "print(part5[0:10])\n",
    "print(part6[0:10])"
   ],
   "metadata": {
    "collapsed": false,
    "pycharm": {
     "name": "#%%\n"
    }
   }
  },
  {
   "cell_type": "code",
   "execution_count": 242,
   "outputs": [],
   "source": [
    "prob = [0.082, 0.015, 0.028, 0.043, 0.127, 0.022, 0.020, 0.061, 0.070, 0.002, 0.008, 0.040, 0.024, 0.067, 0.075, 0.019, 0.001, 0.060, 0.063, 0.091, 0.028, 0.010, 0.023, 0.001, 0.020, 0.001]"
   ],
   "metadata": {
    "collapsed": false,
    "pycharm": {
     "name": "#%%\n"
    }
   }
  },
  {
   "cell_type": "markdown",
   "source": [
    "Here we define a shift cipher to shift each partition."
   ],
   "metadata": {
    "collapsed": false,
    "pycharm": {
     "name": "#%% md\n"
    }
   }
  },
  {
   "cell_type": "code",
   "execution_count": 243,
   "outputs": [],
   "source": [
    "def shiftCipher(plainText, shift):\n",
    "    plainText = plainText.upper()\n",
    "    cipherText = \"\"\n",
    "    for character in plainText:\n",
    "        if character.isalpha():\n",
    "            stayInAlphabet = ord(character) + shift\n",
    "            if stayInAlphabet > ord('Z'):\n",
    "                stayInAlphabet -= 26\n",
    "            finalLetter = chr(stayInAlphabet)\n",
    "            cipherText += finalLetter\n",
    "        cipherText += \"\"\n",
    "    return cipherText"
   ],
   "metadata": {
    "collapsed": false,
    "pycharm": {
     "name": "#%%\n"
    }
   }
  },
  {
   "cell_type": "markdown",
   "source": [
    "Now check the part1."
   ],
   "metadata": {
    "collapsed": false,
    "pycharm": {
     "name": "#%% md\n"
    }
   }
  },
  {
   "cell_type": "code",
   "execution_count": 244,
   "outputs": [
    {
     "name": "stdout",
     "output_type": "stream",
     "text": [
      "['X', 'X', 'C', 'M', 'H', 'O', 'D', 'Y', 'J', 'E']\n",
      "0.03883492530002449 0\n",
      "['Y', 'Y', 'D', 'N', 'I', 'P', 'E', 'Z', 'K', 'F']\n",
      "0.03440044085231448 1\n",
      "['Z', 'Z', 'E', 'O', 'J', 'Q', 'F', 'A', 'L', 'G']\n",
      "0.035187852069556706 2\n",
      "['A', 'A', 'F', 'P', 'K', 'R', 'G', 'B', 'M', 'H']\n",
      "0.040623316189076664 3\n",
      "['B', 'B', 'G', 'Q', 'L', 'S', 'H', 'C', 'N', 'I']\n",
      "0.03828802351212343 4\n",
      "['C', 'C', 'H', 'R', 'M', 'T', 'I', 'D', 'O', 'J']\n",
      "0.03470364927749204 5\n",
      "['D', 'D', 'I', 'S', 'N', 'U', 'J', 'E', 'P', 'K']\n",
      "0.04506465833945628 6\n",
      "['E', 'E', 'J', 'T', 'O', 'V', 'K', 'F', 'Q', 'L']\n",
      "0.03334019103600295 7\n",
      "['F', 'F', 'K', 'U', 'P', 'W', 'L', 'G', 'R', 'M']\n",
      "0.030477590007347535 8\n",
      "['G', 'G', 'L', 'V', 'Q', 'X', 'M', 'H', 'S', 'N']\n",
      "0.03872079353416605 9\n",
      "['H', 'H', 'M', 'W', 'R', 'Y', 'N', 'I', 'T', 'O']\n",
      "0.06211462160176342 10\n",
      "['I', 'I', 'N', 'X', 'S', 'Z', 'O', 'J', 'U', 'P']\n",
      "0.03583982365907421 11\n",
      "['J', 'J', 'O', 'Y', 'T', 'A', 'P', 'K', 'V', 'Q']\n",
      "0.03093191280920892 12\n",
      "['K', 'K', 'P', 'Z', 'U', 'B', 'Q', 'L', 'W', 'R']\n",
      "0.03668013715405338 13\n",
      "['L', 'L', 'Q', 'A', 'V', 'C', 'R', 'M', 'X', 'S']\n",
      "0.04267058535390645 14\n",
      "['M', 'M', 'R', 'B', 'W', 'D', 'S', 'N', 'Y', 'T']\n",
      "0.0334714670585354 15\n",
      "['N', 'N', 'S', 'C', 'X', 'E', 'T', 'O', 'Z', 'U']\n",
      "0.04001959343619888 16\n",
      "['O', 'O', 'T', 'D', 'Y', 'F', 'U', 'P', 'A', 'V']\n",
      "0.042153563556208674 17\n",
      "['P', 'P', 'U', 'E', 'Z', 'G', 'V', 'Q', 'B', 'W']\n",
      "0.03360813127602253 18\n",
      "['Q', 'Q', 'V', 'F', 'A', 'H', 'W', 'R', 'C', 'X']\n",
      "0.03359857947587558 19\n",
      "['R', 'R', 'W', 'G', 'B', 'I', 'X', 'S', 'D', 'Y']\n",
      "0.03932084251775656 20\n",
      "['S', 'S', 'X', 'H', 'C', 'J', 'Y', 'T', 'E', 'Z']\n",
      "0.04319666911584619 21\n",
      "['T', 'T', 'Y', 'I', 'D', 'K', 'Z', 'U', 'F', 'A']\n",
      "0.035636296840558426 22\n",
      "['U', 'U', 'Z', 'J', 'E', 'L', 'A', 'V', 'G', 'B']\n",
      "0.03992407543472938 23\n",
      "['V', 'V', 'A', 'K', 'F', 'M', 'B', 'W', 'H', 'C']\n",
      "0.03836076414401176 24\n",
      "['W', 'W', 'B', 'L', 'G', 'N', 'C', 'X', 'I', 'D']\n",
      "0.04383149644868969 25\n"
     ]
    }
   ],
   "source": [
    "for j in range(26):\n",
    "    indPart1 = 0\n",
    "    shift1 = j\n",
    "    for i in range(len(part1)):\n",
    "        part1[i] = shiftCipher(part1[i], 1)\n",
    "    alphabetValuesPart1 = [0] * 26\n",
    "    probabilityAlphabetPart1 = [0] * 26\n",
    "    indAlphabetPart1 = [0] * 26\n",
    "    for i in part1:\n",
    "        alphabetValuesPart1[ord(i) - ord('A')] += 1\n",
    "    for i in range(26):\n",
    "        probabilityAlphabetPart1[i] = alphabetValuesPart1[i]/(len(txt)/6)\n",
    "    for i in range(26):\n",
    "        indAlphabetPart1[i] = probabilityAlphabetPart1[i]*prob[i]\n",
    "    for i in range(26):\n",
    "        indPart1 += indAlphabetPart1[i]\n",
    "    print(part1[0:10])\n",
    "    print(indPart1, shift1)"
   ],
   "metadata": {
    "collapsed": false,
    "pycharm": {
     "name": "#%%\n"
    }
   }
  },
  {
   "cell_type": "markdown",
   "source": [
    "So the first part was 10 shift."
   ],
   "metadata": {
    "collapsed": false,
    "pycharm": {
     "name": "#%% md\n"
    }
   }
  },
  {
   "cell_type": "code",
   "execution_count": 245,
   "outputs": [
    {
     "name": "stdout",
     "output_type": "stream",
     "text": [
      "['T', 'P', 'P', 'P', 'S', 'D', 'Z', 'R', 'W', 'Y']\n",
      "0.04207200587803085 0\n",
      "['U', 'Q', 'Q', 'Q', 'T', 'E', 'A', 'S', 'X', 'Z']\n",
      "0.0397705118785207 1\n",
      "['V', 'R', 'R', 'R', 'U', 'F', 'B', 'T', 'Y', 'A']\n",
      "0.03484986529512614 2\n",
      "['W', 'S', 'S', 'S', 'V', 'G', 'C', 'U', 'Z', 'B']\n",
      "0.035445995591476855 3\n",
      "['X', 'T', 'T', 'T', 'W', 'H', 'D', 'V', 'A', 'C']\n",
      "0.03996987509184422 4\n",
      "['Y', 'U', 'U', 'U', 'X', 'I', 'E', 'W', 'B', 'D']\n",
      "0.03887950036737693 5\n",
      "['Z', 'V', 'V', 'V', 'Y', 'J', 'F', 'X', 'C', 'E']\n",
      "0.0344851824638746 6\n",
      "['A', 'W', 'W', 'W', 'Z', 'K', 'G', 'Y', 'D', 'F']\n",
      "0.0449774675483713 7\n",
      "['B', 'X', 'X', 'X', 'A', 'L', 'H', 'Z', 'E', 'G']\n",
      "0.033958608866029874 8\n",
      "['C', 'Y', 'Y', 'Y', 'B', 'M', 'I', 'A', 'F', 'H']\n",
      "0.0307582659808964 9\n",
      "['D', 'Z', 'Z', 'Z', 'C', 'N', 'J', 'B', 'G', 'I']\n",
      "0.038932402645113884 10\n",
      "['E', 'A', 'A', 'A', 'D', 'O', 'K', 'C', 'H', 'J']\n",
      "0.06032451628704384 11\n",
      "['F', 'B', 'B', 'B', 'E', 'P', 'L', 'D', 'I', 'K']\n",
      "0.036870193485182466 12\n",
      "['G', 'C', 'C', 'C', 'F', 'Q', 'M', 'E', 'J', 'L']\n",
      "0.031226304188096993 13\n",
      "['H', 'D', 'D', 'D', 'G', 'R', 'N', 'F', 'K', 'M']\n",
      "0.03679451383786432 14\n",
      "['I', 'E', 'E', 'E', 'H', 'S', 'O', 'G', 'L', 'N']\n",
      "0.04236100906196424 15\n",
      "['J', 'F', 'F', 'F', 'I', 'T', 'P', 'H', 'M', 'O']\n",
      "0.03411168258633358 16\n",
      "['K', 'G', 'G', 'G', 'J', 'U', 'Q', 'I', 'N', 'P']\n",
      "0.03914303208425179 17\n",
      "['L', 'H', 'H', 'H', 'K', 'V', 'R', 'J', 'O', 'Q']\n",
      "0.042219936321332356 18\n",
      "['M', 'I', 'I', 'I', 'L', 'W', 'S', 'K', 'P', 'R']\n",
      "0.033630418809698755 19\n",
      "['N', 'J', 'J', 'J', 'M', 'X', 'T', 'L', 'Q', 'S']\n",
      "0.03345407788390888 20\n",
      "['O', 'K', 'K', 'K', 'N', 'Y', 'U', 'M', 'R', 'T']\n",
      "0.038760470242468766 21\n",
      "['P', 'L', 'L', 'L', 'O', 'Z', 'V', 'N', 'S', 'U']\n",
      "0.04329292187117316 22\n",
      "['Q', 'M', 'M', 'M', 'P', 'A', 'W', 'O', 'T', 'V']\n",
      "0.03623757041391133 23\n",
      "['R', 'N', 'N', 'N', 'Q', 'B', 'X', 'P', 'U', 'W']\n",
      "0.039942689199118295 24\n",
      "['S', 'O', 'O', 'O', 'R', 'C', 'Y', 'Q', 'V', 'X']\n",
      "0.038530982120989474 25\n"
     ]
    }
   ],
   "source": [
    "for j in range(26):\n",
    "    indPart2 = 0\n",
    "    shift2 = j\n",
    "    for i in range(len(part2)):\n",
    "        part2[i] = shiftCipher(part2[i], 1)\n",
    "    alphabetValuesPart2 = [0] * 26\n",
    "    probabilityAlphabetPart2 = [0] * 26\n",
    "    indAlphabetPart2 = [0] * 26\n",
    "    for i in part2:\n",
    "        alphabetValuesPart2[ord(i) - ord('A')] += 1\n",
    "    for i in range(26):\n",
    "        probabilityAlphabetPart2[i] = alphabetValuesPart2[i]/(len(txt)/6)\n",
    "    for i in range(26):\n",
    "        indAlphabetPart2[i] = probabilityAlphabetPart2[i]*prob[i]\n",
    "    for i in range(26):\n",
    "        indPart2 += indAlphabetPart2[i]\n",
    "    print(part2[0:10])\n",
    "    print(indPart2, shift2)"
   ],
   "metadata": {
    "collapsed": false,
    "pycharm": {
     "name": "#%%\n"
    }
   }
  },
  {
   "cell_type": "markdown",
   "source": [
    "So second part is 11."
   ],
   "metadata": {
    "collapsed": false,
    "pycharm": {
     "name": "#%% md\n"
    }
   }
  },
  {
   "cell_type": "code",
   "execution_count": 246,
   "outputs": [
    {
     "name": "stdout",
     "output_type": "stream",
     "text": [
      "['A', 'I', 'C', 'H', 'P', 'J', 'I', 'P', 'X', 'T']\n",
      "0.043078128826843004 0\n",
      "['B', 'J', 'D', 'I', 'Q', 'K', 'J', 'Q', 'Y', 'U']\n",
      "0.039888562331618915 1\n",
      "['C', 'K', 'E', 'J', 'R', 'L', 'K', 'R', 'Z', 'V']\n",
      "0.03501224589762429 2\n",
      "['D', 'L', 'F', 'K', 'S', 'M', 'L', 'S', 'A', 'W']\n",
      "0.036178545187362236 3\n",
      "['E', 'M', 'G', 'L', 'T', 'N', 'M', 'T', 'B', 'X']\n",
      "0.03953857457751653 4\n",
      "['F', 'N', 'H', 'M', 'U', 'O', 'N', 'U', 'C', 'Y']\n",
      "0.03871320107763898 5\n",
      "['G', 'O', 'I', 'N', 'V', 'P', 'O', 'V', 'D', 'Z']\n",
      "0.03533382316923831 6\n",
      "['H', 'P', 'J', 'O', 'W', 'Q', 'P', 'W', 'E', 'A']\n",
      "0.0450852314474651 7\n",
      "['I', 'Q', 'K', 'P', 'X', 'R', 'Q', 'X', 'F', 'B']\n",
      "0.03191844232182219 8\n",
      "['J', 'R', 'L', 'Q', 'Y', 'S', 'R', 'Y', 'G', 'C']\n",
      "0.030867009551800145 9\n",
      "['K', 'S', 'M', 'R', 'Z', 'T', 'S', 'Z', 'H', 'D']\n",
      "0.03912466323781533 10\n",
      "['L', 'T', 'N', 'S', 'A', 'U', 'T', 'A', 'I', 'E']\n",
      "0.06083394562821455 11\n",
      "['M', 'U', 'O', 'T', 'B', 'V', 'U', 'B', 'J', 'F']\n",
      "0.03586847905951507 12\n",
      "['N', 'V', 'P', 'U', 'C', 'W', 'V', 'C', 'K', 'G']\n",
      "0.03187607151604213 13\n",
      "['O', 'W', 'Q', 'V', 'D', 'X', 'W', 'D', 'L', 'H']\n",
      "0.03637888807249571 14\n",
      "['P', 'X', 'R', 'W', 'E', 'Y', 'X', 'E', 'M', 'I']\n",
      "0.04244379132990448 15\n",
      "['Q', 'Y', 'S', 'X', 'F', 'Z', 'Y', 'F', 'N', 'J']\n",
      "0.034505020818025964 16\n",
      "['R', 'Z', 'T', 'Y', 'G', 'A', 'Z', 'G', 'O', 'K']\n",
      "0.03984619152583885 17\n",
      "['S', 'A', 'U', 'Z', 'H', 'B', 'A', 'H', 'P', 'L']\n",
      "0.04144550575557189 18\n",
      "['T', 'B', 'V', 'A', 'I', 'C', 'B', 'I', 'Q', 'M']\n",
      "0.03350991917707568 19\n",
      "['U', 'C', 'W', 'B', 'J', 'D', 'C', 'J', 'R', 'N']\n",
      "0.033945383296595646 20\n",
      "['V', 'D', 'X', 'C', 'K', 'E', 'D', 'K', 'S', 'O']\n",
      "0.038917462650012224 21\n",
      "['W', 'E', 'Y', 'D', 'L', 'F', 'E', 'L', 'T', 'P']\n",
      "0.04275753122703894 22\n",
      "['X', 'F', 'Z', 'E', 'M', 'G', 'F', 'M', 'U', 'Q']\n",
      "0.03577761449914279 23\n",
      "['Y', 'G', 'A', 'F', 'N', 'H', 'G', 'N', 'V', 'R']\n",
      "0.039295860886602973 24\n",
      "['Z', 'H', 'B', 'G', 'O', 'I', 'H', 'O', 'W', 'S']\n",
      "0.03885990693117805 25\n"
     ]
    }
   ],
   "source": [
    "for j in range(26):\n",
    "    indPart3 = 0\n",
    "    shift3 = j\n",
    "    for i in range(len(part3)):\n",
    "        part3[i] = shiftCipher(part3[i], 1)\n",
    "    alphabetValuesPart3 = [0] * 26\n",
    "    probabilityAlphabetPart3 = [0] * 26\n",
    "    indAlphabetPart3 = [0] * 26\n",
    "    for i in part3:\n",
    "        alphabetValuesPart3[ord(i) - ord('A')] += 1\n",
    "    for i in range(26):\n",
    "        probabilityAlphabetPart3[i] = alphabetValuesPart3[i] / (len(txt) / 6)\n",
    "    for i in range(26):\n",
    "        indAlphabetPart3[i] = probabilityAlphabetPart3[i] * prob[i]\n",
    "    for i in range(26):\n",
    "        indPart3 += indAlphabetPart3[i]\n",
    "    print(part3[0:10])\n",
    "    print(indPart3, shift3)"
   ],
   "metadata": {
    "collapsed": false,
    "pycharm": {
     "name": "#%%\n"
    }
   }
  },
  {
   "cell_type": "markdown",
   "source": [
    "And it is 11."
   ],
   "metadata": {
    "collapsed": false,
    "pycharm": {
     "name": "#%% md\n"
    }
   }
  },
  {
   "cell_type": "code",
   "execution_count": 247,
   "outputs": [
    {
     "name": "stdout",
     "output_type": "stream",
     "text": [
      "['K', 'R', 'G', 'X', 'X', 'S', 'G', 'M', 'R', 'B']\n",
      "0.03950820475140828 0\n",
      "['L', 'S', 'H', 'Y', 'Y', 'T', 'H', 'N', 'S', 'C']\n",
      "0.061184668136174375 1\n",
      "['M', 'T', 'I', 'Z', 'Z', 'U', 'I', 'O', 'T', 'D']\n",
      "0.03515111437668381 2\n",
      "['N', 'U', 'J', 'A', 'A', 'V', 'J', 'P', 'U', 'E']\n",
      "0.031089639970609845 3\n",
      "['O', 'V', 'K', 'B', 'B', 'W', 'K', 'Q', 'V', 'F']\n",
      "0.03722899828557432 4\n",
      "['P', 'W', 'L', 'C', 'C', 'X', 'L', 'R', 'W', 'G']\n",
      "0.0429061964241979 5\n",
      "['Q', 'X', 'M', 'D', 'D', 'Y', 'M', 'S', 'X', 'H']\n",
      "0.03380063678667646 6\n",
      "['R', 'Y', 'N', 'E', 'E', 'Z', 'N', 'T', 'Y', 'I']\n",
      "0.03896203771736468 7\n",
      "['S', 'Z', 'O', 'F', 'F', 'A', 'O', 'U', 'Z', 'J']\n",
      "0.041496938525593934 8\n",
      "['T', 'A', 'P', 'G', 'G', 'B', 'P', 'V', 'A', 'K']\n",
      "0.0336206220915993 9\n",
      "['U', 'B', 'Q', 'H', 'H', 'C', 'Q', 'W', 'B', 'L']\n",
      "0.0339894685280431 10\n",
      "['V', 'C', 'R', 'I', 'I', 'D', 'R', 'X', 'C', 'M']\n",
      "0.039681851579720796 11\n",
      "['W', 'D', 'S', 'J', 'J', 'E', 'S', 'Y', 'D', 'N']\n",
      "0.04405853539064413 12\n",
      "['X', 'E', 'T', 'K', 'K', 'F', 'T', 'Z', 'E', 'O']\n",
      "0.03527847171197649 13\n",
      "['Y', 'F', 'U', 'L', 'L', 'G', 'U', 'A', 'F', 'P']\n",
      "0.03942419789370561 14\n",
      "['Z', 'G', 'V', 'M', 'M', 'H', 'V', 'B', 'G', 'Q']\n",
      "0.03885696791574821 15\n",
      "['A', 'H', 'W', 'N', 'N', 'I', 'W', 'C', 'H', 'R']\n",
      "0.04314254224834681 16\n",
      "['B', 'I', 'X', 'O', 'O', 'J', 'X', 'D', 'I', 'S']\n",
      "0.03956380112662258 17\n",
      "['C', 'J', 'Y', 'P', 'P', 'K', 'Y', 'E', 'J', 'T']\n",
      "0.03422581435219203 18\n",
      "['D', 'K', 'Z', 'Q', 'Q', 'L', 'Z', 'F', 'K', 'U']\n",
      "0.035400195934361986 19\n",
      "['E', 'L', 'A', 'R', 'R', 'M', 'A', 'G', 'L', 'V']\n",
      "0.039568454567719825 20\n",
      "['F', 'M', 'B', 'S', 'S', 'N', 'B', 'H', 'M', 'W']\n",
      "0.03902277736958118 21\n",
      "['G', 'N', 'C', 'T', 'T', 'O', 'C', 'I', 'N', 'X']\n",
      "0.034143277002204264 22\n",
      "['H', 'O', 'D', 'U', 'U', 'P', 'D', 'J', 'O', 'Y']\n",
      "0.04516140093068822 23\n",
      "['I', 'P', 'E', 'V', 'V', 'Q', 'E', 'K', 'P', 'Z']\n",
      "0.03313543962772471 24\n",
      "['J', 'Q', 'F', 'W', 'W', 'R', 'F', 'L', 'Q', 'A']\n",
      "0.03139774675483712 25\n"
     ]
    }
   ],
   "source": [
    "for j in range(26):\n",
    "    indPart4 = 0\n",
    "    shift4 = j\n",
    "    for i in range(len(part4)):\n",
    "        part4[i] = shiftCipher(part4[i], 1)\n",
    "    alphabetValuesPart4 = [0] * 26\n",
    "    probabilityAlphabetPart4 = [0] * 26\n",
    "    indAlphabetPart4 = [0] * 26\n",
    "    for i in part4:\n",
    "        alphabetValuesPart4[ord(i) - ord('A')] += 1\n",
    "    for i in range(26):\n",
    "        probabilityAlphabetPart4[i] = alphabetValuesPart4[i] / (len(txt) / 6)\n",
    "    for i in range(26):\n",
    "        indAlphabetPart4[i] = probabilityAlphabetPart4[i] * prob[i]\n",
    "    for i in range(26):\n",
    "        indPart4 += indAlphabetPart4[i]\n",
    "    print(part4[0:10])\n",
    "    print(indPart4, shift4)"
   ],
   "metadata": {
    "collapsed": false,
    "pycharm": {
     "name": "#%%\n"
    }
   }
  },
  {
   "cell_type": "markdown",
   "source": [
    "Ant this part is 14."
   ],
   "metadata": {
    "collapsed": false,
    "pycharm": {
     "name": "#%% md\n"
    }
   }
  },
  {
   "cell_type": "code",
   "execution_count": 248,
   "outputs": [
    {
     "name": "stdout",
     "output_type": "stream",
     "text": [
      "['P', 'V', 'P', 'P', 'E', 'I', 'B', 'E', 'Q', 'U']\n",
      "0.03682292432035268 0\n",
      "['Q', 'W', 'Q', 'Q', 'F', 'J', 'C', 'F', 'R', 'V']\n",
      "0.030579720793534167 1\n",
      "['R', 'X', 'R', 'R', 'G', 'K', 'D', 'G', 'S', 'W']\n",
      "0.03646044575067352 2\n",
      "['S', 'Y', 'S', 'S', 'H', 'L', 'E', 'H', 'T', 'X']\n",
      "0.04279696301738918 3\n",
      "['T', 'Z', 'T', 'T', 'I', 'M', 'F', 'I', 'U', 'Y']\n",
      "0.034560617193240266 4\n",
      "['U', 'A', 'U', 'U', 'J', 'N', 'G', 'J', 'V', 'Z']\n",
      "0.03898040656380112 5\n",
      "['V', 'B', 'V', 'V', 'K', 'O', 'H', 'K', 'W', 'A']\n",
      "0.04233896644624051 6\n",
      "['W', 'C', 'W', 'W', 'L', 'P', 'I', 'L', 'X', 'B']\n",
      "0.0327129561596865 7\n",
      "['X', 'D', 'X', 'X', 'M', 'Q', 'J', 'M', 'Y', 'C']\n",
      "0.03366519715895175 8\n",
      "['Y', 'E', 'Y', 'Y', 'N', 'R', 'K', 'N', 'Z', 'D']\n",
      "0.03901542983100661 9\n",
      "['Z', 'F', 'Z', 'Z', 'O', 'S', 'L', 'O', 'A', 'E']\n",
      "0.04443301493999511 10\n",
      "['A', 'G', 'A', 'A', 'P', 'T', 'M', 'P', 'B', 'F']\n",
      "0.03546167034043596 11\n",
      "['B', 'H', 'B', 'B', 'Q', 'U', 'N', 'Q', 'C', 'G']\n",
      "0.03926328679892237 12\n",
      "['C', 'I', 'C', 'C', 'R', 'V', 'O', 'R', 'D', 'H']\n",
      "0.03891036002939015 13\n",
      "['D', 'J', 'D', 'D', 'S', 'W', 'P', 'S', 'E', 'I']\n",
      "0.043203526818515796 14\n",
      "['E', 'K', 'E', 'E', 'T', 'X', 'Q', 'T', 'F', 'J']\n",
      "0.03997624295860887 15\n",
      "['F', 'L', 'F', 'F', 'U', 'Y', 'R', 'U', 'G', 'K']\n",
      "0.03540215527798188 16\n",
      "['G', 'M', 'G', 'G', 'V', 'Z', 'S', 'V', 'H', 'L']\n",
      "0.03510384521185402 17\n",
      "['H', 'N', 'H', 'H', 'W', 'A', 'T', 'W', 'I', 'M']\n",
      "0.03851432770022042 18\n",
      "['I', 'O', 'I', 'I', 'X', 'B', 'U', 'X', 'J', 'N']\n",
      "0.03902179769777124 19\n",
      "['J', 'P', 'J', 'J', 'Y', 'C', 'V', 'Y', 'K', 'O']\n",
      "0.0356470732304678 20\n",
      "['K', 'Q', 'K', 'K', 'Z', 'D', 'W', 'Z', 'L', 'P']\n",
      "0.044309576291942196 21\n",
      "['L', 'R', 'L', 'L', 'A', 'E', 'X', 'A', 'M', 'Q']\n",
      "0.03250673524369336 22\n",
      "['M', 'S', 'M', 'M', 'B', 'F', 'Y', 'B', 'N', 'R']\n",
      "0.031436933627234875 23\n",
      "['N', 'T', 'N', 'N', 'C', 'G', 'Z', 'C', 'O', 'S']\n",
      "0.03910874357090374 24\n",
      "['O', 'U', 'O', 'O', 'D', 'H', 'A', 'D', 'P', 'T']\n",
      "0.060767083027185906 25\n"
     ]
    }
   ],
   "source": [
    "for j in range(26):\n",
    "    indPart5 = 0\n",
    "    shift5 = j\n",
    "    for i in range(len(part5)):\n",
    "        part5[i] = shiftCipher(part5[i], 1)\n",
    "    alphabetValuesPart5 = [0] * 26\n",
    "    probabilityAlphabetPart5 = [0] * 26\n",
    "    indAlphabetPart5 = [0] * 26\n",
    "    for i in part5:\n",
    "        alphabetValuesPart5[ord(i) - ord('A')] += 1\n",
    "    for i in range(26):\n",
    "        probabilityAlphabetPart5[i] = alphabetValuesPart5[i] / (len(txt) / 6)\n",
    "    for i in range(26):\n",
    "        indAlphabetPart5[i] = probabilityAlphabetPart5[i] * prob[i]\n",
    "    for i in range(26):\n",
    "        indPart5 += indAlphabetPart5[i]\n",
    "    print(part5[0:10])\n",
    "    print(indPart5, shift5)"
   ],
   "metadata": {
    "collapsed": false,
    "pycharm": {
     "name": "#%%\n"
    }
   }
  },
  {
   "cell_type": "markdown",
   "source": [
    "Part 5 is 25."
   ],
   "metadata": {
    "collapsed": false,
    "pycharm": {
     "name": "#%% md\n"
    }
   }
  },
  {
   "cell_type": "code",
   "execution_count": 249,
   "outputs": [
    {
     "name": "stdout",
     "output_type": "stream",
     "text": [
      "['K', 'D', 'K', 'I', 'C', 'W', 'H', 'C', 'F', 'L']\n",
      "0.039443546411952 0\n",
      "['L', 'E', 'L', 'J', 'D', 'X', 'I', 'D', 'G', 'M']\n",
      "0.04224222385500857 1\n",
      "['M', 'F', 'M', 'K', 'E', 'Y', 'J', 'E', 'H', 'N']\n",
      "0.03962919421993632 2\n",
      "['N', 'G', 'N', 'L', 'F', 'Z', 'K', 'F', 'I', 'O']\n",
      "0.0344016654420769 3\n",
      "['O', 'H', 'O', 'M', 'G', 'A', 'L', 'G', 'J', 'P']\n",
      "0.03591721773205977 4\n",
      "['P', 'I', 'P', 'N', 'H', 'B', 'M', 'H', 'K', 'Q']\n",
      "0.03883419054616704 5\n",
      "['Q', 'J', 'Q', 'O', 'I', 'C', 'N', 'I', 'L', 'R']\n",
      "0.03888733774185648 6\n",
      "['R', 'K', 'R', 'P', 'J', 'D', 'O', 'J', 'M', 'S']\n",
      "0.034877296105804555 7\n",
      "['S', 'L', 'S', 'Q', 'K', 'E', 'P', 'K', 'N', 'T']\n",
      "0.044659808963997065 8\n",
      "['T', 'M', 'T', 'R', 'L', 'F', 'Q', 'L', 'O', 'U']\n",
      "0.03220964976732795 9\n",
      "['U', 'N', 'U', 'S', 'M', 'G', 'R', 'M', 'P', 'V']\n",
      "0.03117462650012246 10\n",
      "['V', 'O', 'V', 'T', 'N', 'H', 'S', 'N', 'Q', 'W']\n",
      "0.03922042615723733 11\n",
      "['W', 'P', 'W', 'U', 'O', 'I', 'T', 'O', 'R', 'X']\n",
      "0.061208915013470505 12\n",
      "['X', 'Q', 'X', 'V', 'P', 'J', 'U', 'P', 'S', 'Y']\n",
      "0.0363583149644869 13\n",
      "['Y', 'R', 'Y', 'W', 'Q', 'K', 'V', 'Q', 'T', 'Z']\n",
      "0.030983835415135923 14\n",
      "['Z', 'S', 'Z', 'X', 'R', 'L', 'W', 'R', 'U', 'A']\n",
      "0.0365843742346314 15\n",
      "['A', 'T', 'A', 'Y', 'S', 'M', 'X', 'S', 'V', 'B']\n",
      "0.042861621356845465 16\n",
      "['B', 'U', 'B', 'Z', 'T', 'N', 'Y', 'T', 'W', 'C']\n",
      "0.03449791819740387 17\n",
      "['C', 'V', 'C', 'A', 'U', 'O', 'Z', 'U', 'X', 'D']\n",
      "0.03853269654665686 18\n",
      "['D', 'W', 'D', 'B', 'V', 'P', 'A', 'V', 'Y', 'E']\n",
      "0.04239676708302719 19\n",
      "['E', 'X', 'E', 'C', 'W', 'Q', 'B', 'W', 'Z', 'F']\n",
      "0.033479794268919914 20\n",
      "['F', 'Y', 'F', 'D', 'X', 'R', 'C', 'X', 'A', 'G']\n",
      "0.033236345824148916 21\n",
      "['G', 'Z', 'G', 'E', 'Y', 'S', 'D', 'Y', 'B', 'H']\n",
      "0.0388226794024002 22\n",
      "['H', 'A', 'H', 'F', 'Z', 'T', 'E', 'Z', 'C', 'I']\n",
      "0.043886358070046545 23\n",
      "['I', 'B', 'I', 'G', 'A', 'U', 'F', 'A', 'D', 'J']\n",
      "0.03696130296350723 24\n",
      "['J', 'C', 'J', 'H', 'B', 'V', 'G', 'B', 'E', 'K']\n",
      "0.03969189321577271 25\n"
     ]
    }
   ],
   "source": [
    "for j in range(26):\n",
    "    indPart6 = 0\n",
    "    shift6 = j\n",
    "    for i in range(len(part6)):\n",
    "        part6[i] = shiftCipher(part6[i], 1)\n",
    "    alphabetValuesPart6 = [0] * 26\n",
    "    probabilityAlphabetPart6 = [0] * 26\n",
    "    indAlphabetPart6 = [0] * 26\n",
    "    for i in part6:\n",
    "        alphabetValuesPart6[ord(i) - ord('A')] += 1\n",
    "    for i in range(26):\n",
    "        probabilityAlphabetPart6[i] = alphabetValuesPart6[i] / (len(txt) / 6)\n",
    "    for i in range(26):\n",
    "        indAlphabetPart6[i] = probabilityAlphabetPart6[i] * prob[i]\n",
    "    for i in range(26):\n",
    "        indPart6 += indAlphabetPart6[i]\n",
    "    print(part6[0:10])\n",
    "    print(indPart6, shift6)"
   ],
   "metadata": {
    "collapsed": false,
    "pycharm": {
     "name": "#%%\n"
    }
   }
  },
  {
   "cell_type": "markdown",
   "source": [
    "And last part is 12."
   ],
   "metadata": {
    "collapsed": false,
    "pycharm": {
     "name": "#%% md\n"
    }
   }
  },
  {
   "cell_type": "code",
   "execution_count": 250,
   "outputs": [],
   "source": [
    "# Hope you like it ;)"
   ],
   "metadata": {
    "collapsed": false,
    "pycharm": {
     "name": "#%%\n"
    }
   }
  }
 ],
 "metadata": {
  "kernelspec": {
   "display_name": "Python 3",
   "language": "python",
   "name": "python3"
  },
  "language_info": {
   "codemirror_mode": {
    "name": "ipython",
    "version": 2
   },
   "file_extension": ".py",
   "mimetype": "text/x-python",
   "name": "python",
   "nbconvert_exporter": "python",
   "pygments_lexer": "ipython2",
   "version": "2.7.6"
  }
 },
 "nbformat": 4,
 "nbformat_minor": 0
}