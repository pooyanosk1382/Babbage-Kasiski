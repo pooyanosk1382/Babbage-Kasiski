{
 "cells": [
  {
   "cell_type": "code",
   "execution_count": 17,
   "outputs": [],
   "source": [
    "# This code is developed by Pooyan :D"
   ],
   "metadata": {
    "collapsed": false,
    "pycharm": {
     "name": "#%%\n"
    }
   }
  },
  {
   "cell_type": "markdown",
   "source": [
    "# What is our goal?\n",
    "In this part we focus on implementation of Vigenere encryption."
   ],
   "metadata": {
    "collapsed": false,
    "pycharm": {
     "name": "#%% md\n"
    }
   }
  },
  {
   "cell_type": "markdown",
   "source": [
    "# What is Vigenere encryption?\n",
    "The Vigenere cipher is a method of encrypting alphabetic text by using a series of interwoven Caesar ciphers, based on the letters of a keyword. It employs a form of poly alphabetic substitution."
   ],
   "metadata": {
    "collapsed": false,
    "pycharm": {
     "name": "#%% md\n"
    }
   }
  },
  {
   "cell_type": "markdown",
   "source": [
    "# How we work?\n",
    "At first, we define a function to generate a suitable key for encryption."
   ],
   "metadata": {
    "collapsed": false,
    "pycharm": {
     "name": "#%% md\n"
    }
   }
  },
  {
   "cell_type": "code",
   "execution_count": 18,
   "outputs": [],
   "source": [
    "def generateKey(string, key):\n",
    "    key = list(key)\n",
    "    if len(string) == len(key):\n",
    "        return key\n",
    "    else:\n",
    "        for i in range(len(string) - len(key)):\n",
    "            key.append(key[i % len(key)])\n",
    "    return \"\".join(key)"
   ],
   "metadata": {
    "collapsed": false,
    "pycharm": {
     "name": "#%%\n"
    }
   }
  },
  {
   "cell_type": "markdown",
   "source": [
    "Then by that key we encrypt the string."
   ],
   "metadata": {
    "collapsed": false,
    "pycharm": {
     "name": "#%% md\n"
    }
   }
  },
  {
   "cell_type": "code",
   "execution_count": 19,
   "outputs": [],
   "source": [
    "def cipherText(string, key):\n",
    "    string = string.upper()\n",
    "    key = generateKey(string, key)\n",
    "    cipher_text = []\n",
    "    for i in range(len(string)):\n",
    "        x = (ord(string[i]) + ord(key[i])) % 26\n",
    "        x += ord('A')\n",
    "        cipher_text.append(chr(x))\n",
    "    return \"\".join(cipher_text)"
   ],
   "metadata": {
    "collapsed": false,
    "pycharm": {
     "name": "#%%\n"
    }
   }
  },
  {
   "cell_type": "code",
   "execution_count": 20,
   "outputs": [
    {
     "name": "stdout",
     "output_type": "stream",
     "text": [
      "POOZBOTOSLPVHI\n"
     ]
    }
   ],
   "source": [
    "string = \"pooyan oskouhi\"\n",
    "keyword = \"AAABBB\"\n",
    "print(cipherText(string, keyword))"
   ],
   "metadata": {
    "collapsed": false,
    "pycharm": {
     "name": "#%%\n"
    }
   }
  },
  {
   "cell_type": "markdown",
   "source": [
    "Now let's try to encrypt a file and write it to another file."
   ],
   "metadata": {
    "collapsed": false,
    "pycharm": {
     "name": "#%% md\n"
    }
   }
  },
  {
   "cell_type": "code",
   "execution_count": 21,
   "outputs": [
    {
     "data": {
      "text/plain": "'One of the most important new features for this edition is the use of Sage for cryptographic\\nexamples and homework assignments. Sage is an open-source, multiplatform, freeware pack-\\nage that implements a very powerful, flexible, and easily learned mathematics and computer\\nalgebra system. Unlike competing systems (such as Mathematica, Maple, and MATLAB),\\nthere are no licensing agreements or fees involved. Thus, Sage can be made available on\\ncomputers and networks at school, and students can individually download the software to\\ntheir own personal computers for use at home. Another advantage of using Sage is that\\nstudents learn a powerful, flexible tool that can be used for virtually any mathematical\\napplication, not just cryptography.\\nThe use of Sage can make a significant difference to the teaching of the mathematics\\nof cryptographic algorithms. This book provides a large number of examples of the use of\\nSage covering many cryptographic concepts in Appendix B.\\nAppendix C lists exercises in each of these topic areas to enable the student to gain\\nhands-on experience with cryptographic algorithms. This appendix is available to instruc-\\ntors at the IRC for this book. Appendix C includes a section on how to download and get\\nstarted with Sage, a section on programming with Sage, and includes exercises that can be\\nassigned to students in the following categories:'"
     },
     "execution_count": 21,
     "metadata": {},
     "output_type": "execute_result"
    }
   ],
   "source": [
    "f = open('plainText.txt', 'r')\n",
    "plainText = f.read()\n",
    "key = 'POOYAN'\n",
    "plainText"
   ],
   "metadata": {
    "collapsed": false,
    "pycharm": {
     "name": "#%%\n"
    }
   }
  },
  {
   "cell_type": "code",
   "execution_count": 24,
   "outputs": [
    {
     "name": "stdout",
     "output_type": "stream",
     "text": [
      "DBSROSIHVCTZDGHRIZECFRAAIHBCWGUSORUETGHDOEIHVGSGTRWRIBCHWQTGWSHSSRICTRSNVSHDOEIQFWPGDUFYPUXQLCXNBDZCSGPBRRHBBSKMRXIOGQITCASLTFWHGYGRIWGRAAICDCNTHCIPCRUHASLGXDZYTSDFADTSGSSUAETHDYCXVLOEEGIVORTVBDZCMRCHGRAGKSFWTCDKSPFHATHDLRMWPJESIOBBTRPGWJYGASOPNRSHAYTUTAORIPHHOLDGRCANUGTFLYLTTPFYTFNGHCMUIIBJIXTHQMMCTHWLGGHMGREZHHPQUPWHOQTZPHVCMNIWQYFGBODJESIOBBTZPHZYBPULHFEETHOPEGCCHJIPTBGGNTIOUPERBSBRSGDFHDERHHWLVBAJSBHGIVIQFGHOUCTPPBHZEGBORCTNKOWJAOASHMNKRCANUGTFGRAASHBCTJDFYQTNIHGAHBDZTRAASHGRUQTBHQTPPBHGNQXJWBUNAZMRDBLBZMAQIHVCTFDTHUAETHHMXGWSWPTBLBHNEEHCBYLGRCANUGTFGRFBGHIQEGPHHFOZTVHYNBIVSPTNSJOLTNVSHMFGJGWLGGHOUCTVHHHFAGMGHSDRCHGRLRPFBRAGECKCRSJZTRFYTLWZLRIHCMLGIVORTPPBHZEGJGSBTSDFHTIEIIOJLLIOBWTZPHVCMNIWQYLKPDDJIPPHWMNSIBCRTWJGHRCENDHMGEPDVWHKIVSRUFTHCDTFPUSRCNCHAYKRIOHQITCWTGCNCHHBISUSFCNPTHHMTGWSHRENRVWLGGDTHRHRIAORHRBOHGCFMCTRCENDHMGEPDVGCGPZUMRVIVAQHGIVWQTODCYRPEDJWBEFIOHJAEVSHLUZQSFROSISLYMCASGROSIHVCTHHSHMFKHOUCTPDJSPIAVHAYNLIQFWPGDUFYPUXQHAOARSDRSGXBHYPCTBRGXGQVLYPCTBRGXGRHZGSGHHSVEERWGCSGXBHCAPWHCDTGWSGCTGDDWATNGSOQTGDHSLAOASHRHRIGHSDRCHHROGVOWLXUPBRQGBCHSVPRGWSLCRIKWRHGRFMNTBVFONHVRHOJGBGWHFMFWHHFIFIODNEASWLRIFIOJYIYPPZCTGDHWLSGGIQEXGDFGRAGIHVCTVGQHDOEIHVGSGQCCIHGPDDCNQXLHATVCQZSDRHHORSRRHWMNGDBHFOJIHCRDBLBZMAQIOBBTTTHLQTNGHSBTJXHVRSNVSTRAGHSQRIBCHCLTCGCUPAZBWBETJXHVRSNVSTRAASHWLCYJRSQTRMSFAIFTGHRHNIHQYNGQSLYSFXUBCDGICHQTHSSBRSGXBHRHRITCJLBLWBETPPHSEOEXSGR\n"
     ]
    }
   ],
   "source": [
    "cipher = cipherText(plainText, 'POOYAN')\n",
    "print(cipher)"
   ],
   "metadata": {
    "collapsed": false,
    "pycharm": {
     "name": "#%%\n"
    }
   }
  },
  {
   "cell_type": "code",
   "execution_count": 28,
   "outputs": [
    {
     "data": {
      "text/plain": "1378"
     },
     "execution_count": 28,
     "metadata": {},
     "output_type": "execute_result"
    }
   ],
   "source": [
    "w = open(\"cipherText.txt\", 'w')\n",
    "w.write(cipher)"
   ],
   "metadata": {
    "collapsed": false,
    "pycharm": {
     "name": "#%%\n"
    }
   }
  },
  {
   "cell_type": "markdown",
   "source": [
    "End of this part.\n",
    "In other parts first, we will calculate the indices of each letter and after that by that we will decrypt this cipher text."
   ],
   "metadata": {
    "collapsed": false,
    "pycharm": {
     "name": "#%% md\n"
    }
   }
  },
  {
   "cell_type": "code",
   "execution_count": 23,
   "outputs": [],
   "source": [
    "# Hope you like it ;)"
   ],
   "metadata": {
    "collapsed": false,
    "pycharm": {
     "name": "#%%\n"
    }
   }
  }
 ],
 "metadata": {
  "kernelspec": {
   "display_name": "Python 3",
   "language": "python",
   "name": "python3"
  },
  "language_info": {
   "codemirror_mode": {
    "name": "ipython",
    "version": 2
   },
   "file_extension": ".py",
   "mimetype": "text/x-python",
   "name": "python",
   "nbconvert_exporter": "python",
   "pygments_lexer": "ipython2",
   "version": "2.7.6"
  }
 },
 "nbformat": 4,
 "nbformat_minor": 0
}